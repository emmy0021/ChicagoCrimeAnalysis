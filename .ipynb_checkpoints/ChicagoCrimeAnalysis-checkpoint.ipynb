{
 "cells": [
  {
   "cell_type": "code",
   "execution_count": 4,
   "metadata": {
    "scrolled": true
   },
   "outputs": [
    {
     "name": "stdout",
     "output_type": "stream",
     "text": [
      "Requirement already satisfied: sodapy in c:\\users\\tony\\anaconda3\\lib\\site-packages (2.1.0)\n",
      "Requirement already satisfied: requests>=2.20.0 in c:\\users\\tony\\anaconda3\\lib\\site-packages (from sodapy) (2.24.0)\n",
      "Requirement already satisfied: chardet<4,>=3.0.2 in c:\\users\\tony\\anaconda3\\lib\\site-packages (from requests>=2.20.0->sodapy) (3.0.4)\n",
      "Requirement already satisfied: urllib3!=1.25.0,!=1.25.1,<1.26,>=1.21.1 in c:\\users\\tony\\anaconda3\\lib\\site-packages (from requests>=2.20.0->sodapy) (1.25.9)\n",
      "Requirement already satisfied: idna<3,>=2.5 in c:\\users\\tony\\anaconda3\\lib\\site-packages (from requests>=2.20.0->sodapy) (2.10)\n",
      "Requirement already satisfied: certifi>=2017.4.17 in c:\\users\\tony\\anaconda3\\lib\\site-packages (from requests>=2.20.0->sodapy) (2020.6.20)\n",
      "Requirement already satisfied: geopandas in c:\\users\\tony\\anaconda3\\lib\\site-packages (0.8.1)\n",
      "Requirement already satisfied: pyproj>=2.2.0 in c:\\users\\tony\\anaconda3\\lib\\site-packages (from geopandas) (3.0.0.post1)\n",
      "Requirement already satisfied: fiona in c:\\users\\tony\\anaconda3\\lib\\site-packages (from geopandas) (1.8.17)\n",
      "Requirement already satisfied: pandas>=0.23.0 in c:\\users\\tony\\anaconda3\\lib\\site-packages (from geopandas) (1.0.5)\n",
      "Requirement already satisfied: shapely in c:\\users\\tony\\anaconda3\\lib\\site-packages (from geopandas) (1.7.1)\n",
      "Requirement already satisfied: certifi in c:\\users\\tony\\anaconda3\\lib\\site-packages (from pyproj>=2.2.0->geopandas) (2020.6.20)\n",
      "Requirement already satisfied: cligj>=0.5 in c:\\users\\tony\\anaconda3\\lib\\site-packages (from fiona->geopandas) (0.7.0)\n",
      "Requirement already satisfied: attrs>=17 in c:\\users\\tony\\anaconda3\\lib\\site-packages (from fiona->geopandas) (19.3.0)\n",
      "Requirement already satisfied: six>=1.7 in c:\\users\\tony\\anaconda3\\lib\\site-packages (from fiona->geopandas) (1.15.0)\n",
      "Requirement already satisfied: gdal~=3.1.2 in c:\\users\\tony\\anaconda3\\lib\\site-packages (from fiona->geopandas) (3.1.4)\n",
      "Requirement already satisfied: munch in c:\\users\\tony\\anaconda3\\lib\\site-packages (from fiona->geopandas) (2.5.0)\n",
      "Requirement already satisfied: click-plugins>=1.0 in c:\\users\\tony\\anaconda3\\lib\\site-packages (from fiona->geopandas) (1.1.1)\n",
      "Requirement already satisfied: click>=4.0 in c:\\users\\tony\\anaconda3\\lib\\site-packages (from fiona->geopandas) (7.1.2)\n",
      "Requirement already satisfied: python-dateutil>=2.6.1 in c:\\users\\tony\\anaconda3\\lib\\site-packages (from pandas>=0.23.0->geopandas) (2.8.1)\n",
      "Requirement already satisfied: numpy>=1.13.3 in c:\\users\\tony\\anaconda3\\lib\\site-packages (from pandas>=0.23.0->geopandas) (1.18.5)\n",
      "Requirement already satisfied: pytz>=2017.2 in c:\\users\\tony\\anaconda3\\lib\\site-packages (from pandas>=0.23.0->geopandas) (2020.1)\n"
     ]
    }
   ],
   "source": [
    "!pip install sodapy\n",
    "!pip install geopandas"
   ]
  },
  {
   "cell_type": "code",
   "execution_count": null,
   "metadata": {},
   "outputs": [],
   "source": []
  },
  {
   "cell_type": "code",
   "execution_count": 112,
   "metadata": {},
   "outputs": [
    {
     "name": "stderr",
     "output_type": "stream",
     "text": [
      "WARNING:root:Requests made without an app_token will be subject to strict throttling limits.\n"
     ]
    }
   ],
   "source": [
    "# Snippet from: https://dev.socrata.com/foundry/data.cityofchicago.org/d62x-nvdr\n",
    "from sodapy import Socrata\n",
    "# Unauthenticated client only works with public data sets. Note 'None'\n",
    "# in place of application token, and no username or password:\n",
    "client = Socrata(\"data.cityofchicago.org\", None)\n",
    "\n",
    "# Example authenticated client (needed for non-public datasets):\n",
    "# client = Socrata(data.cityofchicago.org,\n",
    "#                  MyAppToken,\n",
    "#                  userame=\"user@example.com\",\n",
    "#                  password=\"AFakePassword\")\n",
    "\n",
    "# results returned as JSON from API / converted to Python list of\n",
    "# dictionaries by sodapy.\n",
    "\n",
    "from_2020 = \"qzdf-xmn8\"\n",
    "from_2019 = \"w98m-zvie\"\n",
    "from_2018 = \"3i3m-jwuy\"\n",
    "from_2017 = \"d62x-nvdr\"\n",
    "crimes = client.get(from_2020, limit=500)\n",
    "\n",
    "# Convert to pandas DataFrame\n",
    "crimes_df = pd.DataFrame.from_records(crimes)\n",
    "\n",
    "# Population of Chicago 2020 = 2694240 "
   ]
  },
  {
   "cell_type": "code",
   "execution_count": 116,
   "metadata": {},
   "outputs": [],
   "source": [
    "import pandas as pd"
   ]
  },
  {
   "cell_type": "code",
   "execution_count": null,
   "metadata": {},
   "outputs": [],
   "source": [
    "data = pd.read_csv(\"C:\\\\Users\\\\Tony\\\\Downloads\\\\Crimes_-_2001_to_Present.csv\")"
   ]
  },
  {
   "cell_type": "code",
   "execution_count": 11,
   "metadata": {},
   "outputs": [],
   "source": [
    "data2 = pd.read_csv(\"./below_poverty_level_by_community.csv\")"
   ]
  },
  {
   "cell_type": "code",
   "execution_count": 138,
   "metadata": {},
   "outputs": [
    {
     "name": "stdout",
     "output_type": "stream",
     "text": [
      "               ID Case Number                    Date                 Block  \\\n",
      "0        11034701    JA366925  01/01/2001 11:00:00 AM       016XX E 86TH PL   \n",
      "1        11227287    JB147188  10/08/2017 03:00:00 AM    092XX S RACINE AVE   \n",
      "2        11227583    JB147595  03/28/2017 02:00:00 PM       026XX W 79TH ST   \n",
      "3        11227293    JB147230  09/09/2017 08:17:00 PM  060XX S EBERHART AVE   \n",
      "4        11227634    JB147599  08/26/2017 10:00:00 AM   001XX W RANDOLPH ST   \n",
      "...           ...         ...                     ...                   ...   \n",
      "7221321  11700926    JC279725  05/26/2019 05:13:00 PM  036XX W DOUGLAS BLVD   \n",
      "7221322     24560    JC279072  05/26/2019 06:48:00 AM   013XX W HASTINGS ST   \n",
      "7221323  11707734    JC287730  07/01/2014 07:30:00 AM   063XX S NORMAL BLVD   \n",
      "7221324  11707239    JC287563  11/30/2017 09:00:00 AM   022XX S KOSTNER AVE   \n",
      "7221325     24559    JC278908  05/26/2019 02:11:00 AM   013XX W HASTINGS ST   \n",
      "\n",
      "         IUCR         Primary Type                          Description  \\\n",
      "0        1153   DECEPTIVE PRACTICE  FINANCIAL IDENTITY THEFT OVER $ 300   \n",
      "1        0281  CRIM SEXUAL ASSAULT                       NON-AGGRAVATED   \n",
      "2        0620             BURGLARY                       UNLAWFUL ENTRY   \n",
      "3        0810                THEFT                            OVER $500   \n",
      "4        0281  CRIM SEXUAL ASSAULT                       NON-AGGRAVATED   \n",
      "...       ...                  ...                                  ...   \n",
      "7221321  2825        OTHER OFFENSE              HARASSMENT BY TELEPHONE   \n",
      "7221322  0110             HOMICIDE                  FIRST DEGREE MURDER   \n",
      "7221323  1153   DECEPTIVE PRACTICE  FINANCIAL IDENTITY THEFT OVER $ 300   \n",
      "7221324  1153   DECEPTIVE PRACTICE  FINANCIAL IDENTITY THEFT OVER $ 300   \n",
      "7221325  0110             HOMICIDE                  FIRST DEGREE MURDER   \n",
      "\n",
      "        Location Description  Arrest  Domestic  ...  Ward  Community Area  \\\n",
      "0                  RESIDENCE   False     False  ...   8.0            45.0   \n",
      "1                  RESIDENCE   False     False  ...  21.0            73.0   \n",
      "2                      OTHER   False     False  ...  18.0            70.0   \n",
      "3                  RESIDENCE   False     False  ...  20.0            42.0   \n",
      "4                HOTEL/MOTEL   False     False  ...  42.0            32.0   \n",
      "...                      ...     ...       ...  ...   ...             ...   \n",
      "7221321            APARTMENT   False      True  ...  24.0            29.0   \n",
      "7221322      CHA PARKING LOT    True     False  ...  25.0            28.0   \n",
      "7221323                  NaN   False     False  ...  20.0            68.0   \n",
      "7221324            RESIDENCE   False     False  ...  22.0            29.0   \n",
      "7221325               STREET   False     False  ...  25.0            28.0   \n",
      "\n",
      "         FBI Code  X Coordinate Y Coordinate  Year              Updated On  \\\n",
      "0              11           NaN          NaN  2001  08/05/2017 03:50:08 PM   \n",
      "1              02           NaN          NaN  2017  02/11/2018 03:57:41 PM   \n",
      "2              05           NaN          NaN  2017  02/11/2018 03:57:41 PM   \n",
      "3              06           NaN          NaN  2017  02/11/2018 03:57:41 PM   \n",
      "4              02           NaN          NaN  2017  02/11/2018 03:57:41 PM   \n",
      "...           ...           ...          ...   ...                     ...   \n",
      "7221321        26     1152126.0    1893208.0  2019  06/30/2019 03:56:27 PM   \n",
      "7221322       01A     1167752.0    1893853.0  2019  06/20/2020 03:48:45 PM   \n",
      "7221323        11           NaN          NaN  2014  06/02/2019 04:09:42 PM   \n",
      "7221324        11           NaN          NaN  2017  06/02/2019 04:09:42 PM   \n",
      "7221325       01A     1167746.0    1893853.0  2019  06/20/2020 03:48:45 PM   \n",
      "\n",
      "          Latitude  Longitude                       Location  \n",
      "0              NaN        NaN                            NaN  \n",
      "1              NaN        NaN                            NaN  \n",
      "2              NaN        NaN                            NaN  \n",
      "3              NaN        NaN                            NaN  \n",
      "4              NaN        NaN                            NaN  \n",
      "...            ...        ...                            ...  \n",
      "7221321  41.862830 -87.717040  (41.862830429, -87.717040084)  \n",
      "7221322  41.864278 -87.659660  (41.864278228, -87.659660218)  \n",
      "7221323        NaN        NaN                            NaN  \n",
      "7221324        NaN        NaN                            NaN  \n",
      "7221325  41.864278 -87.659682  (41.864278357, -87.659682244)  \n",
      "\n",
      "[7221326 rows x 22 columns]\n"
     ]
    }
   ],
   "source": [
    "df = data[data['Latitude'].notna()]\n",
    "df = df[df['Longitude'].notna()]\n",
    "df = df[df['Community Area'].notna()]\n",
    "violent_crime = ['CRIM SEXUAL ASSAULT', 'CRIMINAL SEXUAL ASSAULT','BATTERY', 'ASSAULT', 'ROBBERY', 'ARSON', 'HOMICIDE', 'DOMESTIC VIOLENCE']\n",
    "\n",
    "print(data)"
   ]
  },
  {
   "cell_type": "markdown",
   "metadata": {},
   "source": [
    "for i in range(1, 77):\n",
    "    total_in_area = data2[data2['Community Area Number'] == i]\n",
    "    print(total_in_area['Community Area Number'].value_counts().tolist())\n"
   ]
  },
  {
   "cell_type": "code",
   "execution_count": 75,
   "metadata": {},
   "outputs": [],
   "source": [
    "import pandas as pd\n",
    "import osgeo\n",
    "import geopandas as gpd\n",
    "import\n",
    "\n",
    "chicago_areas = gpd.read_file(\"./Boundaries - Community Areas (current)/geo_export_9cce659e-5ccf-4293-b615-10de388a3d8a.shp\")\n",
    "chicago_areas = chicago_areas[['area_numbe', 'geometry']]\n",
    "chicago_areas.rename(columns = {\"area_numbe\": \"Community Area\"}, inplace = True)\n",
    "\n",
    "\n"
   ]
  },
  {
   "cell_type": "code",
   "execution_count": 107,
   "metadata": {},
   "outputs": [
    {
     "name": "stdout",
     "output_type": "stream",
     "text": [
      "0         76\n",
      "1     101341\n",
      "2      83043\n",
      "3      96172\n",
      "4      46591\n",
      "       ...  \n",
      "72     23846\n",
      "73     78383\n",
      "74     14732\n",
      "75     52714\n",
      "76     39409\n",
      "Name: Total Crimes, Length: 77, dtype: int32\n"
     ]
    }
   ],
   "source": [
    "area_total = []\n",
    "for i in range(0, 78):\n",
    "    total_in_area = data[data['Community Area'] == i] \n",
    "    area_total.append(int(total_in_area['Community Area'].value_counts()))\n",
    "\n",
    "chicago_areas['Total Crimes'] = pd.DataFrame(np.array(area_total))\n",
    "print(chicago_areas['Total Crimes'])"
   ]
  },
  {
   "cell_type": "code",
   "execution_count": 108,
   "metadata": {},
   "outputs": [
    {
     "data": {
      "text/plain": [
       "418222"
      ]
     },
     "execution_count": 108,
     "metadata": {},
     "output_type": "execute_result"
    }
   ],
   "source": [
    "max(area_total)"
   ]
  },
  {
   "cell_type": "code",
   "execution_count": 109,
   "metadata": {},
   "outputs": [
    {
     "data": {
      "text/plain": [
       "<matplotlib.axes._subplots.AxesSubplot at 0x14cc7f71cd0>"
      ]
     },
     "execution_count": 109,
     "metadata": {},
     "output_type": "execute_result"
    },
    {
     "data": {
      "image/png": "[encoded data removed]",
      "text/plain": [
       "<Figure size 432x288 with 2 Axes>"
      ]
     },
     "metadata": {
      "needs_background": "light"
     },
     "output_type": "display_data"
    }
   ],
   "source": [
    "chicago_areas.plot(column = \"Total Crimes\", cmap = \"Spectral\", legend = True)\n"
   ]
  },
  {
   "cell_type": "code",
   "execution_count": 119,
   "metadata": {},
   "outputs": [],
   "source": [
    "print(df['Longitude'].min())\n",
    "\n",
    "BBox = ((-87.7738,   -87.5658, 41.8096, 41.9653))\n",
    "\n",
    "print(BBox)"
   ]
  },
  {
   "cell_type": "code",
   "execution_count": 84,
   "metadata": {},
   "outputs": [],
   "source": [
    "import matplotlib.pyplot as plt\n",
    "from matplotlib.widgets import Slider, Button, RadioButtons\n",
    "from ipywidgets import IntSlider\n",
    "from ipywidgets import interact, interactive, fixed, interact_manual\n",
    "import ipywidgets as widgets"
   ]
  },
  {
   "cell_type": "code",
   "execution_count": null,
   "metadata": {},
   "outputs": [],
   "source": [
    "chicagoMap = plt.imread('D:\\Classes\\CSCE320\\Project\\ChicagoCrimeAnalysis\\Location_map_Chicago.png')\n",
    "\n",
    "fig, ax = plt.subplots(figsize = (8,7))\n",
    "\n",
    "ax.scatter(df['Longitude'],df['Latitude'], zorder=1, alpha=0.2,c='b',s=10)\n",
    "\n",
    "\n",
    "ax.set_xlim(BBox[0],BBox[1])\n",
    "ax.set_ylim(BBox[2],BBox[3])\n",
    "\n",
    "\n",
    "\n",
    "ax.imshow(chicagoMap, zorder=0, extent = BBox, aspect= 'equal')"
   ]
  },
  {
   "cell_type": "code",
   "execution_count": null,
   "metadata": {},
   "outputs": [],
   "source": [
    "import numpy as np\n",
    "import matplotlib.cm as cm\n",
    "from scipy.ndimage.filters import gaussian_filter\n",
    "import matplotlib.pyplot as plt\n",
    "%matplotlib inline\n",
    "\n",
    "df = df[df['Latitude']>41.8096]\n",
    "df = df[df['Latitude']<41.9653]\n",
    "df = df[df['Longitude']>-87.7738]\n",
    "df = df[df['Longitude']<-87.5658]\n",
    "\n",
    "y = df.loc[:, 'Latitude'].tolist()\n",
    "x = df.loc[:, 'Longitude'].tolist()\n",
    "\n",
    "heatmap, xedges, yedges = np.histogram2d(x,y,bins=1000)\n",
    "print(heatmap)\n",
    "extent = [xedges[0], xedges[-1], yedges[0], yedges[-1]]\n",
    "heatmap = gaussian_filter(heatmap, sigma=4)\n",
    "\n",
    "plt.clf()\n",
    "plt.imshow(heatmap.T, extent=extent, origin='lower')\n",
    "plt.show()"
   ]
  },
  {
   "cell_type": "code",
   "execution_count": null,
   "metadata": {},
   "outputs": [],
   "source": [
    "\n",
    "\n"
   ]
  },
  {
   "cell_type": "code",
   "execution_count": null,
   "metadata": {},
   "outputs": [],
   "source": [
    "df['Month'] = df['Date'].apply(lambda x: int(x.split(\"/\")[0]))\n",
    "df['Day'] = df ['Date'].apply(lambda x: int(x.split(\"/\")[1]))\n",
    "df['Violent'] = df['Primary Type'].apply(lambda x: x in violent_crime)\n",
    "print(df)"
   ]
  },
  {
   "cell_type": "code",
   "execution_count": null,
   "metadata": {},
   "outputs": [],
   "source": [
    "\n"
   ]
  },
  {
   "cell_type": "code",
   "execution_count": null,
   "metadata": {},
   "outputs": [],
   "source": []
  },
  {
   "cell_type": "code",
   "execution_count": 120,
   "metadata": {
    "scrolled": false
   },
   "outputs": [
    {
     "name": "stdout",
     "output_type": "stream",
     "text": [
      "               ID Case Number                    Date  \\\n",
      "63291    11665567    JC234307  04/10/2019 04:37:00 PM   \n",
      "63376    11667963    JC235212  04/12/2019 04:08:00 PM   \n",
      "63377    11667968    JC237058  04/19/2019 01:57:00 PM   \n",
      "63453    11668309    JC238187  04/25/2019 05:20:00 PM   \n",
      "63857    11692179    JC261724  05/13/2019 05:26:00 PM   \n",
      "...           ...         ...                     ...   \n",
      "7221318   9999999    HY189683  03/18/2015 05:08:00 PM   \n",
      "7221319  11700037    JC278815  05/26/2019 12:10:00 AM   \n",
      "7221321  11700926    JC279725  05/26/2019 05:13:00 PM   \n",
      "7221322     24560    JC279072  05/26/2019 06:48:00 AM   \n",
      "7221325     24559    JC278908  05/26/2019 02:11:00 AM   \n",
      "\n",
      "                                       Block  IUCR  \\\n",
      "63291                     102XX S VERNON AVE  1562   \n",
      "63376                     032XX N KEELER AVE  1754   \n",
      "63377                    002XX N LARAMIE AVE  1752   \n",
      "63453    108XX S DR MARTIN LUTHER KING JR DR  0486   \n",
      "63857                     090XX S RACINE AVE  0560   \n",
      "...                                      ...   ...   \n",
      "7221318                  043XX N CENTRAL AVE  0560   \n",
      "7221319                  046XX W MC LEAN AVE  0460   \n",
      "7221321                 036XX W DOUGLAS BLVD  2825   \n",
      "7221322                  013XX W HASTINGS ST  0110   \n",
      "7221325                  013XX W HASTINGS ST  0110   \n",
      "\n",
      "                       Primary Type  \\\n",
      "63291                   SEX OFFENSE   \n",
      "63376    OFFENSE INVOLVING CHILDREN   \n",
      "63377    OFFENSE INVOLVING CHILDREN   \n",
      "63453                       BATTERY   \n",
      "63857                       ASSAULT   \n",
      "...                             ...   \n",
      "7221318                     ASSAULT   \n",
      "7221319                     BATTERY   \n",
      "7221321               OTHER OFFENSE   \n",
      "7221322                    HOMICIDE   \n",
      "7221325                    HOMICIDE   \n",
      "\n",
      "                                               Description  \\\n",
      "63291                     AGGRAVATED CRIMINAL SEXUAL ABUSE   \n",
      "63376                       AGG SEX ASSLT OF CHILD FAM MBR   \n",
      "63377    AGGRAVATED CRIMINAL SEXUAL ABUSE BY FAMILY MEMBER   \n",
      "63453                              DOMESTIC BATTERY SIMPLE   \n",
      "63857                                               SIMPLE   \n",
      "...                                                    ...   \n",
      "7221318                                             SIMPLE   \n",
      "7221319                                             SIMPLE   \n",
      "7221321                            HARASSMENT BY TELEPHONE   \n",
      "7221322                                FIRST DEGREE MURDER   \n",
      "7221325                                FIRST DEGREE MURDER   \n",
      "\n",
      "             Location Description  Arrest  Domestic  ...  X Coordinate  \\\n",
      "63291    SCHOOL - PUBLIC BUILDING   False     False  ...     1181051.0   \n",
      "63376                   RESIDENCE   False      True  ...     1147835.0   \n",
      "63377                   RESIDENCE   False      True  ...     1141669.0   \n",
      "63453                   RESIDENCE   False      True  ...     1180832.0   \n",
      "63857                      STREET   False     False  ...     1169908.0   \n",
      "...                           ...     ...       ...  ...           ...   \n",
      "7221318                RESTAURANT    True     False  ...     1138222.0   \n",
      "7221319                 RESIDENCE    True     False  ...     1145043.0   \n",
      "7221321                 APARTMENT   False      True  ...     1152126.0   \n",
      "7221322           CHA PARKING LOT    True     False  ...     1167752.0   \n",
      "7221325                    STREET   False     False  ...     1167746.0   \n",
      "\n",
      "         Y Coordinate  Year              Updated On   Latitude  Longitude  \\\n",
      "63291       1837225.0  2019  04/17/2020 03:50:24 PM  41.708589 -87.612583   \n",
      "63376       1921408.0  2019  10/02/2019 04:13:24 PM  41.940298 -87.732066   \n",
      "63377       1901165.0  2019  03/18/2020 03:52:17 PM  41.884865 -87.755230   \n",
      "63453       1833222.0  2019  06/30/2019 03:56:27 PM  41.697609 -87.613508   \n",
      "63857       1844927.0  2019  06/30/2019 03:56:27 PM  41.729973 -87.653167   \n",
      "...               ...   ...                     ...        ...        ...   \n",
      "7221318     1928502.0  2015  02/10/2018 03:50:01 PM  41.959944 -87.767226   \n",
      "7221319     1913219.0  2019  06/30/2019 03:56:27 PM  41.917879 -87.742535   \n",
      "7221321     1893208.0  2019  06/30/2019 03:56:27 PM  41.862830 -87.717040   \n",
      "7221322     1893853.0  2019  06/20/2020 03:48:45 PM  41.864278 -87.659660   \n",
      "7221325     1893853.0  2019  06/20/2020 03:48:45 PM  41.864278 -87.659682   \n",
      "\n",
      "                              Location  Month Day  Violent  \n",
      "63291       (41.708589, -87.612583094)      4  10    False  \n",
      "63376    (41.940297617, -87.732066473)      4  12    False  \n",
      "63377    (41.884865037, -87.755230327)      4  19    False  \n",
      "63453    (41.697609261, -87.613507612)      4  25     True  \n",
      "63857    (41.729973132, -87.653166753)      5  13     True  \n",
      "...                                ...    ...  ..      ...  \n",
      "7221318  (41.959943835, -87.767225719)      3  18     True  \n",
      "7221319  (41.917879493, -87.742535496)      5  26     True  \n",
      "7221321  (41.862830429, -87.717040084)      5  26    False  \n",
      "7221322  (41.864278228, -87.659660218)      5  26     True  \n",
      "7221325  (41.864278357, -87.659682244)      5  26     True  \n",
      "\n",
      "[7144492 rows x 25 columns]\n"
     ]
    }
   ],
   "source": []
  },
  {
   "cell_type": "code",
   "execution_count": 86,
   "metadata": {},
   "outputs": [],
   "source": [
    "opt =[]\n",
    "for i in range(2001,2021):\n",
    "    opt.append(str(i))\n",
    "    \n",
    "types = ['All']\n",
    "types += data['Primary Type'].value_counts().index.tolist()\n",
    "\n",
    "optMonth = ['none']\n",
    "optDay = ['none']\n",
    "for i in range (1, 31):\n",
    "    optDay.append(str(i))\n",
    "    if (i < 13):\n",
    "        optMonth.append(str(i))\n",
    "    "
   ]
  },
  {
   "cell_type": "code",
   "execution_count": 122,
   "metadata": {},
   "outputs": [
    {
     "data": {
      "application/vnd.jupyter.widget-view+json": {
       "model_id": "1af1565affd04e7b832d0cfd572b3bac",
       "version_major": 2,
       "version_minor": 0
      },
      "text/plain": [
       "HBox(children=(Dropdown(description='Type:', options=('All', 'THEFT', 'BATTERY', 'CRIMINAL DAMAGE', 'NARCOTICS…"
      ]
     },
     "metadata": {},
     "output_type": "display_data"
    },
    {
     "data": {
      "application/vnd.jupyter.widget-view+json": {
       "model_id": "fa7337de3f7d45baa37b200e1da59805",
       "version_major": 2,
       "version_minor": 0
      },
      "text/plain": [
       "Output()"
      ]
     },
     "metadata": {},
     "output_type": "display_data"
    }
   ],
   "source": [
    "typeDrop = widgets.Dropdown(\n",
    "    options=types,\n",
    "    value='All',\n",
    "    description='Type:'\n",
    ")\n",
    "\n",
    "monthDrop = widgets.Dropdown (\n",
    "    options= optMonth,\n",
    "    value='none',\n",
    "    description='Month:'\n",
    ")\n",
    "\n",
    "drop = widgets.Dropdown(\n",
    "    options=opt,\n",
    "    value='2019',\n",
    "    description='Year:'\n",
    ")\n",
    "\n",
    "drop2 = widgets.Dropdown(\n",
    "    options=opt,\n",
    "    value='2020',\n",
    "    description='Year:'\n",
    ")\n",
    "\n",
    "\n",
    "yr1 = drop\n",
    "month = monthDrop\n",
    "cmpr = widgets.Checkbox(description='Compare')\n",
    "yr2 = drop2\n",
    "ui = widgets.HBox([typeDrop, month, yr1, cmpr,yr2])\n",
    "\n",
    "def f(typeOf, month, year1, compare, year2):\n",
    "    \n",
    "    dfYear = df[df['Year'] == int(year1)]\n",
    "    \n",
    "    if typeOf != 'All':\n",
    "            dfYear = dfYear[dfYear['Primary Type'] == typeOf]\n",
    "    if month != 'none':\n",
    "            dfYear = dfYear[dfYear['Month'] == int(month)]\n",
    "\n",
    "    crime_types = dfYear['Primary Type'].value_counts().index.tolist()\n",
    "    crime_types_count = dfYear['Primary Type'].value_counts()\n",
    "    \n",
    "    title = year1 + \" Type of Crime\"\n",
    "    \n",
    "    if compare == True:\n",
    "\n",
    "        title = year1 + \" vs. \" + year2+\" Type of Crime\"\n",
    "        dfYear2 = df[df['Year'] == int(year2)]\n",
    "        \n",
    "        if typeOf != 'All':\n",
    "            dfYear2 = dfYear2[dfYear2['Primary Type'] == typeOf]\n",
    "            \n",
    "        crime_types2 = dfYear2['Primary Type'].value_counts().index.tolist()\n",
    "        crime_types_count2 = dfYear2['Primary Type'].value_counts()\n",
    "        \n",
    "        fig,ax = plt.subplots(figsize=(8,7))\n",
    "        ax.set_title(title)\n",
    "        ax.barh(crime_types,crime_types_count,color = 'b',label=year1)\n",
    "        ax.barh(crime_types2,crime_types_count2,color = 'r',label=year2)\n",
    "#         ax.set_xticks(rotation=0)\n",
    "        ax.invert_yaxis()\n",
    "        ax.legend(loc='lower right')\n",
    "        plt.show()\n",
    "    else:\n",
    "\n",
    "        plt.figure(figsize=(8,7))\n",
    "        plt.title(title)\n",
    "        plt.barh(crime_types,crime_types_count)\n",
    "        plt.xticks(rotation=0)\n",
    "        plt.gca().invert_yaxis()\n",
    "        for index, value in enumerate(crime_types_count):\n",
    "            plt.text(value, index, str(value))\n",
    "        plt.show()\n",
    "    \n",
    "#     if compare == True:\n",
    "#         interact(f, year1=drop, compare=False,year2)\n",
    "\n",
    "    \n",
    "#interact(f, year=drop, compare=False)\n",
    "out = widgets.interactive_output(f, {'typeOf': typeDrop, 'month': month, 'year1': yr1, 'compare' : cmpr, 'year2':yr2})\n",
    "\n",
    "\n",
    "display(ui,out)"
   ]
  },
  {
   "cell_type": "code",
   "execution_count": 125,
   "metadata": {},
   "outputs": [
    {
     "data": {
      "application/vnd.jupyter.widget-view+json": {
       "model_id": "33adb40f4c0a4984ae8203e916e21f5a",
       "version_major": 2,
       "version_minor": 0
      },
      "text/plain": [
       "HBox(children=(Dropdown(description='Year:', index=18, options=('2001', '2002', '2003', '2004', '2005', '2006'…"
      ]
     },
     "metadata": {},
     "output_type": "display_data"
    },
    {
     "data": {
      "application/vnd.jupyter.widget-view+json": {
       "model_id": "fe4b5fa29b9d4b2fac9ec17ec692a606",
       "version_major": 2,
       "version_minor": 0
      },
      "text/plain": [
       "Output()"
      ]
     },
     "metadata": {},
     "output_type": "display_data"
    }
   ],
   "source": [
    "\n",
    "drop = widgets.Dropdown(\n",
    "    options=opt,\n",
    "    value='2019',\n",
    "    description='Year:'\n",
    ")\n",
    "drop2 = widgets.Dropdown(\n",
    "    options=optMonth,\n",
    "    value='none',\n",
    "    description='Month:'\n",
    ")\n",
    "drop3 = widgets.Dropdown(\n",
    "    options=['yes', 'no', 'both'],\n",
    "    value='both',\n",
    "    description='Violent Crimes:'\n",
    ")\n",
    "year = drop\n",
    "month = drop2\n",
    "violent = drop3\n",
    "ui = widgets.HBox([year, month, violent])\n",
    "\n",
    "def f2(year, month, violent):\n",
    "    dfYear = df[df['Year'] == int(year)]\n",
    "    month_names = ['Jan', 'Feb', 'Mar', 'Apr', 'May', 'Jun', 'Jul', 'Aug', 'Sep', 'Oct', 'Nov', 'Dec']\n",
    "    if (violent == 'yes'):\n",
    "        dfYear = dfYear[dfYear['Violent']]\n",
    "    elif (violent == 'no'):\n",
    "        dfYear = dfYear[dfYear['Violent'] == False]\n",
    "        \n",
    "    if (month == 'none') :\n",
    "        count = []\n",
    "        for i in range(1,13):\n",
    "            dfMonth = dfYear[dfYear['Month'] == i]\n",
    "\n",
    "    #     crime_types = dfMonth['Primary Type'].value_counts().index.tolist()\n",
    "            total_count = sum(dfMonth['Primary Type'].value_counts().tolist())\n",
    "            count.append(total_count)\n",
    "        \n",
    "        print(sum(count))\n",
    "        title = \"total crime per month in \" + year\n",
    "        plt.figure(figsize=(8,7))\n",
    "        plt.title(title)\n",
    "        plt.barh(month_names,count)\n",
    "        plt.xticks(rotation=0)\n",
    "        plt.gca().invert_yaxis()\n",
    "        for index, value in enumerate(count):\n",
    "            plt.text(value, index, str(value))\n",
    "        plt.show()\n",
    "    else :\n",
    "        dfMonth = dfYear[dfYear['Month'] == int(month)]\n",
    "        bday = dfMonth['Day'].unique().max()\n",
    "        count = []\n",
    "        days = []\n",
    "        for i in range(1, bday + 1):\n",
    "            days.append(str(i))\n",
    "            dfDay = dfMonth[dfMonth['Day'] == i]\n",
    "            total_count = sum(dfDay['Primary Type'].value_counts().tolist())\n",
    "            count.append(total_count)\n",
    "        title = \"total crime per day in \" + month_names[int(month) - 1] + \", \" +  year\n",
    "        plt.figure(figsize=(10,12))\n",
    "        plt.title(title)\n",
    "        plt.barh(days,count)\n",
    "        plt.xticks(rotation=0)\n",
    "        plt.gca().invert_yaxis()\n",
    "        for index, value in enumerate(count):\n",
    "            plt.text(value, index, str(value))\n",
    "        plt.show()\n",
    "\n",
    "out = widgets.interactive_output(f2, {'year': year, 'month': month, 'violent': violent})\n",
    "display(ui,out)\n"
   ]
  },
  {
   "cell_type": "code",
   "execution_count": 169,
   "metadata": {},
   "outputs": [],
   "source": [
    "import pandas as pd\n",
    "import osgeo\n",
    "import geopandas as gpd\n",
    "\n",
    "# chicago_areas = gpd.read_file(\"./Boundaries - Community Areas (current)/geo_export_9cce659e-5ccf-4293-b615-10de388a3d8a.shp\")\n",
    "# chicago_areas = chicago_areas[['area_numbe', 'geometry']]\n",
    "# chicago_areas.rename(columns = {\"area_numbe\": \"Community Area\"}, inplace = True)\n",
    "\n"
   ]
  },
  {
   "cell_type": "code",
   "execution_count": null,
   "metadata": {
    "scrolled": true
   },
   "outputs": [],
   "source": [
    "drop = widgets.Dropdown(\n",
    "    options=opt,\n",
    "    value='2019',\n",
    "    description='Year:'\n",
    ")\n",
    "drop3 = widgets.Dropdown(\n",
    "    options=['yes', 'no', 'both'],\n",
    "    value='both',\n",
    "    description='Violent Crimes:'\n",
    ")\n",
    "year = drop\n",
    "violent = drop3\n",
    "ui = widgets.HBox([year, violent])\n",
    "areas = data[data['Community Area'].notna()]\n",
    "\n",
    "\n",
    "def f3(year, violent):\n",
    "    chicago_areas = gpd.read_file(\"./Boundaries - Community Areas (current)/geo_export_9cce659e-5ccf-4293-b615-10de388a3d8a.shp\")\n",
    "    chicago_areas = chicago_areas[['area_numbe', 'geometry']]\n",
    "    chicago_areas.rename(columns = {\"area_numbe\": \"Community Area\"}, inplace = True)\n",
    "    yearDf = df[df['Year'] == int(year)]\n",
    "    \n",
    "    if (violent == 'yes'):\n",
    "        yearDf = yearDf[yearDf['Violent'] == True]\n",
    "    if (violent == 'no'):\n",
    "        yearDf = yearDf[yearDf['Violent'] == False]\n",
    "    \n",
    "#     print(yearDf)\n",
    "    area_total = []\n",
    "    areas = yearDf['Community Area'].unique()\n",
    "    for i in areas:\n",
    "#         print (i)\n",
    "        total_in_area = yearDf[yearDf['Community Area'] == (i)] \n",
    "#         print((total_in_area['Community Area'].value_counts()))\n",
    "        area_total.append(int(total_in_area['Community Area'].value_counts()))\n",
    "    chicago_areas['Total Crimes'] = pd.DataFrame(np.array(area_total))\n",
    "    chicago_areas.plot(column = \"Total Crimes\", cmap = \"Spectral\", legend = True)\n",
    "\n",
    "    \n",
    "out = widgets.interactive_output(f3, {'year': year, 'violent': violent})\n",
    "display(ui,out)"
   ]
  },
  {
   "cell_type": "code",
   "execution_count": null,
   "metadata": {},
   "outputs": [],
   "source": []
  },
  {
   "cell_type": "code",
   "execution_count": null,
   "metadata": {},
   "outputs": [],
   "source": []
  }
 ],
 "metadata": {
  "kernelspec": {
   "display_name": "Python 3",
   "language": "python",
   "name": "python3"
  },
  "language_info": {
   "codemirror_mode": {
    "name": "ipython",
    "version": 3
   },
   "file_extension": ".py",
   "mimetype": "text/x-python",
   "name": "python",
   "nbconvert_exporter": "python",
   "pygments_lexer": "ipython3",
   "version": "3.8.3"
  }
 },
 "nbformat": 4,
 "nbformat_minor": 4
}

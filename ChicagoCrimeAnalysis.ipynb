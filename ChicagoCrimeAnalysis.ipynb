{
 "cells": [
  {
   "cell_type": "code",
   "execution_count": 4,
   "metadata": {
    "scrolled": true
   },
   "outputs": [
    {
     "name": "stdout",
     "output_type": "stream",
     "text": [
      "Requirement already satisfied: sodapy in c:\\users\\tony\\anaconda3\\lib\\site-packages (2.1.0)\n",
      "Requirement already satisfied: requests>=2.20.0 in c:\\users\\tony\\anaconda3\\lib\\site-packages (from sodapy) (2.24.0)\n",
      "Requirement already satisfied: chardet<4,>=3.0.2 in c:\\users\\tony\\anaconda3\\lib\\site-packages (from requests>=2.20.0->sodapy) (3.0.4)\n",
      "Requirement already satisfied: urllib3!=1.25.0,!=1.25.1,<1.26,>=1.21.1 in c:\\users\\tony\\anaconda3\\lib\\site-packages (from requests>=2.20.0->sodapy) (1.25.9)\n",
      "Requirement already satisfied: idna<3,>=2.5 in c:\\users\\tony\\anaconda3\\lib\\site-packages (from requests>=2.20.0->sodapy) (2.10)\n",
      "Requirement already satisfied: certifi>=2017.4.17 in c:\\users\\tony\\anaconda3\\lib\\site-packages (from requests>=2.20.0->sodapy) (2020.6.20)\n",
      "Requirement already satisfied: geopandas in c:\\users\\tony\\anaconda3\\lib\\site-packages (0.8.1)\n",
      "Requirement already satisfied: pyproj>=2.2.0 in c:\\users\\tony\\anaconda3\\lib\\site-packages (from geopandas) (3.0.0.post1)\n",
      "Requirement already satisfied: fiona in c:\\users\\tony\\anaconda3\\lib\\site-packages (from geopandas) (1.8.17)\n",
      "Requirement already satisfied: pandas>=0.23.0 in c:\\users\\tony\\anaconda3\\lib\\site-packages (from geopandas) (1.0.5)\n",
      "Requirement already satisfied: shapely in c:\\users\\tony\\anaconda3\\lib\\site-packages (from geopandas) (1.7.1)\n",
      "Requirement already satisfied: certifi in c:\\users\\tony\\anaconda3\\lib\\site-packages (from pyproj>=2.2.0->geopandas) (2020.6.20)\n",
      "Requirement already satisfied: cligj>=0.5 in c:\\users\\tony\\anaconda3\\lib\\site-packages (from fiona->geopandas) (0.7.0)\n",
      "Requirement already satisfied: attrs>=17 in c:\\users\\tony\\anaconda3\\lib\\site-packages (from fiona->geopandas) (19.3.0)\n",
      "Requirement already satisfied: six>=1.7 in c:\\users\\tony\\anaconda3\\lib\\site-packages (from fiona->geopandas) (1.15.0)\n",
      "Requirement already satisfied: gdal~=3.1.2 in c:\\users\\tony\\anaconda3\\lib\\site-packages (from fiona->geopandas) (3.1.4)\n",
      "Requirement already satisfied: munch in c:\\users\\tony\\anaconda3\\lib\\site-packages (from fiona->geopandas) (2.5.0)\n",
      "Requirement already satisfied: click-plugins>=1.0 in c:\\users\\tony\\anaconda3\\lib\\site-packages (from fiona->geopandas) (1.1.1)\n",
      "Requirement already satisfied: click>=4.0 in c:\\users\\tony\\anaconda3\\lib\\site-packages (from fiona->geopandas) (7.1.2)\n",
      "Requirement already satisfied: python-dateutil>=2.6.1 in c:\\users\\tony\\anaconda3\\lib\\site-packages (from pandas>=0.23.0->geopandas) (2.8.1)\n",
      "Requirement already satisfied: numpy>=1.13.3 in c:\\users\\tony\\anaconda3\\lib\\site-packages (from pandas>=0.23.0->geopandas) (1.18.5)\n",
      "Requirement already satisfied: pytz>=2017.2 in c:\\users\\tony\\anaconda3\\lib\\site-packages (from pandas>=0.23.0->geopandas) (2020.1)\n"
     ]
    }
   ],
   "source": [
    "!pip install sodapy\n",
    "!pip install geopandas"
   ]
  },
  {
   "cell_type": "code",
   "execution_count": null,
   "metadata": {},
   "outputs": [],
   "source": []
  },
  {
   "cell_type": "code",
   "execution_count": 112,
   "metadata": {},
   "outputs": [
    {
     "name": "stderr",
     "output_type": "stream",
     "text": [
      "WARNING:root:Requests made without an app_token will be subject to strict throttling limits.\n"
     ]
    }
   ],
   "source": [
    "# Snippet from: https://dev.socrata.com/foundry/data.cityofchicago.org/d62x-nvdr\n",
    "from sodapy import Socrata\n",
    "# Unauthenticated client only works with public data sets. Note 'None'\n",
    "# in place of application token, and no username or password:\n",
    "client = Socrata(\"data.cityofchicago.org\", None)\n",
    "\n",
    "# Example authenticated client (needed for non-public datasets):\n",
    "# client = Socrata(data.cityofchicago.org,\n",
    "#                  MyAppToken,\n",
    "#                  userame=\"user@example.com\",\n",
    "#                  password=\"AFakePassword\")\n",
    "\n",
    "# results returned as JSON from API / converted to Python list of\n",
    "# dictionaries by sodapy.\n",
    "\n",
    "from_2020 = \"qzdf-xmn8\"\n",
    "from_2019 = \"w98m-zvie\"\n",
    "from_2018 = \"3i3m-jwuy\"\n",
    "from_2017 = \"d62x-nvdr\"\n",
    "crimes = client.get(from_2020, limit=500)\n",
    "\n",
    "# Convert to pandas DataFrame\n",
    "crimes_df = pd.DataFrame.from_records(crimes)\n",
    "\n",
    "# Population of Chicago 2020 = 2694240 "
   ]
  },
  {
   "cell_type": "code",
   "execution_count": 1,
   "metadata": {},
   "outputs": [],
   "source": [
    "import pandas as pd"
   ]
  },
  {
   "cell_type": "code",
   "execution_count": 28,
   "metadata": {},
   "outputs": [
    {
     "name": "stderr",
     "output_type": "stream",
     "text": [
      "D:\\Anaconda\\lib\\site-packages\\IPython\\core\\interactiveshell.py:3071: DtypeWarning: Columns (21) have mixed types.Specify dtype option on import or set low_memory=False.\n",
      "  has_raised = await self.run_ast_nodes(code_ast.body, cell_name,\n"
     ]
    }
   ],
   "source": [
    "data = pd.read_csv(\"D:\\Classes\\CSCE320\\Project\\Crimes_-_2001_to_Present.csv\")"
   ]
  },
  {
   "cell_type": "code",
   "execution_count": 168,
   "metadata": {},
   "outputs": [],
   "source": [
    "data2 = pd.read_csv(\"./below_poverty_level_by_community.csv\")"
   ]
  },
  {
   "cell_type": "code",
   "execution_count": 169,
   "metadata": {},
   "outputs": [
    {
     "name": "stdout",
     "output_type": "stream",
     "text": [
      "               ID Case Number                    Date  \\\n",
      "63291    11665567    JC234307  04/10/2019 04:37:00 PM   \n",
      "63376    11667963    JC235212  04/12/2019 04:08:00 PM   \n",
      "63377    11667968    JC237058  04/19/2019 01:57:00 PM   \n",
      "63453    11668309    JC238187  04/25/2019 05:20:00 PM   \n",
      "63857    11692179    JC261724  05/13/2019 05:26:00 PM   \n",
      "...           ...         ...                     ...   \n",
      "7221318   9999999    HY189683  03/18/2015 05:08:00 PM   \n",
      "7221319  11700037    JC278815  05/26/2019 12:10:00 AM   \n",
      "7221321  11700926    JC279725  05/26/2019 05:13:00 PM   \n",
      "7221322     24560    JC279072  05/26/2019 06:48:00 AM   \n",
      "7221325     24559    JC278908  05/26/2019 02:11:00 AM   \n",
      "\n",
      "                                       Block  IUCR  \\\n",
      "63291                     102XX S VERNON AVE  1562   \n",
      "63376                     032XX N KEELER AVE  1754   \n",
      "63377                    002XX N LARAMIE AVE  1752   \n",
      "63453    108XX S DR MARTIN LUTHER KING JR DR  0486   \n",
      "63857                     090XX S RACINE AVE  0560   \n",
      "...                                      ...   ...   \n",
      "7221318                  043XX N CENTRAL AVE  0560   \n",
      "7221319                  046XX W MC LEAN AVE  0460   \n",
      "7221321                 036XX W DOUGLAS BLVD  2825   \n",
      "7221322                  013XX W HASTINGS ST  0110   \n",
      "7221325                  013XX W HASTINGS ST  0110   \n",
      "\n",
      "                       Primary Type  \\\n",
      "63291                   SEX OFFENSE   \n",
      "63376    OFFENSE INVOLVING CHILDREN   \n",
      "63377    OFFENSE INVOLVING CHILDREN   \n",
      "63453                       BATTERY   \n",
      "63857                       ASSAULT   \n",
      "...                             ...   \n",
      "7221318                     ASSAULT   \n",
      "7221319                     BATTERY   \n",
      "7221321               OTHER OFFENSE   \n",
      "7221322                    HOMICIDE   \n",
      "7221325                    HOMICIDE   \n",
      "\n",
      "                                               Description  \\\n",
      "63291                     AGGRAVATED CRIMINAL SEXUAL ABUSE   \n",
      "63376                       AGG SEX ASSLT OF CHILD FAM MBR   \n",
      "63377    AGGRAVATED CRIMINAL SEXUAL ABUSE BY FAMILY MEMBER   \n",
      "63453                              DOMESTIC BATTERY SIMPLE   \n",
      "63857                                               SIMPLE   \n",
      "...                                                    ...   \n",
      "7221318                                             SIMPLE   \n",
      "7221319                                             SIMPLE   \n",
      "7221321                            HARASSMENT BY TELEPHONE   \n",
      "7221322                                FIRST DEGREE MURDER   \n",
      "7221325                                FIRST DEGREE MURDER   \n",
      "\n",
      "             Location Description  Arrest  Domestic  ...  X Coordinate  \\\n",
      "63291    SCHOOL - PUBLIC BUILDING   False     False  ...     1181051.0   \n",
      "63376                   RESIDENCE   False      True  ...     1147835.0   \n",
      "63377                   RESIDENCE   False      True  ...     1141669.0   \n",
      "63453                   RESIDENCE   False      True  ...     1180832.0   \n",
      "63857                      STREET   False     False  ...     1169908.0   \n",
      "...                           ...     ...       ...  ...           ...   \n",
      "7221318                RESTAURANT    True     False  ...     1138222.0   \n",
      "7221319                 RESIDENCE    True     False  ...     1145043.0   \n",
      "7221321                 APARTMENT   False      True  ...     1152126.0   \n",
      "7221322           CHA PARKING LOT    True     False  ...     1167752.0   \n",
      "7221325                    STREET   False     False  ...     1167746.0   \n",
      "\n",
      "         Y Coordinate  Year              Updated On   Latitude  Longitude  \\\n",
      "63291       1837225.0  2019  04/17/2020 03:50:24 PM  41.708589 -87.612583   \n",
      "63376       1921408.0  2019  10/02/2019 04:13:24 PM  41.940298 -87.732066   \n",
      "63377       1901165.0  2019  03/18/2020 03:52:17 PM  41.884865 -87.755230   \n",
      "63453       1833222.0  2019  06/30/2019 03:56:27 PM  41.697609 -87.613508   \n",
      "63857       1844927.0  2019  06/30/2019 03:56:27 PM  41.729973 -87.653167   \n",
      "...               ...   ...                     ...        ...        ...   \n",
      "7221318     1928502.0  2015  02/10/2018 03:50:01 PM  41.959944 -87.767226   \n",
      "7221319     1913219.0  2019  06/30/2019 03:56:27 PM  41.917879 -87.742535   \n",
      "7221321     1893208.0  2019  06/30/2019 03:56:27 PM  41.862830 -87.717040   \n",
      "7221322     1893853.0  2019  06/20/2020 03:48:45 PM  41.864278 -87.659660   \n",
      "7221325     1893853.0  2019  06/20/2020 03:48:45 PM  41.864278 -87.659682   \n",
      "\n",
      "                              Location  Month Day  Violent  \n",
      "63291       (41.708589, -87.612583094)      4  10    False  \n",
      "63376    (41.940297617, -87.732066473)      4  12    False  \n",
      "63377    (41.884865037, -87.755230327)      4  19    False  \n",
      "63453    (41.697609261, -87.613507612)      4  25    False  \n",
      "63857    (41.729973132, -87.653166753)      5  13    False  \n",
      "...                                ...    ...  ..      ...  \n",
      "7221318  (41.959943835, -87.767225719)      3  18    False  \n",
      "7221319  (41.917879493, -87.742535496)      5  26    False  \n",
      "7221321  (41.862830429, -87.717040084)      5  26    False  \n",
      "7221322  (41.864278228, -87.659660218)      5  26     True  \n",
      "7221325  (41.864278357, -87.659682244)      5  26     True  \n",
      "\n",
      "[6540212 rows x 25 columns]\n",
      "               ID Case Number                    Date                 Block  \\\n",
      "0        11034701    JA366925  01/01/2001 11:00:00 AM       016XX E 86TH PL   \n",
      "1        11227287    JB147188  10/08/2017 03:00:00 AM    092XX S RACINE AVE   \n",
      "2        11227583    JB147595  03/28/2017 02:00:00 PM       026XX W 79TH ST   \n",
      "3        11227293    JB147230  09/09/2017 08:17:00 PM  060XX S EBERHART AVE   \n",
      "4        11227634    JB147599  08/26/2017 10:00:00 AM   001XX W RANDOLPH ST   \n",
      "...           ...         ...                     ...                   ...   \n",
      "7221321  11700926    JC279725  05/26/2019 05:13:00 PM  036XX W DOUGLAS BLVD   \n",
      "7221322     24560    JC279072  05/26/2019 06:48:00 AM   013XX W HASTINGS ST   \n",
      "7221323  11707734    JC287730  07/01/2014 07:30:00 AM   063XX S NORMAL BLVD   \n",
      "7221324  11707239    JC287563  11/30/2017 09:00:00 AM   022XX S KOSTNER AVE   \n",
      "7221325     24559    JC278908  05/26/2019 02:11:00 AM   013XX W HASTINGS ST   \n",
      "\n",
      "         IUCR         Primary Type                          Description  \\\n",
      "0        1153   DECEPTIVE PRACTICE  FINANCIAL IDENTITY THEFT OVER $ 300   \n",
      "1        0281  CRIM SEXUAL ASSAULT                       NON-AGGRAVATED   \n",
      "2        0620             BURGLARY                       UNLAWFUL ENTRY   \n",
      "3        0810                THEFT                            OVER $500   \n",
      "4        0281  CRIM SEXUAL ASSAULT                       NON-AGGRAVATED   \n",
      "...       ...                  ...                                  ...   \n",
      "7221321  2825        OTHER OFFENSE              HARASSMENT BY TELEPHONE   \n",
      "7221322  0110             HOMICIDE                  FIRST DEGREE MURDER   \n",
      "7221323  1153   DECEPTIVE PRACTICE  FINANCIAL IDENTITY THEFT OVER $ 300   \n",
      "7221324  1153   DECEPTIVE PRACTICE  FINANCIAL IDENTITY THEFT OVER $ 300   \n",
      "7221325  0110             HOMICIDE                  FIRST DEGREE MURDER   \n",
      "\n",
      "        Location Description  Arrest  Domestic  ...  Ward  Community Area  \\\n",
      "0                  RESIDENCE   False     False  ...   8.0            45.0   \n",
      "1                  RESIDENCE   False     False  ...  21.0            73.0   \n",
      "2                      OTHER   False     False  ...  18.0            70.0   \n",
      "3                  RESIDENCE   False     False  ...  20.0            42.0   \n",
      "4                HOTEL/MOTEL   False     False  ...  42.0            32.0   \n",
      "...                      ...     ...       ...  ...   ...             ...   \n",
      "7221321            APARTMENT   False      True  ...  24.0            29.0   \n",
      "7221322      CHA PARKING LOT    True     False  ...  25.0            28.0   \n",
      "7221323                  NaN   False     False  ...  20.0            68.0   \n",
      "7221324            RESIDENCE   False     False  ...  22.0            29.0   \n",
      "7221325               STREET   False     False  ...  25.0            28.0   \n",
      "\n",
      "         FBI Code  X Coordinate Y Coordinate  Year              Updated On  \\\n",
      "0              11           NaN          NaN  2001  08/05/2017 03:50:08 PM   \n",
      "1              02           NaN          NaN  2017  02/11/2018 03:57:41 PM   \n",
      "2              05           NaN          NaN  2017  02/11/2018 03:57:41 PM   \n",
      "3              06           NaN          NaN  2017  02/11/2018 03:57:41 PM   \n",
      "4              02           NaN          NaN  2017  02/11/2018 03:57:41 PM   \n",
      "...           ...           ...          ...   ...                     ...   \n",
      "7221321        26     1152126.0    1893208.0  2019  06/30/2019 03:56:27 PM   \n",
      "7221322       01A     1167752.0    1893853.0  2019  06/20/2020 03:48:45 PM   \n",
      "7221323        11           NaN          NaN  2014  06/02/2019 04:09:42 PM   \n",
      "7221324        11           NaN          NaN  2017  06/02/2019 04:09:42 PM   \n",
      "7221325       01A     1167746.0    1893853.0  2019  06/20/2020 03:48:45 PM   \n",
      "\n",
      "          Latitude  Longitude                       Location  \n",
      "0              NaN        NaN                            NaN  \n",
      "1              NaN        NaN                            NaN  \n",
      "2              NaN        NaN                            NaN  \n",
      "3              NaN        NaN                            NaN  \n",
      "4              NaN        NaN                            NaN  \n",
      "...            ...        ...                            ...  \n",
      "7221321  41.862830 -87.717040  (41.862830429, -87.717040084)  \n",
      "7221322  41.864278 -87.659660  (41.864278228, -87.659660218)  \n",
      "7221323        NaN        NaN                            NaN  \n",
      "7221324        NaN        NaN                            NaN  \n",
      "7221325  41.864278 -87.659682  (41.864278357, -87.659682244)  \n",
      "\n",
      "[7221326 rows x 22 columns]\n"
     ]
    }
   ],
   "source": [
    "df = df[df['Community Area'].notna()]\n",
    "df['Month'] = df['Date'].apply(lambda x: int(x.split(\"/\")[0]))\n",
    "df['Day'] = df ['Date'].apply(lambda x: int(x.split(\"/\")[1]))\n",
    "print(df)\n",
    "print(data)"
   ]
  },
  {
   "cell_type": "code",
   "execution_count": 176,
   "metadata": {},
   "outputs": [],
   "source": [
    "# 'CRIM SEXUAL ASSAULT', 'CRIMINAL SEXUAL ASSAULT','BATTERY', 'ASSAULT', 'ROBBERY', 'ARSON', \n",
    "violent_crime = ['HOMICIDE', 'CRIM SEXUAL ASSAULT', 'CRIMINAL SEXUAL ASSAULT','BATTERY', 'ASSAULT']\n",
    "df['Violent'] = df['Primary Type'].apply(lambda x: x in violent_crime)\n"
   ]
  },
  {
   "cell_type": "code",
   "execution_count": 226,
   "metadata": {},
   "outputs": [],
   "source": [
    "data['Month'] = data['Date'].apply(lambda x: int(x.split(\"/\")[0]))\n",
    "data['Day'] = data ['Date'].apply(lambda x: int(x.split(\"/\")[1]))\n",
    "violent_crime = ['HOMICIDE', 'CRIM SEXUAL ASSAULT', 'CRIMINAL SEXUAL ASSAULT','BATTERY', 'ASSAULT']\n",
    "data['Violent'] = data['Primary Type'].apply(lambda x: x in violent_crime)\n"
   ]
  },
  {
   "cell_type": "markdown",
   "metadata": {},
   "source": [
    "for i in range(1, 77):\n",
    "    total_in_area = data2[data2['Community Area Number'] == i]\n",
    "    print(total_in_area['Community Area Number'].value_counts().tolist())\n"
   ]
  },
  {
   "cell_type": "code",
   "execution_count": 178,
   "metadata": {},
   "outputs": [],
   "source": [
    "import pandas as pd\n",
    "import osgeo\n",
    "import geopandas as gpd\n",
    "import numpy as np\n",
    "\n",
    "\n",
    "\n",
    "chicago_areas = gpd.read_file(\"./Boundaries - Community Areas (current)/geo_export_9cce659e-5ccf-4293-b615-10de388a3d8a.shp\")\n",
    "chicago_areas = chicago_areas[['area_numbe', 'geometry']]\n",
    "chicago_areas.rename(columns = {\"area_numbe\": \"Community Area Number\"}, inplace = True)\n",
    "\n",
    "\n"
   ]
  },
  {
   "cell_type": "code",
   "execution_count": 187,
   "metadata": {},
   "outputs": [
    {
     "name": "stdout",
     "output_type": "stream",
     "text": [
      "0     39.0\n",
      "1     46.0\n",
      "2     20.0\n",
      "3     17.0\n",
      "4      6.0\n",
      "      ... \n",
      "72    48.0\n",
      "73    16.0\n",
      "74    30.0\n",
      "75    24.0\n",
      "76    19.0\n",
      "Name: Hardship, Length: 77, dtype: float64\n"
     ]
    }
   ],
   "source": [
    "chicago_areas['Hardship'] = data2['HARDSHIP INDEX']\n",
    "print(chicago_areas['Hardship'])"
   ]
  },
  {
   "cell_type": "code",
   "execution_count": null,
   "metadata": {},
   "outputs": [],
   "source": []
  },
  {
   "cell_type": "code",
   "execution_count": 180,
   "metadata": {},
   "outputs": [
    {
     "data": {
      "text/plain": [
       "120688"
      ]
     },
     "execution_count": 180,
     "metadata": {},
     "output_type": "execute_result"
    }
   ],
   "source": [
    "max(area_total)"
   ]
  },
  {
   "cell_type": "code",
   "execution_count": 181,
   "metadata": {},
   "outputs": [
    {
     "data": {
      "text/plain": [
       "Text(0.5, 1.0, 'Chicago Community Areas Hardship Index 2008-2012')"
      ]
     },
     "execution_count": 181,
     "metadata": {},
     "output_type": "execute_result"
    },
    {
     "data": {
      "image/png": "[encoded data removed]",
      "text/plain": [
       "<Figure size 432x288 with 2 Axes>"
      ]
     },
     "metadata": {
      "needs_background": "light"
     },
     "output_type": "display_data"
    }
   ],
   "source": [
    "chicago_areas.plot(column = \"Hardship\", cmap = \"OrRd\", legend = True)\n",
    "plt.title('Chicago Community Areas Hardship Index 2008-2012')"
   ]
  },
  {
   "cell_type": "code",
   "execution_count": 204,
   "metadata": {},
   "outputs": [
    {
     "data": {
      "text/plain": [
       "Text(0.5, 1.0, 'Total Non-Violent Crimes 2008-2012')"
      ]
     },
     "execution_count": 204,
     "metadata": {},
     "output_type": "execute_result"
    },
    {
     "data": {
      "image/png": "[encoded data removed]",
      "text/plain": [
       "<Figure size 432x288 with 2 Axes>"
      ]
     },
     "metadata": {
      "needs_background": "light"
     },
     "output_type": "display_data"
    }
   ],
   "source": [
    "area_total = []\n",
    "\n",
    "Yeardf = df.loc[(df['Year'] >= 2008) & (df['Year'] <= 2012)]\n",
    "Yeardf = Yeardf[Yeardf['Violent'] == False]\n",
    "area = Yeardf['Community Area'].unique()\n",
    "for i in range(1, 78):\n",
    "    if (i in area):\n",
    "        total_in_area = Yeardf[Yeardf['Community Area'] == i] \n",
    "        area_total.append(int(total_in_area['Community Area'].value_counts()))\n",
    "    else:\n",
    "        area_total.append(0)\n",
    "chicago_areas['Total Crimes'] = pd.DataFrame(np.array(area_total))\n",
    "\n",
    "chicago_areas.plot(column = \"Total Crimes\", cmap = \"OrRd\", legend = True)\n",
    "plt.title('Total Non-Violent Crimes 2008-2012')\n",
    "\n"
   ]
  },
  {
   "cell_type": "raw",
   "metadata": {},
   "source": []
  },
  {
   "cell_type": "code",
   "execution_count": 19,
   "metadata": {},
   "outputs": [
    {
     "name": "stdout",
     "output_type": "stream",
     "text": [
      "-91.686565684\n",
      "(-87.7738, -87.5658, 41.8096, 41.9653)\n"
     ]
    }
   ],
   "source": [
    "print(df['Longitude'].min())\n",
    "\n",
    "BBox = ((-87.7738,   -87.5658, 41.8096, 41.9653))\n",
    "\n",
    "print(BBox)"
   ]
  },
  {
   "cell_type": "code",
   "execution_count": 20,
   "metadata": {},
   "outputs": [],
   "source": [
    "import matplotlib.pyplot as plt\n",
    "from matplotlib.widgets import Slider, Button, RadioButtons\n",
    "from ipywidgets import IntSlider\n",
    "from ipywidgets import interact, interactive, fixed, interact_manual\n",
    "import ipywidgets as widgets"
   ]
  },
  {
   "cell_type": "code",
   "execution_count": 21,
   "metadata": {},
   "outputs": [
    {
     "ename": "FileNotFoundError",
     "evalue": "[Errno 2] No such file or directory: 'D:\\\\Classes\\\\CSCE320\\\\Project\\\\ChicagoCrimeAnalysis\\\\Location_map_Chicago.png'",
     "output_type": "error",
     "traceback": [
      "\u001b[1;31m---------------------------------------------------------------------------\u001b[0m",
      "\u001b[1;31mFileNotFoundError\u001b[0m                         Traceback (most recent call last)",
      "\u001b[1;32m<ipython-input-21-a7e440160bf6>\u001b[0m in \u001b[0;36m<module>\u001b[1;34m\u001b[0m\n\u001b[1;32m----> 1\u001b[1;33m \u001b[0mchicagoMap\u001b[0m \u001b[1;33m=\u001b[0m \u001b[0mplt\u001b[0m\u001b[1;33m.\u001b[0m\u001b[0mimread\u001b[0m\u001b[1;33m(\u001b[0m\u001b[1;34m'D:\\Classes\\CSCE320\\Project\\ChicagoCrimeAnalysis\\Location_map_Chicago.png'\u001b[0m\u001b[1;33m)\u001b[0m\u001b[1;33m\u001b[0m\u001b[1;33m\u001b[0m\u001b[0m\n\u001b[0m\u001b[0;32m      2\u001b[0m \u001b[1;33m\u001b[0m\u001b[0m\n\u001b[0;32m      3\u001b[0m \u001b[0mfig\u001b[0m\u001b[1;33m,\u001b[0m \u001b[0max\u001b[0m \u001b[1;33m=\u001b[0m \u001b[0mplt\u001b[0m\u001b[1;33m.\u001b[0m\u001b[0msubplots\u001b[0m\u001b[1;33m(\u001b[0m\u001b[0mfigsize\u001b[0m \u001b[1;33m=\u001b[0m \u001b[1;33m(\u001b[0m\u001b[1;36m8\u001b[0m\u001b[1;33m,\u001b[0m\u001b[1;36m7\u001b[0m\u001b[1;33m)\u001b[0m\u001b[1;33m)\u001b[0m\u001b[1;33m\u001b[0m\u001b[1;33m\u001b[0m\u001b[0m\n\u001b[0;32m      4\u001b[0m \u001b[1;33m\u001b[0m\u001b[0m\n\u001b[0;32m      5\u001b[0m \u001b[0max\u001b[0m\u001b[1;33m.\u001b[0m\u001b[0mscatter\u001b[0m\u001b[1;33m(\u001b[0m\u001b[0mdf\u001b[0m\u001b[1;33m[\u001b[0m\u001b[1;34m'Longitude'\u001b[0m\u001b[1;33m]\u001b[0m\u001b[1;33m,\u001b[0m\u001b[0mdf\u001b[0m\u001b[1;33m[\u001b[0m\u001b[1;34m'Latitude'\u001b[0m\u001b[1;33m]\u001b[0m\u001b[1;33m,\u001b[0m \u001b[0mzorder\u001b[0m\u001b[1;33m=\u001b[0m\u001b[1;36m1\u001b[0m\u001b[1;33m,\u001b[0m \u001b[0malpha\u001b[0m\u001b[1;33m=\u001b[0m\u001b[1;36m0.2\u001b[0m\u001b[1;33m,\u001b[0m\u001b[0mc\u001b[0m\u001b[1;33m=\u001b[0m\u001b[1;34m'b'\u001b[0m\u001b[1;33m,\u001b[0m\u001b[0ms\u001b[0m\u001b[1;33m=\u001b[0m\u001b[1;36m10\u001b[0m\u001b[1;33m)\u001b[0m\u001b[1;33m\u001b[0m\u001b[1;33m\u001b[0m\u001b[0m\n",
      "\u001b[1;32m~\\anaconda3\\lib\\site-packages\\matplotlib\\pyplot.py\u001b[0m in \u001b[0;36mimread\u001b[1;34m(fname, format)\u001b[0m\n\u001b[0;32m   2059\u001b[0m \u001b[1;33m@\u001b[0m\u001b[0mdocstring\u001b[0m\u001b[1;33m.\u001b[0m\u001b[0mcopy\u001b[0m\u001b[1;33m(\u001b[0m\u001b[0mmatplotlib\u001b[0m\u001b[1;33m.\u001b[0m\u001b[0mimage\u001b[0m\u001b[1;33m.\u001b[0m\u001b[0mimread\u001b[0m\u001b[1;33m)\u001b[0m\u001b[1;33m\u001b[0m\u001b[1;33m\u001b[0m\u001b[0m\n\u001b[0;32m   2060\u001b[0m \u001b[1;32mdef\u001b[0m \u001b[0mimread\u001b[0m\u001b[1;33m(\u001b[0m\u001b[0mfname\u001b[0m\u001b[1;33m,\u001b[0m \u001b[0mformat\u001b[0m\u001b[1;33m=\u001b[0m\u001b[1;32mNone\u001b[0m\u001b[1;33m)\u001b[0m\u001b[1;33m:\u001b[0m\u001b[1;33m\u001b[0m\u001b[1;33m\u001b[0m\u001b[0m\n\u001b[1;32m-> 2061\u001b[1;33m     \u001b[1;32mreturn\u001b[0m \u001b[0mmatplotlib\u001b[0m\u001b[1;33m.\u001b[0m\u001b[0mimage\u001b[0m\u001b[1;33m.\u001b[0m\u001b[0mimread\u001b[0m\u001b[1;33m(\u001b[0m\u001b[0mfname\u001b[0m\u001b[1;33m,\u001b[0m \u001b[0mformat\u001b[0m\u001b[1;33m)\u001b[0m\u001b[1;33m\u001b[0m\u001b[1;33m\u001b[0m\u001b[0m\n\u001b[0m\u001b[0;32m   2062\u001b[0m \u001b[1;33m\u001b[0m\u001b[0m\n\u001b[0;32m   2063\u001b[0m \u001b[1;33m\u001b[0m\u001b[0m\n",
      "\u001b[1;32m~\\anaconda3\\lib\\site-packages\\matplotlib\\image.py\u001b[0m in \u001b[0;36mimread\u001b[1;34m(fname, format)\u001b[0m\n\u001b[0;32m   1472\u001b[0m             \u001b[0mfd\u001b[0m \u001b[1;33m=\u001b[0m \u001b[0mBytesIO\u001b[0m\u001b[1;33m(\u001b[0m\u001b[0mrequest\u001b[0m\u001b[1;33m.\u001b[0m\u001b[0murlopen\u001b[0m\u001b[1;33m(\u001b[0m\u001b[0mfname\u001b[0m\u001b[1;33m)\u001b[0m\u001b[1;33m.\u001b[0m\u001b[0mread\u001b[0m\u001b[1;33m(\u001b[0m\u001b[1;33m)\u001b[0m\u001b[1;33m)\u001b[0m\u001b[1;33m\u001b[0m\u001b[1;33m\u001b[0m\u001b[0m\n\u001b[0;32m   1473\u001b[0m             \u001b[1;32mreturn\u001b[0m \u001b[0m_png\u001b[0m\u001b[1;33m.\u001b[0m\u001b[0mread_png\u001b[0m\u001b[1;33m(\u001b[0m\u001b[0mfd\u001b[0m\u001b[1;33m)\u001b[0m\u001b[1;33m\u001b[0m\u001b[1;33m\u001b[0m\u001b[0m\n\u001b[1;32m-> 1474\u001b[1;33m     \u001b[1;32mwith\u001b[0m \u001b[0mcbook\u001b[0m\u001b[1;33m.\u001b[0m\u001b[0mopen_file_cm\u001b[0m\u001b[1;33m(\u001b[0m\u001b[0mfname\u001b[0m\u001b[1;33m,\u001b[0m \u001b[1;34m\"rb\"\u001b[0m\u001b[1;33m)\u001b[0m \u001b[1;32mas\u001b[0m \u001b[0mfile\u001b[0m\u001b[1;33m:\u001b[0m\u001b[1;33m\u001b[0m\u001b[1;33m\u001b[0m\u001b[0m\n\u001b[0m\u001b[0;32m   1475\u001b[0m         \u001b[1;32mreturn\u001b[0m \u001b[0m_png\u001b[0m\u001b[1;33m.\u001b[0m\u001b[0mread_png\u001b[0m\u001b[1;33m(\u001b[0m\u001b[0mfile\u001b[0m\u001b[1;33m)\u001b[0m\u001b[1;33m\u001b[0m\u001b[1;33m\u001b[0m\u001b[0m\n\u001b[0;32m   1476\u001b[0m \u001b[1;33m\u001b[0m\u001b[0m\n",
      "\u001b[1;32m~\\anaconda3\\lib\\contextlib.py\u001b[0m in \u001b[0;36m__enter__\u001b[1;34m(self)\u001b[0m\n\u001b[0;32m    111\u001b[0m         \u001b[1;32mdel\u001b[0m \u001b[0mself\u001b[0m\u001b[1;33m.\u001b[0m\u001b[0margs\u001b[0m\u001b[1;33m,\u001b[0m \u001b[0mself\u001b[0m\u001b[1;33m.\u001b[0m\u001b[0mkwds\u001b[0m\u001b[1;33m,\u001b[0m \u001b[0mself\u001b[0m\u001b[1;33m.\u001b[0m\u001b[0mfunc\u001b[0m\u001b[1;33m\u001b[0m\u001b[1;33m\u001b[0m\u001b[0m\n\u001b[0;32m    112\u001b[0m         \u001b[1;32mtry\u001b[0m\u001b[1;33m:\u001b[0m\u001b[1;33m\u001b[0m\u001b[1;33m\u001b[0m\u001b[0m\n\u001b[1;32m--> 113\u001b[1;33m             \u001b[1;32mreturn\u001b[0m \u001b[0mnext\u001b[0m\u001b[1;33m(\u001b[0m\u001b[0mself\u001b[0m\u001b[1;33m.\u001b[0m\u001b[0mgen\u001b[0m\u001b[1;33m)\u001b[0m\u001b[1;33m\u001b[0m\u001b[1;33m\u001b[0m\u001b[0m\n\u001b[0m\u001b[0;32m    114\u001b[0m         \u001b[1;32mexcept\u001b[0m \u001b[0mStopIteration\u001b[0m\u001b[1;33m:\u001b[0m\u001b[1;33m\u001b[0m\u001b[1;33m\u001b[0m\u001b[0m\n\u001b[0;32m    115\u001b[0m             \u001b[1;32mraise\u001b[0m \u001b[0mRuntimeError\u001b[0m\u001b[1;33m(\u001b[0m\u001b[1;34m\"generator didn't yield\"\u001b[0m\u001b[1;33m)\u001b[0m \u001b[1;32mfrom\u001b[0m \u001b[1;32mNone\u001b[0m\u001b[1;33m\u001b[0m\u001b[1;33m\u001b[0m\u001b[0m\n",
      "\u001b[1;32m~\\anaconda3\\lib\\site-packages\\matplotlib\\cbook\\__init__.py\u001b[0m in \u001b[0;36mopen_file_cm\u001b[1;34m(path_or_file, mode, encoding)\u001b[0m\n\u001b[0;32m    416\u001b[0m \u001b[1;32mdef\u001b[0m \u001b[0mopen_file_cm\u001b[0m\u001b[1;33m(\u001b[0m\u001b[0mpath_or_file\u001b[0m\u001b[1;33m,\u001b[0m \u001b[0mmode\u001b[0m\u001b[1;33m=\u001b[0m\u001b[1;34m\"r\"\u001b[0m\u001b[1;33m,\u001b[0m \u001b[0mencoding\u001b[0m\u001b[1;33m=\u001b[0m\u001b[1;32mNone\u001b[0m\u001b[1;33m)\u001b[0m\u001b[1;33m:\u001b[0m\u001b[1;33m\u001b[0m\u001b[1;33m\u001b[0m\u001b[0m\n\u001b[0;32m    417\u001b[0m     \u001b[1;34mr\"\"\"Pass through file objects and context-manage `.PathLike`\\s.\"\"\"\u001b[0m\u001b[1;33m\u001b[0m\u001b[1;33m\u001b[0m\u001b[0m\n\u001b[1;32m--> 418\u001b[1;33m     \u001b[0mfh\u001b[0m\u001b[1;33m,\u001b[0m \u001b[0mopened\u001b[0m \u001b[1;33m=\u001b[0m \u001b[0mto_filehandle\u001b[0m\u001b[1;33m(\u001b[0m\u001b[0mpath_or_file\u001b[0m\u001b[1;33m,\u001b[0m \u001b[0mmode\u001b[0m\u001b[1;33m,\u001b[0m \u001b[1;32mTrue\u001b[0m\u001b[1;33m,\u001b[0m \u001b[0mencoding\u001b[0m\u001b[1;33m)\u001b[0m\u001b[1;33m\u001b[0m\u001b[1;33m\u001b[0m\u001b[0m\n\u001b[0m\u001b[0;32m    419\u001b[0m     \u001b[1;32mif\u001b[0m \u001b[0mopened\u001b[0m\u001b[1;33m:\u001b[0m\u001b[1;33m\u001b[0m\u001b[1;33m\u001b[0m\u001b[0m\n\u001b[0;32m    420\u001b[0m         \u001b[1;32mwith\u001b[0m \u001b[0mfh\u001b[0m\u001b[1;33m:\u001b[0m\u001b[1;33m\u001b[0m\u001b[1;33m\u001b[0m\u001b[0m\n",
      "\u001b[1;32m~\\anaconda3\\lib\\site-packages\\matplotlib\\cbook\\__init__.py\u001b[0m in \u001b[0;36mto_filehandle\u001b[1;34m(fname, flag, return_opened, encoding)\u001b[0m\n\u001b[0;32m    401\u001b[0m             \u001b[0mfh\u001b[0m \u001b[1;33m=\u001b[0m \u001b[0mbz2\u001b[0m\u001b[1;33m.\u001b[0m\u001b[0mBZ2File\u001b[0m\u001b[1;33m(\u001b[0m\u001b[0mfname\u001b[0m\u001b[1;33m,\u001b[0m \u001b[0mflag\u001b[0m\u001b[1;33m)\u001b[0m\u001b[1;33m\u001b[0m\u001b[1;33m\u001b[0m\u001b[0m\n\u001b[0;32m    402\u001b[0m         \u001b[1;32melse\u001b[0m\u001b[1;33m:\u001b[0m\u001b[1;33m\u001b[0m\u001b[1;33m\u001b[0m\u001b[0m\n\u001b[1;32m--> 403\u001b[1;33m             \u001b[0mfh\u001b[0m \u001b[1;33m=\u001b[0m \u001b[0mopen\u001b[0m\u001b[1;33m(\u001b[0m\u001b[0mfname\u001b[0m\u001b[1;33m,\u001b[0m \u001b[0mflag\u001b[0m\u001b[1;33m,\u001b[0m \u001b[0mencoding\u001b[0m\u001b[1;33m=\u001b[0m\u001b[0mencoding\u001b[0m\u001b[1;33m)\u001b[0m\u001b[1;33m\u001b[0m\u001b[1;33m\u001b[0m\u001b[0m\n\u001b[0m\u001b[0;32m    404\u001b[0m         \u001b[0mopened\u001b[0m \u001b[1;33m=\u001b[0m \u001b[1;32mTrue\u001b[0m\u001b[1;33m\u001b[0m\u001b[1;33m\u001b[0m\u001b[0m\n\u001b[0;32m    405\u001b[0m     \u001b[1;32melif\u001b[0m \u001b[0mhasattr\u001b[0m\u001b[1;33m(\u001b[0m\u001b[0mfname\u001b[0m\u001b[1;33m,\u001b[0m \u001b[1;34m'seek'\u001b[0m\u001b[1;33m)\u001b[0m\u001b[1;33m:\u001b[0m\u001b[1;33m\u001b[0m\u001b[1;33m\u001b[0m\u001b[0m\n",
      "\u001b[1;31mFileNotFoundError\u001b[0m: [Errno 2] No such file or directory: 'D:\\\\Classes\\\\CSCE320\\\\Project\\\\ChicagoCrimeAnalysis\\\\Location_map_Chicago.png'"
     ]
    }
   ],
   "source": [
    "chicagoMap = plt.imread('D:\\Classes\\CSCE320\\Project\\ChicagoCrimeAnalysis\\Location_map_Chicago.png')\n",
    "\n",
    "fig, ax = plt.subplots(figsize = (8,7))\n",
    "\n",
    "ax.scatter(df['Longitude'],df['Latitude'], zorder=1, alpha=0.2,c='b',s=10)\n",
    "\n",
    "\n",
    "ax.set_xlim(BBox[0],BBox[1])\n",
    "ax.set_ylim(BBox[2],BBox[3])\n",
    "\n",
    "\n",
    "\n",
    "ax.imshow(chicagoMap, zorder=0, extent = BBox, aspect= 'equal')"
   ]
  },
  {
   "cell_type": "code",
   "execution_count": 22,
   "metadata": {},
   "outputs": [
    {
     "name": "stdout",
     "output_type": "stream",
     "text": [
      "[[ 0.  0.  0. ...  1.  0.  0.]\n",
      " [ 0.  0.  0. ... 39.  0.  0.]\n",
      " [ 0.  0.  0. ... 35.  0.  0.]\n",
      " ...\n",
      " [ 0.  0.  0. ...  0.  0.  0.]\n",
      " [ 0.  0.  2. ...  0.  0.  0.]\n",
      " [33.  0.  0. ...  0.  0.  0.]]\n"
     ]
    },
    {
     "data": {
      "image/png": "[encoded data removed]",
      "text/plain": [
       "<Figure size 432x288 with 1 Axes>"
      ]
     },
     "metadata": {
      "needs_background": "light"
     },
     "output_type": "display_data"
    }
   ],
   "source": [
    "\n",
    "import matplotlib.cm as cm\n",
    "from scipy.ndimage.filters import gaussian_filter\n",
    "import matplotlib.pyplot as plt\n",
    "%matplotlib inline\n",
    "\n",
    "df = df[df['Latitude']>41.8096]\n",
    "df = df[df['Latitude']<41.9653]\n",
    "df = df[df['Longitude']>-87.7738]\n",
    "df = df[df['Longitude']<-87.5658]\n",
    "\n",
    "y = df.loc[:, 'Latitude'].tolist()\n",
    "x = df.loc[:, 'Longitude'].tolist()\n",
    "\n",
    "heatmap, xedges, yedges = np.histogram2d(x,y,bins=1000)\n",
    "print(heatmap)\n",
    "extent = [xedges[0], xedges[-1], yedges[0], yedges[-1]]\n",
    "heatmap = gaussian_filter(heatmap, sigma=4)\n",
    "\n",
    "plt.clf()\n",
    "plt.imshow(heatmap.T, extent=extent, origin='lower')\n",
    "plt.show()"
   ]
  },
  {
   "cell_type": "code",
   "execution_count": null,
   "metadata": {},
   "outputs": [],
   "source": [
    "\n",
    "\n"
   ]
  },
  {
   "cell_type": "code",
   "execution_count": 97,
   "metadata": {},
   "outputs": [
    {
     "name": "stdout",
     "output_type": "stream",
     "text": [
      "               ID Case Number                    Date  \\\n",
      "63291    11665567    JC234307  04/10/2019 04:37:00 PM   \n",
      "63376    11667963    JC235212  04/12/2019 04:08:00 PM   \n",
      "63377    11667968    JC237058  04/19/2019 01:57:00 PM   \n",
      "63453    11668309    JC238187  04/25/2019 05:20:00 PM   \n",
      "63857    11692179    JC261724  05/13/2019 05:26:00 PM   \n",
      "...           ...         ...                     ...   \n",
      "7221318   9999999    HY189683  03/18/2015 05:08:00 PM   \n",
      "7221319  11700037    JC278815  05/26/2019 12:10:00 AM   \n",
      "7221321  11700926    JC279725  05/26/2019 05:13:00 PM   \n",
      "7221322     24560    JC279072  05/26/2019 06:48:00 AM   \n",
      "7221325     24559    JC278908  05/26/2019 02:11:00 AM   \n",
      "\n",
      "                                       Block  IUCR  \\\n",
      "63291                     102XX S VERNON AVE  1562   \n",
      "63376                     032XX N KEELER AVE  1754   \n",
      "63377                    002XX N LARAMIE AVE  1752   \n",
      "63453    108XX S DR MARTIN LUTHER KING JR DR  0486   \n",
      "63857                     090XX S RACINE AVE  0560   \n",
      "...                                      ...   ...   \n",
      "7221318                  043XX N CENTRAL AVE  0560   \n",
      "7221319                  046XX W MC LEAN AVE  0460   \n",
      "7221321                 036XX W DOUGLAS BLVD  2825   \n",
      "7221322                  013XX W HASTINGS ST  0110   \n",
      "7221325                  013XX W HASTINGS ST  0110   \n",
      "\n",
      "                       Primary Type  \\\n",
      "63291                   SEX OFFENSE   \n",
      "63376    OFFENSE INVOLVING CHILDREN   \n",
      "63377    OFFENSE INVOLVING CHILDREN   \n",
      "63453                       BATTERY   \n",
      "63857                       ASSAULT   \n",
      "...                             ...   \n",
      "7221318                     ASSAULT   \n",
      "7221319                     BATTERY   \n",
      "7221321               OTHER OFFENSE   \n",
      "7221322                    HOMICIDE   \n",
      "7221325                    HOMICIDE   \n",
      "\n",
      "                                               Description  \\\n",
      "63291                     AGGRAVATED CRIMINAL SEXUAL ABUSE   \n",
      "63376                       AGG SEX ASSLT OF CHILD FAM MBR   \n",
      "63377    AGGRAVATED CRIMINAL SEXUAL ABUSE BY FAMILY MEMBER   \n",
      "63453                              DOMESTIC BATTERY SIMPLE   \n",
      "63857                                               SIMPLE   \n",
      "...                                                    ...   \n",
      "7221318                                             SIMPLE   \n",
      "7221319                                             SIMPLE   \n",
      "7221321                            HARASSMENT BY TELEPHONE   \n",
      "7221322                                FIRST DEGREE MURDER   \n",
      "7221325                                FIRST DEGREE MURDER   \n",
      "\n",
      "             Location Description  Arrest  Domestic  ...  X Coordinate  \\\n",
      "63291    SCHOOL - PUBLIC BUILDING   False     False  ...     1181051.0   \n",
      "63376                   RESIDENCE   False      True  ...     1147835.0   \n",
      "63377                   RESIDENCE   False      True  ...     1141669.0   \n",
      "63453                   RESIDENCE   False      True  ...     1180832.0   \n",
      "63857                      STREET   False     False  ...     1169908.0   \n",
      "...                           ...     ...       ...  ...           ...   \n",
      "7221318                RESTAURANT    True     False  ...     1138222.0   \n",
      "7221319                 RESIDENCE    True     False  ...     1145043.0   \n",
      "7221321                 APARTMENT   False      True  ...     1152126.0   \n",
      "7221322           CHA PARKING LOT    True     False  ...     1167752.0   \n",
      "7221325                    STREET   False     False  ...     1167746.0   \n",
      "\n",
      "         Y Coordinate  Year              Updated On   Latitude  Longitude  \\\n",
      "63291       1837225.0  2019  04/17/2020 03:50:24 PM  41.708589 -87.612583   \n",
      "63376       1921408.0  2019  10/02/2019 04:13:24 PM  41.940298 -87.732066   \n",
      "63377       1901165.0  2019  03/18/2020 03:52:17 PM  41.884865 -87.755230   \n",
      "63453       1833222.0  2019  06/30/2019 03:56:27 PM  41.697609 -87.613508   \n",
      "63857       1844927.0  2019  06/30/2019 03:56:27 PM  41.729973 -87.653167   \n",
      "...               ...   ...                     ...        ...        ...   \n",
      "7221318     1928502.0  2015  02/10/2018 03:50:01 PM  41.959944 -87.767226   \n",
      "7221319     1913219.0  2019  06/30/2019 03:56:27 PM  41.917879 -87.742535   \n",
      "7221321     1893208.0  2019  06/30/2019 03:56:27 PM  41.862830 -87.717040   \n",
      "7221322     1893853.0  2019  06/20/2020 03:48:45 PM  41.864278 -87.659660   \n",
      "7221325     1893853.0  2019  06/20/2020 03:48:45 PM  41.864278 -87.659682   \n",
      "\n",
      "                              Location  Month Day  Violent  \n",
      "63291       (41.708589, -87.612583094)      4  10    False  \n",
      "63376    (41.940297617, -87.732066473)      4  12    False  \n",
      "63377    (41.884865037, -87.755230327)      4  19    False  \n",
      "63453    (41.697609261, -87.613507612)      4  25     True  \n",
      "63857    (41.729973132, -87.653166753)      5  13     True  \n",
      "...                                ...    ...  ..      ...  \n",
      "7221318  (41.959943835, -87.767225719)      3  18     True  \n",
      "7221319  (41.917879493, -87.742535496)      5  26     True  \n",
      "7221321  (41.862830429, -87.717040084)      5  26    False  \n",
      "7221322  (41.864278228, -87.659660218)      5  26     True  \n",
      "7221325  (41.864278357, -87.659682244)      5  26     True  \n",
      "\n",
      "[6540212 rows x 25 columns]\n"
     ]
    }
   ],
   "source": []
  },
  {
   "cell_type": "code",
   "execution_count": null,
   "metadata": {},
   "outputs": [],
   "source": [
    "\n"
   ]
  },
  {
   "cell_type": "code",
   "execution_count": null,
   "metadata": {},
   "outputs": [],
   "source": []
  },
  {
   "cell_type": "code",
   "execution_count": null,
   "metadata": {
    "scrolled": false
   },
   "outputs": [],
   "source": []
  },
  {
   "cell_type": "code",
   "execution_count": 95,
   "metadata": {},
   "outputs": [],
   "source": [
    "opt =['All']\n",
    "for i in range(2001,2021):\n",
    "    opt.append(str(i))\n",
    "    \n",
    "types = ['All']\n",
    "types += data['Primary Type'].value_counts().index.tolist()\n",
    "\n",
    "optMonth = ['none']\n",
    "optDay = ['none']\n",
    "for i in range (1, 31):\n",
    "    optDay.append(str(i))\n",
    "    if (i < 13):\n",
    "        optMonth.append(str(i))\n",
    "    "
   ]
  },
  {
   "cell_type": "code",
   "execution_count": 192,
   "metadata": {},
   "outputs": [
    {
     "data": {
      "application/vnd.jupyter.widget-view+json": {
       "model_id": "195449b5414a487591c73e9d80a6fca8",
       "version_major": 2,
       "version_minor": 0
      },
      "text/plain": [
       "HBox(children=(Dropdown(description='Type:', options=('All', 'THEFT', 'BATTERY', 'CRIMINAL DAMAGE', 'NARCOTICS…"
      ]
     },
     "metadata": {},
     "output_type": "display_data"
    },
    {
     "data": {
      "application/vnd.jupyter.widget-view+json": {
       "model_id": "a102da1d2b994ce3843a0d88fd9e3594",
       "version_major": 2,
       "version_minor": 0
      },
      "text/plain": [
       "Output()"
      ]
     },
     "metadata": {},
     "output_type": "display_data"
    }
   ],
   "source": [
    "typeDrop = widgets.Dropdown(\n",
    "    options=types,\n",
    "    value='All',\n",
    "    description='Type:'\n",
    ")\n",
    "\n",
    "monthDrop = widgets.Dropdown (\n",
    "    options= optMonth,\n",
    "    value='none',\n",
    "    description='Month:'\n",
    ")\n",
    "\n",
    "drop = widgets.Dropdown(\n",
    "    options=opt,\n",
    "    value='2019',\n",
    "    description='Year:'\n",
    ")\n",
    "\n",
    "drop2 = widgets.Dropdown(\n",
    "    options=opt,\n",
    "    value='2020',\n",
    "    description='Year:'\n",
    ")\n",
    "\n",
    "\n",
    "yr1 = drop\n",
    "month = monthDrop\n",
    "cmpr = widgets.Checkbox(description='Compare')\n",
    "yr2 = drop2\n",
    "ui = widgets.HBox([typeDrop, month, yr1, cmpr,yr2])\n",
    "\n",
    "def f(typeOf, month, year1, compare, year2):\n",
    "    month_names = ['Jan', 'Feb', 'Mar', 'Apr', 'May', 'Jun', 'Jul', 'Aug', 'Sep', 'Oct', 'Nov', 'Dec']\n",
    "\n",
    "    dfYear = df[df['Year'] == int(year1)]\n",
    "    title = \"\"\n",
    "    if typeOf != 'All':\n",
    "            dfYear = dfYear[dfYear['Primary Type'] == typeOf]\n",
    "    if month != 'none':\n",
    "            dfYear = dfYear[dfYear['Month'] == int(month)]\n",
    "            title = month_names[int(month) - 1] + \" \"\n",
    "\n",
    "\n",
    "    crime_types = dfYear['Primary Type'].value_counts().index.tolist()\n",
    "    crime_types_count = dfYear['Primary Type'].value_counts()\n",
    "    \n",
    "    title += year1 + \" Type of Crime\"\n",
    "    \n",
    "    if compare == True:\n",
    "\n",
    "        title = year1 + \" vs. \" + year2+\" Type of Crime\"\n",
    "        dfYear2 = df[df['Year'] == int(year2)]\n",
    "        \n",
    "        if typeOf != 'All':\n",
    "            dfYear2 = dfYear2[dfYear2['Primary Type'] == typeOf]\n",
    "            \n",
    "        crime_types2 = dfYear2['Primary Type'].value_counts().index.tolist()\n",
    "        crime_types_count2 = dfYear2['Primary Type'].value_counts()\n",
    "        fig,ax = plt.subplots(figsize=(8,7))\n",
    "        ax.set_title(title)\n",
    "        ax.barh(crime_types,crime_types_count,color = 'b',label=year1)\n",
    "        ax.barh(crime_types2,crime_types_count2,color = 'r',label=year2)\n",
    "#         ax.set_xticks(rotation=0)\n",
    "        ax.invert_yaxis()\n",
    "        ax.legend(loc='lower right')\n",
    "        plt.show()\n",
    "    else:\n",
    "\n",
    "        plt.figure(figsize=(8,7))\n",
    "        plt.title(title)\n",
    "        plt.barh(crime_types,crime_types_count)\n",
    "        plt.xticks(rotation=0)\n",
    "        plt.gca().invert_yaxis()\n",
    "        for index, value in enumerate(crime_types_count):\n",
    "            plt.text(value, index, str(value))\n",
    "        plt.show()\n",
    "    \n",
    "#     if compare == True:\n",
    "#         interact(f, year1=drop, compare=False,year2)\n",
    "\n",
    "    \n",
    "#interact(f, year=drop, compare=False)\n",
    "out = widgets.interactive_output(f, {'typeOf': typeDrop, 'month': month, 'year1': yr1, 'compare' : cmpr, 'year2':yr2})\n",
    "\n",
    "\n",
    "display(ui,out)"
   ]
  },
  {
   "cell_type": "code",
   "execution_count": 241,
   "metadata": {},
   "outputs": [
    {
     "data": {
      "application/vnd.jupyter.widget-view+json": {
       "model_id": "99026c47482e49688393bd2cf241000b",
       "version_major": 2,
       "version_minor": 0
      },
      "text/plain": [
       "HBox(children=(Dropdown(description='Year:', index=19, options=('All', '2001', '2002', '2003', '2004', '2005',…"
      ]
     },
     "metadata": {},
     "output_type": "display_data"
    },
    {
     "data": {
      "application/vnd.jupyter.widget-view+json": {
       "model_id": "fd70b018a315436abd53ba75c1542465",
       "version_major": 2,
       "version_minor": 0
      },
      "text/plain": [
       "Output()"
      ]
     },
     "metadata": {},
     "output_type": "display_data"
    }
   ],
   "source": [
    "\n",
    "drop = widgets.Dropdown(\n",
    "    options=opt,\n",
    "    value='2019',\n",
    "    description='Year:'\n",
    ")\n",
    "drop2 = widgets.Dropdown(\n",
    "    options=optMonth,\n",
    "    value='none',\n",
    "    description='Month:'\n",
    ")\n",
    "drop3 = widgets.Dropdown(\n",
    "    options=['yes', 'no', 'both'],\n",
    "    value='both',\n",
    "    description='Violent Crimes:'\n",
    ")\n",
    "cmpr = widgets.Checkbox(description='Compare')\n",
    "year = drop\n",
    "month = drop2\n",
    "violent = drop3\n",
    "ui = widgets.HBox([year, month, violent,cmpr])\n",
    "\n",
    "def f2(year, month, violent, compare):\n",
    "    dfYear = data[data['Year'] == int(year)]\n",
    "    month_names = ['Jan', 'Feb', 'Mar', 'Apr', 'May', 'Jun', 'Jul', 'Aug', 'Sep', 'Oct', 'Nov', 'Dec']\n",
    "    month_names2 = ['Jan', 'Feb', 'Mar', 'Apr', 'May', 'Jun', 'Jul', 'Aug', 'Sep', 'Oct', 'Nov', 'Dec']\n",
    "\n",
    "    if (violent == 'yes'):\n",
    "        dfYear = dfYear[dfYear['Violent']]\n",
    "    elif (violent == 'no'):\n",
    "        dfYear = dfYear[dfYear['Violent'] == False]\n",
    " \n",
    "    \n",
    "    if (compare):     \n",
    "        title = \"comparison of total crime per month in \" + year\n",
    "\n",
    "        count = []\n",
    "        dfViolent1 = dfYear[dfYear['Violent']]\n",
    "        for i in range(1,13):\n",
    "            dfMonth = dfViolent1[dfViolent1['Month'] == i]\n",
    "\n",
    "    #     crime_types = dfMonth['Primary Type'].value_counts().index.tolist()\n",
    "            total_count = sum(dfMonth['Primary Type'].value_counts().tolist())\n",
    "            count.append(total_count)\n",
    "        count2 = []\n",
    "        dfViolent2 = dfYear[dfYear['Violent'] == False]\n",
    "        for i in range(1,13):\n",
    "            dfMonth = dfViolent2[dfViolent2['Month'] == i]\n",
    "\n",
    "    #     crime_types = dfMonth['Primary Type'].value_counts().index.tolist()\n",
    "            total_count = sum(dfMonth['Primary Type'].value_counts().tolist())\n",
    "            count2.append(total_count)\n",
    "        total = [x + y for x, y in zip(count, count2)]\n",
    "        fig,ax = plt.subplots(figsize=(8,7))\n",
    "        ax.set_title(title)\n",
    "        ax.barh(month_names2,count2,color = 'grey',label=\"non-violent\")\n",
    "        for index, value in enumerate(count2):\n",
    "            plt.text(value, index, str(np.round(value/total[index] * 100)))\n",
    "        ax.barh(month_names,count,color = 'r',label=\"violent\")\n",
    "        for index, value in enumerate(count):\n",
    "            plt.text(value, index, str(np.round(value/total[index] * 100)), color='w')\n",
    "        ax.invert_yaxis()\n",
    "        ax.legend(loc='lower right')\n",
    "        plt.show()\n",
    "    else: \n",
    "        if (month == 'none') :\n",
    "            count = []\n",
    "            for i in range(1,13):\n",
    "                dfMonth = dfYear[dfYear['Month'] == i]\n",
    "\n",
    "        #     crime_types = dfMonth['Primary Type'].value_counts().index.tolist()\n",
    "                total_count = sum(dfMonth['Primary Type'].value_counts().tolist())\n",
    "                count.append(total_count)\n",
    "            title = \"total crime per month in \" + year\n",
    "            plt.figure(figsize=(8,7))\n",
    "            plt.title(title)\n",
    "            plt.barh(month_names,count)\n",
    "            plt.xticks(rotation=0)\n",
    "            plt.gca().invert_yaxis()\n",
    "            for index, value in enumerate(count):\n",
    "                plt.text(value, index, str(value))\n",
    "            plt.show()\n",
    "        else :\n",
    "            dfMonth = dfYear[dfYear['Month'] == int(month)]\n",
    "            bday = dfMonth['Day'].unique().max()\n",
    "            count = []\n",
    "            days = []\n",
    "            for i in range(1, bday + 1):\n",
    "                days.append(str(i))\n",
    "                dfDay = dfMonth[dfMonth['Day'] == i]\n",
    "                total_count = sum(dfDay['Primary Type'].value_counts().tolist())\n",
    "                count.append(total_count)\n",
    "            title = \"total crime per day in \" + month_names[int(month) - 1] + \", \" +  year\n",
    "            plt.figure(figsize=(10,12))\n",
    "            plt.title(title)\n",
    "            plt.barh(days,count)\n",
    "            plt.xticks(rotation=0)\n",
    "            plt.gca().invert_yaxis()\n",
    "            for index, value in enumerate(count):\n",
    "                plt.text(value, index, str(value))\n",
    "            plt.show()\n",
    "\n",
    "out = widgets.interactive_output(f2, {'year': year, 'month': month, 'violent': violent, 'compare': cmpr})\n",
    "display(ui,out)\n"
   ]
  },
  {
   "cell_type": "markdown",
   "metadata": {},
   "source": [
    "# Question: Can we predict what location most crime will happen in future years?\n",
    "## Method: Clustering\n",
    "\n",
    "In order for us to predict where crime will happen we will use a clustering algorithm called K means. \n",
    "\n",
    "**We will use data from the years 2014 to 2018 to try and predict where crime** will happen in future years. Then we will use the data from **the year 2019** to see how accurate our model is. \n",
    "\n",
    "But first we need to find out what is the ideal number of clusters we should use for our clustering algorithm. For this we opted to use the silhouette method which measures how similar a point is to its own cluster compared to other cluster"
   ]
  },
  {
   "cell_type": "markdown",
   "metadata": {},
   "source": [
    "# The Silhouette Method\n",
    "As you can see below, **the silhoutte method tells us that the most optimal number of clusters is 9**. we should note that we used the data from 2018 only and that we only tested cluster sizes from 3 to 15 so there could be a more optimal number of clusters since the graph appears to be increasing towards the end, but due to time constrains and the silhoutte algorithm take a really long time to evaluate each cluster size, we have opted to just go with 9 clusters which is indicated by the \"global\" maximum.\n",
    "\n",
    "(Note: we only included a screenshot of the code since we ran it in another notebook and it took 2 hours to run so we didn't want to waste another 2 hours running it in this notebook)"
   ]
  },
  {
   "cell_type": "markdown",
   "metadata": {},
   "source": [
    "![title](sil.png)"
   ]
  },
  {
   "cell_type": "markdown",
   "metadata": {},
   "source": [
    "# Clustering\n",
    "\n",
    "In this section we run the k means clustering algorithm on a data set containing points for the years 2014 to 2018."
   ]
  },
  {
   "cell_type": "code",
   "execution_count": 83,
   "metadata": {},
   "outputs": [],
   "source": [
    "import pandas as pd\n",
    "from sklearn.cluster import KMeans\n",
    "import numpy as np\n",
    "import matplotlib.pyplot as plt"
   ]
  },
  {
   "cell_type": "code",
   "execution_count": 8,
   "metadata": {},
   "outputs": [],
   "source": [
    "data = pd.read_csv(\"D:\\Classes\\CSCE320\\Project\\Crimes_-_2001_to_Present.csv\")"
   ]
  },
  {
   "cell_type": "markdown",
   "metadata": {},
   "source": [
    "## Data cleaning"
   ]
  },
  {
   "cell_type": "code",
   "execution_count": 13,
   "metadata": {},
   "outputs": [
    {
     "name": "stderr",
     "output_type": "stream",
     "text": [
      "D:\\Anaconda\\lib\\site-packages\\IPython\\core\\interactiveshell.py:3071: DtypeWarning: Columns (21) have mixed types.Specify dtype option on import or set low_memory=False.\n",
      "  has_raised = await self.run_ast_nodes(code_ast.body, cell_name,\n"
     ]
    }
   ],
   "source": [
    "\n",
    "df = data[data['Year'] < 2019]\n",
    "df = df[df['Year'] > 2013]\n",
    "df = df[df['Latitude'].notna()]\n",
    "df = df[df['Longitude'].notna()]\n",
    "\n",
    "df = df[df['Latitude'] > 40]\n",
    "df = df[df['Longitude'] > -91]\n",
    "\n",
    "latlon16To18 = df[['Latitude', 'Longitude']].copy()"
   ]
  },
  {
   "cell_type": "markdown",
   "metadata": {},
   "source": [
    "## Running Kmeans"
   ]
  },
  {
   "cell_type": "code",
   "execution_count": 14,
   "metadata": {},
   "outputs": [],
   "source": [
    "kmeans = KMeans(n_clusters = 9).fit(latlon16To18)\n",
    "centroids = kmeans.cluster_centers_\n",
    "labels = kmeans.labels_\n",
    "counts = np.bincount(labels[labels>=0])"
   ]
  },
  {
   "cell_type": "code",
   "execution_count": 27,
   "metadata": {},
   "outputs": [
    {
     "data": {
      "image/png": "[encoded data removed]",
      "text/plain": [
       "<Figure size 432x288 with 1 Axes>"
      ]
     },
     "metadata": {
      "needs_background": "light"
     },
     "output_type": "display_data"
    }
   ],
   "source": [
    "plt.scatter(latlon16To18['Longitude'], latlon16To18['Latitude'], c= kmeans.labels_.astype(float), s=50, alpha=0.5)\n",
    "plt.scatter(centroids[:, 1], centroids[:, 0], c='red', s=counts/400)\n",
    "plt.title('2014 - 2018 Clusters')\n",
    "plt.ylabel('Latitude')\n",
    "plt.xlabel('Longitude')\n",
    "plt.show()"
   ]
  },
  {
   "cell_type": "code",
   "execution_count": 35,
   "metadata": {},
   "outputs": [
    {
     "name": "stdout",
     "output_type": "stream",
     "text": [
      "Counts per centroud:  [119575 167088 201853 133504 148094 120786  49165 209249 177900] \n",
      " centorid coordinates [[ 41.7824346  -87.7060526 ]\n",
      " [ 41.9060605  -87.74583147]\n",
      " [ 41.88770116 -87.6403326 ]\n",
      " [ 41.74432662 -87.57567268]\n",
      " [ 41.96995457 -87.67979708]\n",
      " [ 41.70325497 -87.63794773]\n",
      " [ 41.96169334 -87.80215379]\n",
      " [ 41.78517085 -87.63388883]\n",
      " [ 41.87212362 -87.70793415]]\n"
     ]
    }
   ],
   "source": [
    "print(\"Counts per centroud: \",counts,\"\\n centorid coordinates\", centroids)"
   ]
  },
  {
   "cell_type": "markdown",
   "metadata": {},
   "source": [
    "# Clustering Predictions\n",
    "\n",
    "As we can see, our **clustering algorithm predicted that most of the crime will happen around longitude and latitude coordinates of (41.78517085, -87.63388883)**,  (41.88770116, -87.6403326), and (41.87212362. -87.70793415) in that order. This is evident by using the cluster centers and the amount of points that each cluster contains"
   ]
  },
  {
   "cell_type": "markdown",
   "metadata": {},
   "source": [
    "# Evaluating our clusters\n",
    "\n",
    "To evaluate how good our prediction is we will use the data of 2019 and run the same clustering algorithm and compare out prediction with the actual data of 2019. This should give us an idea of just how close we were to actually predicting future crime using past years."
   ]
  },
  {
   "cell_type": "markdown",
   "metadata": {},
   "source": [
    "## More data cleaning"
   ]
  },
  {
   "cell_type": "code",
   "execution_count": 17,
   "metadata": {},
   "outputs": [],
   "source": [
    "df2 = data[data['Year'] == 2019]\n",
    "df2 = df[df['Latitude'].notna()]\n",
    "df2 = df[df['Longitude'].notna()]\n",
    "\n",
    "df2 = df[df['Latitude'] > 40]\n",
    "df2 = df[df['Longitude'] > -91]\n",
    "\n",
    "latlon19 = df2[['Latitude', 'Longitude']].copy()"
   ]
  },
  {
   "cell_type": "markdown",
   "metadata": {},
   "source": [
    "## Running Kmeans"
   ]
  },
  {
   "cell_type": "code",
   "execution_count": 18,
   "metadata": {},
   "outputs": [],
   "source": [
    "kmeans2 = KMeans(n_clusters = 9).fit(latlon19)\n",
    "centroids2 = kmeans2.cluster_centers_\n",
    "labels2 = kmeans2.labels_\n",
    "counts2 = np.bincount(labels2[labels2>=0])"
   ]
  },
  {
   "cell_type": "code",
   "execution_count": 34,
   "metadata": {},
   "outputs": [
    {
     "name": "stdout",
     "output_type": "stream",
     "text": [
      "Counts per centroud:  [181682 209265 200952 119977 149577 120540  48521 163270 133430] \n",
      " centorid coordinates [[ 41.8732188  -87.70809948]\n",
      " [ 41.78491081 -87.63389946]\n",
      " [ 41.88731398 -87.64007232]\n",
      " [ 41.78274463 -87.70596916]\n",
      " [ 41.96946616 -87.67997031]\n",
      " [ 41.70308788 -87.63792428]\n",
      " [ 41.96216377 -87.80260369]\n",
      " [ 41.90608327 -87.747082  ]\n",
      " [ 41.7443002  -87.57563783]]\n"
     ]
    }
   ],
   "source": [
    "print(\"Counts per centroud: \",counts2,\"\\n centorid coordinates\", centroids2)"
   ]
  },
  {
   "cell_type": "code",
   "execution_count": 32,
   "metadata": {},
   "outputs": [
    {
     "data": {
      "image/png": "[encoded data removed]",
      "text/plain": [
       "<Figure size 432x288 with 1 Axes>"
      ]
     },
     "metadata": {
      "needs_background": "light"
     },
     "output_type": "display_data"
    }
   ],
   "source": [
    "plt.scatter(latlon19['Longitude'], latlon19['Latitude'], c= kmeans.labels_.astype(float), s=50, alpha=0.5)\n",
    "plt.scatter(centroids2[:, 1], centroids2[:, 0], c='blue', s=counts2/400, label='2019 Centorids')\n",
    "plt.scatter(centroids[:, 1], centroids[:, 0], c='red', s=counts/1200, label='2014-2018 Centorids')\n",
    "\n",
    "plt.title('2019 Clusters Vs. Our Predicted Cluster Centers')\n",
    "plt.ylabel('Latitude')\n",
    "plt.xlabel('Longitude')\n",
    "\n",
    "plt.legend(loc='best')\n",
    "\n",
    "plt.show()\n"
   ]
  },
  {
   "cell_type": "markdown",
   "metadata": {},
   "source": [
    "# Results"
   ]
  },
  {
   "cell_type": "code",
   "execution_count": 67,
   "metadata": {},
   "outputs": [],
   "source": [
    "threshold = .025; # approx 2 miles\n",
    "\n",
    "totalCrimeAt2019 = data[data['Year'] == 2019]\n",
    "\n",
    "crimeAt2019 = totalCrimeAt2019\n",
    "\n",
    "crimeAt2019 = crimeAt2019[crimeAt2019['Latitude'] > 41.78517085 - threshold]\n",
    "crimeAt2019 = crimeAt2019[crimeAt2019['Latitude'] < 41.78517085 + threshold]\n",
    "\n",
    "crimeAt2019 = crimeAt2019[crimeAt2019['Longitude'] > -87.63388883 - threshold]\n",
    "crimeAt2019 = crimeAt2019[crimeAt2019['Longitude'] < -87.63388883 + threshold]"
   ]
  },
  {
   "cell_type": "code",
   "execution_count": 80,
   "metadata": {},
   "outputs": [],
   "source": [
    "threshold = .06; # approx 5 miles\n",
    "\n",
    "crimeAt5mi = totalCrimeAt2019\n",
    "\n",
    "crimeAt5mi = crimeAt5mi[crimeAt5mi['Latitude'] > 41.78517085 - threshold]\n",
    "crimeAt5mi = crimeAt5mi[crimeAt5mi['Latitude'] < 41.78517085 + threshold]\n",
    "\n",
    "crimeAt5mi = crimeAt5mi[crimeAt5mi['Longitude'] > -87.63388883 - threshold]\n",
    "crimeAt5mi = crimeAt5mi[crimeAt5mi['Longitude'] < -87.63388883 + threshold]"
   ]
  },
  {
   "cell_type": "code",
   "execution_count": 82,
   "metadata": {},
   "outputs": [
    {
     "name": "stdout",
     "output_type": "stream",
     "text": [
      "Number of crimes in that are reported within 2 miles for 2019:  16735\n",
      "TOTAL Number of crimes in that are reported for 2019:  260380\n",
      "Percentage of crime that falls within 2 mile radius of prediciton:  6.427144942007834 %\n",
      "\n",
      "Number of crimes in that are reported within 5 for 2019:  71477\n",
      "TOTAL Number of crimes in that are reported for 2019:  260380\n",
      "Percentage of crime that falls within 5 mile radius of prediciton:  27.45103310546125 %\n"
     ]
    }
   ],
   "source": [
    "print(\"Number of crimes in that are reported within 2 miles for 2019: \",crimeAt2019.shape[0])\n",
    "print(\"TOTAL Number of crimes in that are reported for 2019: \",totalCrimeAt2019.shape[0])\n",
    "print(\"Percentage of crime that falls within 2 mile radius of prediciton: \" , crimeAt2019.shape[0]/totalCrimeAt2019.shape[0] *100, \"%\" )\n",
    "\n",
    "print(\"\\nNumber of crimes in that are reported within 5 for 2019: \",crimeAt5mi.shape[0])\n",
    "print(\"TOTAL Number of crimes in that are reported for 2019: \",totalCrimeAt2019.shape[0])\n",
    "print(\"Percentage of crime that falls within 5 mile radius of prediciton: \" , crimeAt5mi.shape[0]/totalCrimeAt2019.shape[0] *100, \"%\" )\n",
    "\n",
    "\n"
   ]
  },
  {
   "cell_type": "markdown",
   "metadata": {},
   "source": [
    "\n",
    "Looking at the graph above we can see that our predicted cluster centers are not far off from the actual data from 2019. From the points we got from our first model we predicted that **most crime will happen around the interection of West Jackson Boulevard and South Dearborn Street**, at coordinates (41.78517085, -87.63388883).\n",
    "\n",
    "If we look at what percentage of crime that falls within a 2 mile radius of that point we see that **6.4% of crime falls within 2 miles of our prediction**. If we increase the range to 5 miles, we see that **27.5% of crime falls within 5 miles of our prediction**. \n",
    "\n",
    "To put it into perspective, **Chicago is the size of 234 mi^2**. Our model shows that our prediction contains **6.4% of all crime that happened within an area that is 5.3% of the total size of Chicago, 12.5 mi^2**. It also shows that our prediction contains **27.5% of all crime that happened within an area that is 33.6% of the total size of Chicago, 78.5 mi^2**."
   ]
  },
  {
   "cell_type": "markdown",
   "metadata": {},
   "source": [
    "# Conclusion\n",
    "\n",
    "Our prediction wasn't as accurate as we hoped it would be. We think that it has to do with the fact that crime in Chicago is not distributed along just one certain area, but mostly evenly throughout certain greater parts of the city, which the preliminary analysis proved.\n",
    "\n",
    "However, we have succeded in providing the top 9 places where crime is most likely to happen."
   ]
  },
  {
   "cell_type": "markdown",
   "metadata": {},
   "source": [
    "# Possible Future Data Exploration\n",
    "\n",
    "In the future we could perhaps instead look at specific crime and see if there is an area where this crime is more promenent. We also could use different size of cluster sizes to make the model more precise."
   ]
  }
 ],
 "metadata": {
  "kernelspec": {
   "display_name": "Python 3",
   "language": "python",
   "name": "python3"
  },
  "language_info": {
   "codemirror_mode": {
    "name": "ipython",
    "version": 3
   },
   "file_extension": ".py",
   "mimetype": "text/x-python",
   "name": "python",
   "nbconvert_exporter": "python",
   "pygments_lexer": "ipython3",
   "version": "3.8.3"
  }
 },
 "nbformat": 4,
 "nbformat_minor": 4
}

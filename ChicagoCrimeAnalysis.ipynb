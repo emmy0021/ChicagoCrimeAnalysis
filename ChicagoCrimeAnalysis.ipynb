{
 "cells": [
  {
   "cell_type": "code",
   "execution_count": 1,
   "metadata": {
    "scrolled": true
   },
   "outputs": [
    {
     "name": "stdout",
     "output_type": "stream",
     "text": [
      "Requirement already satisfied: sodapy in c:\\users\\tony\\anaconda3\\lib\\site-packages (2.1.0)\n",
      "Requirement already satisfied: requests>=2.20.0 in c:\\users\\tony\\anaconda3\\lib\\site-packages (from sodapy) (2.24.0)\n",
      "Requirement already satisfied: certifi>=2017.4.17 in c:\\users\\tony\\anaconda3\\lib\\site-packages (from requests>=2.20.0->sodapy) (2020.6.20)\n",
      "Requirement already satisfied: idna<3,>=2.5 in c:\\users\\tony\\anaconda3\\lib\\site-packages (from requests>=2.20.0->sodapy) (2.10)\n",
      "Requirement already satisfied: chardet<4,>=3.0.2 in c:\\users\\tony\\anaconda3\\lib\\site-packages (from requests>=2.20.0->sodapy) (3.0.4)\n",
      "Requirement already satisfied: urllib3!=1.25.0,!=1.25.1,<1.26,>=1.21.1 in c:\\users\\tony\\anaconda3\\lib\\site-packages (from requests>=2.20.0->sodapy) (1.25.9)\n",
      "Requirement already satisfied: plotly in c:\\users\\tony\\anaconda3\\lib\\site-packages (4.11.0)\n",
      "Requirement already satisfied: six in c:\\users\\tony\\anaconda3\\lib\\site-packages (from plotly) (1.15.0)\n",
      "Requirement already satisfied: retrying>=1.3.3 in c:\\users\\tony\\anaconda3\\lib\\site-packages (from plotly) (1.3.3)\n"
     ]
    }
   ],
   "source": [
    "!pip install sodapy\n",
    "!pip install plotly"
   ]
  },
  {
   "cell_type": "code",
   "execution_count": 3,
   "metadata": {},
   "outputs": [],
   "source": [
    "import pandas as pd\n",
    "import json\n",
    "import plotly.express as px\n",
    "import plotly.io as pio\n",
    "pio.renderers.default = 'firefox'\n",
    "chicago_areas = json.load(open(\"Boundaries - Community Areas (current).geojson\", 'r'))\n",
    "area_id_map = {}\n",
    "for feature in chicago_areas['features']:\n",
    "    feature['id'] = feature['properties']['area_numbe']\n",
    "    area_id_map[feature['properties']['area_numbe']] = feature['id'];\n"
   ]
  },
  {
   "cell_type": "code",
   "execution_count": 21,
   "metadata": {},
   "outputs": [
    {
     "name": "stderr",
     "output_type": "stream",
     "text": [
      "WARNING:root:Requests made without an app_token will be subject to strict throttling limits.\n"
     ]
    }
   ],
   "source": [
    "# Snippet from: https://dev.socrata.com/foundry/data.cityofchicago.org/d62x-nvdr\n",
    "from sodapy import Socrata\n",
    "# Unauthenticated client only works with public data sets. Note 'None'\n",
    "# in place of application token, and no username or password:\n",
    "client = Socrata(\"data.cityofchicago.org\", None)\n",
    "\n",
    "# Example authenticated client (needed for non-public datasets):\n",
    "# client = Socrata(data.cityofchicago.org,\n",
    "#                  MyAppToken,\n",
    "#                  userame=\"user@example.com\",\n",
    "#                  password=\"AFakePassword\")\n",
    "\n",
    "# results returned as JSON from API / converted to Python list of\n",
    "# dictionaries by sodapy.\n",
    "\n",
    "from_2020 = \"qzdf-xmn8\"\n",
    "from_2019 = \"w98m-zvie\"\n",
    "from_2018 = \"3i3m-jwuy\"\n",
    "from_2017 = \"d62x-nvdr\"\n",
    "crimes = client.get(from_2020, limit=500)\n",
    "\n",
    "# Convert to pandas DataFrame\n",
    "crimes_df = pd.DataFrame.from_records(crimes)\n",
    "\n",
    "# Population of Chicago 2020 = 2694240 "
   ]
  },
  {
   "cell_type": "code",
   "execution_count": 66,
   "metadata": {},
   "outputs": [
    {
     "name": "stdout",
     "output_type": "stream",
     "text": [
      "                        date district                      block  \\\n",
      "0    2020-11-09T23:50:00.000      020         021XX W FOSTER AVE   \n",
      "1    2020-11-09T23:50:00.000      004   091XX S STONY ISLAND AVE   \n",
      "2    2020-11-09T23:47:00.000      002         034XX S RHODES AVE   \n",
      "3    2020-11-09T23:45:00.000      015        049XX W CHICAGO AVE   \n",
      "4    2020-11-09T23:43:00.000      010       016XX S ST LOUIS AVE   \n",
      "..                       ...      ...                        ...   \n",
      "495  2020-11-09T03:46:00.000      024           014XX W LUNT AVE   \n",
      "496  2020-11-09T03:35:00.000      012      012XX W WASHBURNE AVE   \n",
      "497  2020-11-09T03:30:00.000      006  085XX S COTTAGE GROVE AVE   \n",
      "498  2020-11-09T03:23:00.000      019        010XX W BELMONT AVE   \n",
      "499  2020-11-09T03:20:00.000      020         027XX W GREGORY ST   \n",
      "\n",
      "                       description     location_description  \\\n",
      "0                   FORCIBLE ENTRY  SCHOOL - PUBLIC GROUNDS   \n",
      "1    UNLAWFUL POSSESSION - HANDGUN              GAS STATION   \n",
      "2                           SIMPLE                APARTMENT   \n",
      "3                   $500 AND UNDER                   STREET   \n",
      "4                      TO PROPERTY                APARTMENT   \n",
      "..                             ...                      ...   \n",
      "495        DOMESTIC BATTERY SIMPLE                APARTMENT   \n",
      "496        DOMESTIC BATTERY SIMPLE            CHA APARTMENT   \n",
      "497                 FORCIBLE ENTRY       SMALL RETAIL STORE   \n",
      "498                    TO PROPERTY    TAVERN / LIQUOR STORE   \n",
      "499        DOMESTIC BATTERY SIMPLE                RESIDENCE   \n",
      "\n",
      "                  updated_on community_area  iucr ward case_number  ...  \\\n",
      "0    2020-11-16T15:52:30.000              4  0610   40    JD430008  ...   \n",
      "1    2020-11-16T15:52:30.000             48  143A    8    JD426678  ...   \n",
      "2    2020-11-16T15:52:30.000             35  0580    4    JD426671  ...   \n",
      "3    2020-11-16T15:52:30.000             25  0820   37    JD426679  ...   \n",
      "4    2020-11-16T15:52:30.000             29  1310   24    JD426676  ...   \n",
      "..                       ...            ...   ...  ...         ...  ...   \n",
      "495  2020-11-16T15:52:30.000              1  0486   49    JD425638  ...   \n",
      "496  2020-11-16T15:52:30.000             28  0486   25    JD425628  ...   \n",
      "497  2020-11-16T15:52:30.000             44  0610    8    JD425644  ...   \n",
      "498  2020-11-16T15:52:30.000              6  1310   44    JD425629  ...   \n",
      "499  2020-11-16T15:52:30.000              4  0486   40    JD425643  ...   \n",
      "\n",
      "    fbi_code  beat       primary_type arrest        id  location y_coordinate  \\\n",
      "0         05  2032           BURGLARY  False  12220063       NaN          NaN   \n",
      "1         15  0413  WEAPONS VIOLATION   True  12217106       NaN          NaN   \n",
      "2        08A  0211           STALKING  False  12217119       NaN          NaN   \n",
      "3         06  1531              THEFT  False  12217099       NaN          NaN   \n",
      "4         14  1021    CRIMINAL DAMAGE  False  12217183       NaN          NaN   \n",
      "..       ...   ...                ...    ...       ...       ...          ...   \n",
      "495      08B  2431            BATTERY   True  12216229       NaN          NaN   \n",
      "496      08B  1233            BATTERY  False  12216224       NaN          NaN   \n",
      "497       05  0632           BURGLARY  False  12216247       NaN          NaN   \n",
      "498       14  1924    CRIMINAL DAMAGE  False  12216240       NaN          NaN   \n",
      "499      08B  2011            BATTERY  False  12217530       NaN          NaN   \n",
      "\n",
      "    latitude x_coordinate longitude  \n",
      "0        NaN          NaN       NaN  \n",
      "1        NaN          NaN       NaN  \n",
      "2        NaN          NaN       NaN  \n",
      "3        NaN          NaN       NaN  \n",
      "4        NaN          NaN       NaN  \n",
      "..       ...          ...       ...  \n",
      "495      NaN          NaN       NaN  \n",
      "496      NaN          NaN       NaN  \n",
      "497      NaN          NaN       NaN  \n",
      "498      NaN          NaN       NaN  \n",
      "499      NaN          NaN       NaN  \n",
      "\n",
      "[500 rows x 22 columns]\n"
     ]
    }
   ],
   "source": [
    "Homicide = crimes_df[crimes_df['primary_type'] == 'HOMICIDE']\n",
    "Homicide_lat = Homicide['latitude']\n",
    "Homicide_lon = Homicide['longitude']\n",
    "Homicide_loc = list(zip(Homicide_lat, Homicide_lon))\n",
    " \n",
    "crimes_2020_df = crimes_df\n",
    "crime_type = []\n",
    "time = []\n",
    "dates = crimes_2020_df['date']\n",
    "primary_type = crimes_2020_df['primary_type']\n",
    "for date in dates:\n",
    "    time.append(date.split('T')[1])\n",
    "    \n",
    "print(crimes_df)\n",
    "\n",
    "\n"
   ]
  },
  {
   "cell_type": "code",
   "execution_count": 7,
   "metadata": {},
   "outputs": [],
   "source": [
    "# Separate nonviolent from violent\n",
    "violent =     ['BATTERY', 'ROBBERY', 'OFFENSE INVOLVING CHILDREN', \n",
    "               'INTERFERENCE WITH PUBLIC OFFICER', 'STALKING', 'KIDNAPPING', \n",
    "               'ARSON', 'CRIMINAL SEXUAL ASSAULT', 'SEX OFFENSE', \n",
    "               'CONCEALED CARRY LICENSE VIOLATION', 'INTIMIDATION', 'HOMICIDE' ]\n",
    "\n",
    "# \"non-violent\" \n",
    "non_violent = ['BURGLARY', 'THEFT', 'CRIMINAL DAMAGE', 'NARCOTICS',\n",
    "               'DECEPTIVE PRACTICE', 'CRIMINAL TRESPASS', \n",
    "               'PUBLIC PEACE VIOLATION', 'MOTOR VEHICLE THEFT', 'LIQUOR LAW VIOLATION', \n",
    "               'OBSCENITY', 'PROSTITUTION', 'PUBLIC INDECENCY']\n",
    "\n",
    "grey_area = []"
   ]
  },
  {
   "cell_type": "code",
   "execution_count": 8,
   "metadata": {},
   "outputs": [
    {
     "ename": "Error",
     "evalue": "could not locate runnable browser",
     "output_type": "error",
     "traceback": [
      "\u001b[1;31m---------------------------------------------------------------------------\u001b[0m",
      "\u001b[1;31mError\u001b[0m                                     Traceback (most recent call last)",
      "\u001b[1;32m<ipython-input-8-ab0fa7de5a18>\u001b[0m in \u001b[0;36m<module>\u001b[1;34m\u001b[0m\n\u001b[0;32m      1\u001b[0m \u001b[0mfig\u001b[0m \u001b[1;33m=\u001b[0m \u001b[0mpx\u001b[0m\u001b[1;33m.\u001b[0m\u001b[0mchoropleth\u001b[0m\u001b[1;33m(\u001b[0m\u001b[0mcrimes_df\u001b[0m\u001b[1;33m,\u001b[0m \u001b[0mlocations\u001b[0m\u001b[1;33m=\u001b[0m\u001b[1;34m'id'\u001b[0m\u001b[1;33m,\u001b[0m \u001b[0mgeojson\u001b[0m\u001b[1;33m=\u001b[0m\u001b[0mchicago_areas\u001b[0m\u001b[1;33m,\u001b[0m \u001b[0mcolor\u001b[0m\u001b[1;33m=\u001b[0m\u001b[1;34m\"community_area\"\u001b[0m\u001b[1;33m)\u001b[0m\u001b[1;33m\u001b[0m\u001b[1;33m\u001b[0m\u001b[0m\n\u001b[1;32m----> 2\u001b[1;33m \u001b[0mfig\u001b[0m\u001b[1;33m.\u001b[0m\u001b[0mshow\u001b[0m\u001b[1;33m(\u001b[0m\u001b[1;33m)\u001b[0m\u001b[1;33m\u001b[0m\u001b[1;33m\u001b[0m\u001b[0m\n\u001b[0m",
      "\u001b[1;32m~\\anaconda3\\lib\\site-packages\\plotly\\basedatatypes.py\u001b[0m in \u001b[0;36mshow\u001b[1;34m(self, *args, **kwargs)\u001b[0m\n\u001b[0;32m   2869\u001b[0m         \u001b[1;32mimport\u001b[0m \u001b[0mplotly\u001b[0m\u001b[1;33m.\u001b[0m\u001b[0mio\u001b[0m \u001b[1;32mas\u001b[0m \u001b[0mpio\u001b[0m\u001b[1;33m\u001b[0m\u001b[1;33m\u001b[0m\u001b[0m\n\u001b[0;32m   2870\u001b[0m \u001b[1;33m\u001b[0m\u001b[0m\n\u001b[1;32m-> 2871\u001b[1;33m         \u001b[1;32mreturn\u001b[0m \u001b[0mpio\u001b[0m\u001b[1;33m.\u001b[0m\u001b[0mshow\u001b[0m\u001b[1;33m(\u001b[0m\u001b[0mself\u001b[0m\u001b[1;33m,\u001b[0m \u001b[1;33m*\u001b[0m\u001b[0margs\u001b[0m\u001b[1;33m,\u001b[0m \u001b[1;33m**\u001b[0m\u001b[0mkwargs\u001b[0m\u001b[1;33m)\u001b[0m\u001b[1;33m\u001b[0m\u001b[1;33m\u001b[0m\u001b[0m\n\u001b[0m\u001b[0;32m   2872\u001b[0m \u001b[1;33m\u001b[0m\u001b[0m\n\u001b[0;32m   2873\u001b[0m     \u001b[1;32mdef\u001b[0m \u001b[0mto_json\u001b[0m\u001b[1;33m(\u001b[0m\u001b[0mself\u001b[0m\u001b[1;33m,\u001b[0m \u001b[1;33m*\u001b[0m\u001b[0margs\u001b[0m\u001b[1;33m,\u001b[0m \u001b[1;33m**\u001b[0m\u001b[0mkwargs\u001b[0m\u001b[1;33m)\u001b[0m\u001b[1;33m:\u001b[0m\u001b[1;33m\u001b[0m\u001b[1;33m\u001b[0m\u001b[0m\n",
      "\u001b[1;32m~\\anaconda3\\lib\\site-packages\\plotly\\io\\_renderers.py\u001b[0m in \u001b[0;36mshow\u001b[1;34m(fig, renderer, validate, **kwargs)\u001b[0m\n\u001b[0;32m    390\u001b[0m \u001b[1;33m\u001b[0m\u001b[0m\n\u001b[0;32m    391\u001b[0m     \u001b[1;31m# external renderers\u001b[0m\u001b[1;33m\u001b[0m\u001b[1;33m\u001b[0m\u001b[1;33m\u001b[0m\u001b[0m\n\u001b[1;32m--> 392\u001b[1;33m     \u001b[0mrenderers\u001b[0m\u001b[1;33m.\u001b[0m\u001b[0m_perform_external_rendering\u001b[0m\u001b[1;33m(\u001b[0m\u001b[0mfig_dict\u001b[0m\u001b[1;33m,\u001b[0m \u001b[0mrenderers_string\u001b[0m\u001b[1;33m=\u001b[0m\u001b[0mrenderer\u001b[0m\u001b[1;33m,\u001b[0m \u001b[1;33m**\u001b[0m\u001b[0mkwargs\u001b[0m\u001b[1;33m)\u001b[0m\u001b[1;33m\u001b[0m\u001b[1;33m\u001b[0m\u001b[0m\n\u001b[0m\u001b[0;32m    393\u001b[0m \u001b[1;33m\u001b[0m\u001b[0m\n\u001b[0;32m    394\u001b[0m \u001b[1;33m\u001b[0m\u001b[0m\n",
      "\u001b[1;32m~\\anaconda3\\lib\\site-packages\\plotly\\io\\_renderers.py\u001b[0m in \u001b[0;36m_perform_external_rendering\u001b[1;34m(self, fig_dict, renderers_string, **kwargs)\u001b[0m\n\u001b[0;32m    339\u001b[0m                         \u001b[0msetattr\u001b[0m\u001b[1;33m(\u001b[0m\u001b[0mrenderer\u001b[0m\u001b[1;33m,\u001b[0m \u001b[0mk\u001b[0m\u001b[1;33m,\u001b[0m \u001b[0mv\u001b[0m\u001b[1;33m)\u001b[0m\u001b[1;33m\u001b[0m\u001b[1;33m\u001b[0m\u001b[0m\n\u001b[0;32m    340\u001b[0m \u001b[1;33m\u001b[0m\u001b[0m\n\u001b[1;32m--> 341\u001b[1;33m                 \u001b[0mrenderer\u001b[0m\u001b[1;33m.\u001b[0m\u001b[0mrender\u001b[0m\u001b[1;33m(\u001b[0m\u001b[0mfig_dict\u001b[0m\u001b[1;33m)\u001b[0m\u001b[1;33m\u001b[0m\u001b[1;33m\u001b[0m\u001b[0m\n\u001b[0m\u001b[0;32m    342\u001b[0m \u001b[1;33m\u001b[0m\u001b[0m\n\u001b[0;32m    343\u001b[0m \u001b[1;33m\u001b[0m\u001b[0m\n",
      "\u001b[1;32m~\\anaconda3\\lib\\site-packages\\plotly\\io\\_base_renderers.py\u001b[0m in \u001b[0;36mrender\u001b[1;34m(self, fig_dict)\u001b[0m\n\u001b[0;32m    737\u001b[0m             \u001b[0mvalidate\u001b[0m\u001b[1;33m=\u001b[0m\u001b[1;32mFalse\u001b[0m\u001b[1;33m,\u001b[0m\u001b[1;33m\u001b[0m\u001b[1;33m\u001b[0m\u001b[0m\n\u001b[0;32m    738\u001b[0m         )\n\u001b[1;32m--> 739\u001b[1;33m         \u001b[0mopen_html_in_browser\u001b[0m\u001b[1;33m(\u001b[0m\u001b[0mhtml\u001b[0m\u001b[1;33m,\u001b[0m \u001b[0mself\u001b[0m\u001b[1;33m.\u001b[0m\u001b[0musing\u001b[0m\u001b[1;33m,\u001b[0m \u001b[0mself\u001b[0m\u001b[1;33m.\u001b[0m\u001b[0mnew\u001b[0m\u001b[1;33m,\u001b[0m \u001b[0mself\u001b[0m\u001b[1;33m.\u001b[0m\u001b[0mautoraise\u001b[0m\u001b[1;33m)\u001b[0m\u001b[1;33m\u001b[0m\u001b[1;33m\u001b[0m\u001b[0m\n\u001b[0m\u001b[0;32m    740\u001b[0m \u001b[1;33m\u001b[0m\u001b[0m\n\u001b[0;32m    741\u001b[0m \u001b[1;33m\u001b[0m\u001b[0m\n",
      "\u001b[1;32m~\\anaconda3\\lib\\site-packages\\plotly\\io\\_base_renderers.py\u001b[0m in \u001b[0;36mopen_html_in_browser\u001b[1;34m(html, using, new, autoraise)\u001b[0m\n\u001b[0;32m    682\u001b[0m \u001b[1;33m\u001b[0m\u001b[0m\n\u001b[0;32m    683\u001b[0m     \u001b[0mserver\u001b[0m \u001b[1;33m=\u001b[0m \u001b[0mHTTPServer\u001b[0m\u001b[1;33m(\u001b[0m\u001b[1;33m(\u001b[0m\u001b[1;34m\"127.0.0.1\"\u001b[0m\u001b[1;33m,\u001b[0m \u001b[1;36m0\u001b[0m\u001b[1;33m)\u001b[0m\u001b[1;33m,\u001b[0m \u001b[0mOneShotRequestHandler\u001b[0m\u001b[1;33m)\u001b[0m\u001b[1;33m\u001b[0m\u001b[1;33m\u001b[0m\u001b[0m\n\u001b[1;32m--> 684\u001b[1;33m     webbrowser.get(using).open(\n\u001b[0m\u001b[0;32m    685\u001b[0m         \u001b[1;34m\"http://127.0.0.1:%s\"\u001b[0m \u001b[1;33m%\u001b[0m \u001b[0mserver\u001b[0m\u001b[1;33m.\u001b[0m\u001b[0mserver_port\u001b[0m\u001b[1;33m,\u001b[0m \u001b[0mnew\u001b[0m\u001b[1;33m=\u001b[0m\u001b[0mnew\u001b[0m\u001b[1;33m,\u001b[0m \u001b[0mautoraise\u001b[0m\u001b[1;33m=\u001b[0m\u001b[0mautoraise\u001b[0m\u001b[1;33m\u001b[0m\u001b[1;33m\u001b[0m\u001b[0m\n\u001b[0;32m    686\u001b[0m     )\n",
      "\u001b[1;32m~\\anaconda3\\lib\\webbrowser.py\u001b[0m in \u001b[0;36mget\u001b[1;34m(using)\u001b[0m\n\u001b[0;32m     63\u001b[0m             \u001b[1;32melif\u001b[0m \u001b[0mcommand\u001b[0m\u001b[1;33m[\u001b[0m\u001b[1;36m0\u001b[0m\u001b[1;33m]\u001b[0m \u001b[1;32mis\u001b[0m \u001b[1;32mnot\u001b[0m \u001b[1;32mNone\u001b[0m\u001b[1;33m:\u001b[0m\u001b[1;33m\u001b[0m\u001b[1;33m\u001b[0m\u001b[0m\n\u001b[0;32m     64\u001b[0m                 \u001b[1;32mreturn\u001b[0m \u001b[0mcommand\u001b[0m\u001b[1;33m[\u001b[0m\u001b[1;36m0\u001b[0m\u001b[1;33m]\u001b[0m\u001b[1;33m(\u001b[0m\u001b[1;33m)\u001b[0m\u001b[1;33m\u001b[0m\u001b[1;33m\u001b[0m\u001b[0m\n\u001b[1;32m---> 65\u001b[1;33m     \u001b[1;32mraise\u001b[0m \u001b[0mError\u001b[0m\u001b[1;33m(\u001b[0m\u001b[1;34m\"could not locate runnable browser\"\u001b[0m\u001b[1;33m)\u001b[0m\u001b[1;33m\u001b[0m\u001b[1;33m\u001b[0m\u001b[0m\n\u001b[0m\u001b[0;32m     66\u001b[0m \u001b[1;33m\u001b[0m\u001b[0m\n\u001b[0;32m     67\u001b[0m \u001b[1;31m# Please note: the following definition hides a builtin function.\u001b[0m\u001b[1;33m\u001b[0m\u001b[1;33m\u001b[0m\u001b[1;33m\u001b[0m\u001b[0m\n",
      "\u001b[1;31mError\u001b[0m: could not locate runnable browser"
     ]
    }
   ],
   "source": [
    "fig = px.choropleth(crimes_df, locations='id', geojson=chicago_areas, color=\"community_area\")\n",
    "fig.show()"
   ]
  },
  {
   "cell_type": "code",
   "execution_count": null,
   "metadata": {},
   "outputs": [],
   "source": []
  },
  {
   "cell_type": "code",
   "execution_count": 1,
   "metadata": {},
   "outputs": [],
   "source": [
    "import pandas as pd"
   ]
  },
  {
   "cell_type": "code",
   "execution_count": 2,
   "metadata": {},
   "outputs": [
    {
     "name": "stderr",
     "output_type": "stream",
     "text": [
      "C:\\Users\\Tony\\anaconda3\\lib\\site-packages\\IPython\\core\\interactiveshell.py:3071: DtypeWarning: Columns (21) have mixed types.Specify dtype option on import or set low_memory=False.\n",
      "  has_raised = await self.run_ast_nodes(code_ast.body, cell_name,\n"
     ]
    }
   ],
   "source": [
    "data = pd.read_csv(\"C:\\\\Users\\\\Tony\\\\Downloads\\\\Crimes_-_2001_to_Present.csv\")"
   ]
  },
  {
   "cell_type": "code",
   "execution_count": 103,
   "metadata": {},
   "outputs": [
    {
     "name": "stdout",
     "output_type": "stream",
     "text": [
      "['DECEPTIVE PRACTICE' 'CRIM SEXUAL ASSAULT' 'BURGLARY' 'THEFT'\n",
      " 'OFFENSE INVOLVING CHILDREN' 'CRIMINAL DAMAGE' 'OTHER OFFENSE'\n",
      " 'SEX OFFENSE' 'CRIMINAL SEXUAL ASSAULT' 'BATTERY' 'ASSAULT' 'NARCOTICS'\n",
      " 'MOTOR VEHICLE THEFT' 'ROBBERY' 'CRIMINAL TRESPASS' 'WEAPONS VIOLATION'\n",
      " 'OBSCENITY' 'LIQUOR LAW VIOLATION' 'PROSTITUTION' 'NON-CRIMINAL'\n",
      " 'PUBLIC PEACE VIOLATION' 'INTIMIDATION' 'ARSON'\n",
      " 'INTERFERENCE WITH PUBLIC OFFICER' 'GAMBLING' 'STALKING' 'KIDNAPPING'\n",
      " 'OTHER NARCOTIC VIOLATION' 'CONCEALED CARRY LICENSE VIOLATION' 'HOMICIDE'\n",
      " 'RITUALISM' 'HUMAN TRAFFICKING' 'PUBLIC INDECENCY' 'NON - CRIMINAL'\n",
      " 'NON-CRIMINAL (SUBJECT SPECIFIED)' 'DOMESTIC VIOLENCE']\n",
      "['FINANCIAL IDENTITY THEFT OVER $ 300' 'NON-AGGRAVATED' 'UNLAWFUL ENTRY'\n",
      " 'OVER $500' 'CRIM SEX ABUSE BY FAM MEMBER'\n",
      " 'AGG SEX ASSLT OF CHILD FAM MBR' 'TO PROPERTY'\n",
      " 'HARASSMENT BY ELECTRONIC MEANS' '$500 AND UNDER'\n",
      " 'AGG CRIM SEX ABUSE FAM MEMBER' 'CREDIT CARD FRAUD'\n",
      " 'SEX ASSLT OF CHILD BY FAM MBR' 'FINANCIAL IDENTITY THEFT $300 AND UNDER'\n",
      " 'PREDATORY' 'FROM BUILDING' 'AGG CRIMINAL SEXUAL ABUSE'\n",
      " 'ATTEMPT NON-AGGRAVATED' 'CHILD ABUSE' 'FORCIBLE ENTRY'\n",
      " 'CRIMINAL SEXUAL ABUSE' 'CHILD PORNOGRAPHY' 'SIMPLE' 'EMBEZZLEMENT'\n",
      " 'HARASSMENT BY TELEPHONE' 'TELEPHONE THREAT' 'MANU/DELIVER:CRACK'\n",
      " 'MANU/DEL:CANNABIS 10GM OR LESS' 'POCKET-PICKING'\n",
      " 'POSS: CANNABIS MORE THAN 30GMS' 'INSURANCE FRAUD' 'AGGRAVATED - OTHER'\n",
      " 'CRIMINAL DRUG CONSPIRACY' 'AGGRAVATED: OTHER' 'POSS: CRACK' 'FORGERY'\n",
      " 'ATTEMPT - FINANCIAL IDENTITY THEFT' 'ILLEGAL USE CASH CARD'\n",
      " 'THEFT OF LABOR/SERVICES' 'FRAUD OR CONFIDENCE GAME'\n",
      " 'FOUND SUSPECT NARCOTICS' 'OTHER VEHICLE OFFENSE' 'AUTOMOBILE'\n",
      " 'ARMED: HANDGUN' 'SEX OFFENDER: FAIL TO REGISTER' 'TO VEHICLE'\n",
      " 'AGGRAVATED' 'SEX OFFENDER: FAIL REG NEW ADD'\n",
      " 'ENDANGERING LIFE/HEALTH CHILD' 'RETAIL THEFT' 'FORFEIT PROPERTY'\n",
      " 'TO LAND' 'STOLEN PROP: BUY/RECEIVE/POS.' 'THEFT BY LESSEE,MOTOR VEH'\n",
      " 'COUNTERFEIT CHECK' 'SEXUAL EXPLOITATION OF A CHILD' 'POSS: COCAINE'\n",
      " 'STRONGARM - NO WEAPON' 'UNLAWFUL POSS OF HANDGUN'\n",
      " 'POSS: METHAMPHETAMINES' 'OTHER CRIME INVOLVING PROPERTY'\n",
      " 'CRIMINAL DEFACEMENT' 'AGGRAVATED FINANCIAL IDENTITY THEFT'\n",
      " 'AGGRAVATED: HANDGUN' 'POSS: HEROIN(WHITE)'\n",
      " 'MANU/DELIVER: HEROIN (WHITE)' 'FINAN EXPLOIT-ELDERLY/DISABLED'\n",
      " 'PURSE-SNATCHING' 'OTHER CRIME AGAINST PERSON' 'AGGRAVATED OF A CHILD'\n",
      " 'COUNTERFEITING DOCUMENT' 'DOMESTIC BATTERY SIMPLE' 'OTHER OFFENSE'\n",
      " 'OTHER' 'POSS: CANNABIS 30GMS OR LESS' 'ATT AGG CRIMINAL SEXUAL ABUSE'\n",
      " 'BOGUS CHECK' 'ATT CRIM SEXUAL ABUSE'\n",
      " 'AGGRAVATED DOMESTIC BATTERY: KNIFE/CUTTING INST'\n",
      " 'INDECENT SOLICITATION/CHILD' 'UNAUTHORIZED VIDEOTAPING'\n",
      " 'OTHER WEAPONS VIOLATION' 'OBSCENE MATTER' 'MANU/DELIVER: HALLUCINOGEN'\n",
      " 'SALE/DIST OBSCENE MAT TO MINOR' 'TO RESIDENCE'\n",
      " 'GUN OFFENDER: DUTY TO REGISTER' 'CRIMINAL TRANSMISSION OF HIV'\n",
      " 'MANU/DELIVER:COCAINE' 'SELL/GIVE/DEL LIQUOR TO MINOR'\n",
      " 'SOLICIT FOR BUSINESS' 'CYCLE, SCOOTER, BIKE W-VIN'\n",
      " 'LIQUOR LICENSE VIOLATION' 'MANU/DEL:CANNABIS OVER 10 GMS'\n",
      " 'LOST PASSPORT' 'AGGRAVATED: OTHER DANG WEAPON'\n",
      " 'AGGRAVATED DOMESTIC BATTERY: HANDS/FIST/FEET SERIOUS INJURY'\n",
      " 'EAVESDROPPING' 'THEFT/RECOVERY: AUTOMOBILE' 'OBSCENE TELEPHONE CALLS'\n",
      " 'IMPERSONATION' 'DELIVERY CONTAINER THEFT' 'AGGRAVATED: KNIFE/CUT INSTR'\n",
      " 'VEHICLE TITLE/REG OFFENSE' 'RECKLESS CONDUCT'\n",
      " 'DECEPTIVE COLLECTION PRACTICES' 'LICENSE VIOLATION'\n",
      " 'UNLAWFUL POSS AMMUNITION' 'PAY TV SERVICE OFFENSES'\n",
      " 'SOLICIT ON PUBLIC WAY' 'THEFT BY LESSEE,NON-VEH'\n",
      " 'AGGRAVATED SEXUAL ASSAULT OF CHILD BY FAMILY MEMBER' 'INTIMIDATION'\n",
      " 'TO STATE SUP LAND' 'POSS: BARBITUATES' 'UNLAWFUL USE OTHER FIREARM'\n",
      " 'BY FIRE' 'ARMED:KNIFE/CUTTING INSTRUMENT'\n",
      " 'AGGRAVATED:KNIFE/CUTTING INSTR' 'ATTEMPT FORCIBLE ENTRY'\n",
      " 'AGGRAVATED: OTHER FIREARM' 'ILLEGAL CONSUMPTION BY MINOR'\n",
      " 'ATTEMPT: ARMED-KNIFE/CUT INSTR' 'POSS: SYNTHETIC DRUGS'\n",
      " 'ATTEMPT: ARMED-HANDGUN' 'ATTEMPT: STRONGARM-NO WEAPON'\n",
      " 'TRUCK, BUS, MOTOR HOME' 'ATT: AUTOMOBILE' 'AGG PO HANDS NO/MIN INJURY'\n",
      " 'SALE/DEL HYPODERMIC NEEDLE' 'AGGRAVATED VEHICULAR HIJACKING' 'POSS: PCP'\n",
      " 'BOMB THREAT' 'POSS: HEROIN(BRN/TAN)' 'ATTEMPT: ARMED-OTHER FIREARM'\n",
      " 'ARMED: OTHER DANGEROUS WEAPON' 'TO STATE SUP PROP'\n",
      " 'AGG: HANDS/FIST/FEET NO/MINOR INJURY' 'THEFT OF LOST/MISLAID PROP'\n",
      " 'PRO EMP HANDS NO/MIN INJURY' 'SOLICIT NARCOTICS ON PUBLICWAY'\n",
      " 'FINANCIAL ID THEFT:$300 &UNDER' 'AGGRAVATED CRIMINAL SEXUAL ABUSE'\n",
      " 'PATRONIZING A PROSTITUTE' 'PUBLIC INDECENCY' 'POS: HYPODERMIC NEEDLE'\n",
      " 'INTERFERENCE JUDICIAL PROCESS' 'ALTER/FORGE PRESCRIPTION'\n",
      " 'GAME/AMUSEMENT DEVICE' 'FINANCIAL ID THEFT: OVER $300' 'ATTEMPT THEFT'\n",
      " 'VIOLATE ORDER OF PROTECTION' 'ATTEMPT POSSESSION NARCOTICS'\n",
      " 'UNLAWFUL USE/SALE AIR RIFLE' 'GAME/DICE' 'ANIMAL ABUSE/NEGLECT'\n",
      " 'AGGRAVATED OF A SENIOR CITIZEN' 'POSS FIREARM/AMMO:NO FOID CARD'\n",
      " 'UNLAWFUL RESTRAINT' 'ATT: TRUCK, BUS, MOTOR HOME'\n",
      " 'FALSE/STOLEN/ALTERED TRP' 'AGGRAVATED DOMESTIC BATTERY'\n",
      " 'POSS: HALLUCINOGENS' 'FORNICATION' 'MANU/DELIVER:BARBITUATES'\n",
      " 'CHILD ABDUCTION/STRANGER' 'CONTRIBUTE DELINQUENCY OF A CHILD'\n",
      " 'ATTEMPT ARSON' 'AGGRAVATED CRIMINAL SEXUAL ABUSE BY FAMILY MEMBER'\n",
      " 'TO CITY OF CHICAGO PROPERTY' 'ATTEMPT POSSESSION CANNABIS'\n",
      " 'AGG PRO.EMP: OTHER DANG WEAPON' 'AGG PRO.EMP:KNIFE/CUTTING INST'\n",
      " 'UNLAWFUL USE OF RECORDED SOUND' 'UNIDENTIFIABLE RECORDING SOUND'\n",
      " 'POSS: HEROIN(BLACK TAR)' 'POSSESSION OF DRUG EQUIPMENT'\n",
      " 'SEX OFFENDER: PROHIBITED ZONE' 'POSSESSION OF BURGLARY TOOLS' 'BRIBERY'\n",
      " 'RECKLESS FIREARM DISCHARGE' 'RESIST/OBSTRUCT/DISARM OFFICER'\n",
      " 'FALSE POLICE REPORT' 'UNLAWFUL USE OTHER DANG WEAPON'\n",
      " 'AGG: FINANCIAL ID THEFT' 'THEFT/RECOVERY: TRUCK,BUS,MHOME'\n",
      " 'OFFICIAL MISCONDUCT' 'COMPOUNDING A CRIME' 'MONEY LAUNDERING'\n",
      " 'MANU/DELIVER: HEROIN(BRN/TAN)' 'ATTEMPT AGG: OTHER' 'COMPUTER FRAUD'\n",
      " 'ILLEGAL POSSESSION BY MINOR' 'ATTEMPT FINANCIAL IDENTITY THEFT'\n",
      " 'AGGRAVATED DOMESTIC BATTERY: OTHER DANG WEAPON' 'CHILD ABANDONMENT'\n",
      " 'PROBATION VIOLATION' 'CHILD ABDUCTION' 'SOLICIT OFF PUBLIC WAY'\n",
      " 'INSTITUTIONAL VANDALISM' 'CALL OPERATION' 'IN TAVERN'\n",
      " 'ATTEMPT: AGGRAVATED' 'AGGRAVATED PO: OTHER DANG WEAP'\n",
      " 'OBSTRUCTING JUSTICE' 'EXTORTION' 'UNLAWFUL SALE HANDGUN'\n",
      " 'UNLAWFUL SALE OTHER FIREARM' 'MANU/DELIVER:PCP'\n",
      " 'UNLAWFUL USE OF A COMPUTER' 'BIGAMY' 'PAROLE VIOLATION'\n",
      " 'VEHICULAR HIJACKING' 'UNLAWFUL POSS OTHER FIREARM'\n",
      " 'UNLAWFUL USE HANDGUN' 'ILLEGAL POSSESSION CASH CARD'\n",
      " 'ARMED: OTHER FIREARM' 'TO FIRE FIGHT.APP.EQUIP' 'MOB ACTION'\n",
      " 'ATTEMPT: ARMED-OTHER DANG WEAP' 'AGGRAVATED PO: HANDGUN' 'ARSON THREAT'\n",
      " 'THEFT/RECOVERY: CYCLE, SCOOTER, BIKE W-VIN' 'CANNABIS PLANT'\n",
      " 'FROM COIN-OP MACHINE/DEVICE' 'VIO BAIL BOND: DOM VIOLENCE' 'TO AIRPORT'\n",
      " 'AGGRAVATED DOMESTIC BATTERY: OTHER FIREARM' 'COMPELLING ORG MEMBERSHIP'\n",
      " 'AGG: HANDS/FIST/FEET SERIOUS INJURY' 'UNLAWFUL INTERFERE/VISITATION'\n",
      " 'AGG PRO.EMP: HANDGUN' 'INTOXICATING COMPOUNDS'\n",
      " 'MANU/DELIVER:SYNTHETIC DRUGS' 'KEEP PLACE OF PROSTITUTION'\n",
      " 'HOME INVASION' 'SALE/DEL DRUG PARAPHERNALIA' 'KIDNAPPING'\n",
      " 'LOTTERY/PARI-MUTUEL' 'OBSTRUCTING IDENTIFICATION'\n",
      " 'OTHER PROSTITUTION OFFENSE' 'MANU/DELIVER:LOOK-ALIKE DRUG'\n",
      " 'VIOLENT OFFENDER: ANNUAL REGISTRATION'\n",
      " 'MANU/POSS. W/INTENT TO DELIVER: SYNTHETIC MARIJUANA'\n",
      " 'TAMPER WITH MOTOR VEHICLE' 'OTHER VIOLATION'\n",
      " 'VIOLATION OF STALKING NO CONTACT ORDER' 'MANU/DELIVER:AMPHETAMINES'\n",
      " 'MANU/DELIVER: METHAMPHETAMINES' 'INDECENT SOLICITATION/ADULT'\n",
      " 'PROHIBITED PLACES' 'OBSCENITY' 'CYBERSTALKING' 'LIBRARY THEFT'\n",
      " 'WIREROOM/HORSES' 'POSS: AMPHETAMINES' 'BOOKMAKING/SPORTS'\n",
      " 'INTERFERE W/ EMERGENCY EQUIP' 'FIREARM REGISTRATION VIOLATION'\n",
      " 'VIOLATION OF CIVIL NO CONTACT ORDER'\n",
      " 'SEXUAL ASSAULT OF CHILD BY FAMILY MEMBER' 'PIMPING' 'ESCAPE'\n",
      " 'SOLICIT FOR PROSTITUTE' 'FIRST DEGREE MURDER'\n",
      " 'FAILURE TO KEEP HYPO RECORDS' 'AGG PO HANDS ETC SERIOUS INJ'\n",
      " 'HARBOR RUNAWAY' 'ANIMAL FIGHTING' 'FALSE FIRE ALARM'\n",
      " 'AGG RIT MUT: HANDS/FIST/FEET SERIOUS INJURY' 'SEX RELATION IN FAMILY'\n",
      " 'DEL CONT SUBS TO PERSON <18' 'FOID - REVOCATION' 'PEEPING TOM'\n",
      " 'THEFT/RECOVERY: CYCLE, SCOOTER, BIKE NO VIN'\n",
      " 'ATTEMPT: CYCLE, SCOOTER, BIKE W-VIN' 'POSSESSION: SYNTHETIC MARIJUANA'\n",
      " 'PANDERING' 'GAME/CARDS' 'CONTRIBUTE CRIM DELINQUENCY JUVENILE'\n",
      " 'MINOR MISREPRESENT AGE' 'MARRYING A BIGAMIST'\n",
      " 'AGGRAVATED PO: KNIFE/CUT INSTR' 'MANU/DELIVER:HEROIN(BLACK TAR)'\n",
      " 'AGGRAVATED PO:KNIFE/CUT INSTR' 'ILLEGAL ILL LOTTERY'\n",
      " 'ATT AGG CRIM SEXUAL ABUSE' 'BY EXPLOSIVE'\n",
      " 'ATTEMPT AGGRAVATED CRIMINAL SEXUAL ABUSE' 'COMMERCIAL SEX ACTS'\n",
      " 'GUN OFFENDER: ANNUAL REGISTRATION' 'ARMED VIOLENCE' 'JUVENILE PIMPING'\n",
      " 'ARSONIST: FAIL TO REGISTER NEW ADDRESS'\n",
      " 'CRIMINAL SEXUAL ABUSE BY FAMILY MEMBER' 'AGGRAVATED COMPUTER TAMPERING'\n",
      " 'INDECENT SOLICITATION OF A CHILD'\n",
      " 'NON-CONSENSUAL DISSEMINATION PRIVATE SEXUAL IMAGES'\n",
      " 'CYCLE, SCOOTER, BIKE NO VIN' 'AGGRAVATED - HANDGUN'\n",
      " 'GUN OFFENDER: DUTY TO REPORT CHANGE OF INFORMATION'\n",
      " 'PUBLIC DEMONSTRATION' 'ARMED - KNIFE / CUTTING INSTRUMENT'\n",
      " 'VIOLENT OFFENDER: DUTY TO REGISTER'\n",
      " 'AGGRAVATED POLICE OFFICER - HANDGUN'\n",
      " 'AGGRAVATED DOMESTIC BATTERY: HANDGUN' 'ARMED WHILE UNDER THE INFLUENCE'\n",
      " 'LICENSED PREMISE' 'SALE TOBACCO PRODUCTS TO MINOR'\n",
      " 'ABUSE/NEGLECT: CARE FACILITY' 'OBSTRUCTING SERVICE'\n",
      " 'STRONG ARM - NO WEAPON' 'AGG PRO EMP HANDS SERIOUS INJ'\n",
      " 'AGGRAVATED OF A UNBORN CHILD' 'ARMED - HANDGUN'\n",
      " 'VIOLATION GPS MONITORING DEVICE' 'ATTEMPT: CYCLE, SCOOTER, BIKE NO VIN'\n",
      " 'HAZARDOUS MATERIALS VIOLATION' 'POS: PORNOGRAPHIC PRINT'\n",
      " 'UNLAWFUL POSSESSION - HANDGUN' 'AGGRAVATED - KNIFE / CUTTING INSTRUMENT'\n",
      " 'ARSONIST: ANNUAL REGISTRATION'\n",
      " 'AGGRAVATED DOMESTIC BATTERY - KNIFE / CUTTING INSTRUMENT'\n",
      " 'ENDANGERING LIFE / HEALTH OF CHILD'\n",
      " 'SALE / DISTRIBUTE OBSCENE MATERIAL TO MINOR'\n",
      " 'AGGRAVATED PROTECTED EMPLOYEE - HANDGUN' 'POS: EXPLOSIVE/INCENDIARY DEV'\n",
      " 'ATTEMPT AGG: KNIFE/CUT INSTR' 'OF UNBORN CHILD' 'ATTEMPT AGG: HANDGUN'\n",
      " 'OTHER ARSON/EXPLOSIVE INCIDENT' 'UNLAWFUL USE - HANDGUN'\n",
      " 'VIOLENT OFFENDER: FAIL TO REGISTER NEW ADDRESS'\n",
      " 'AGGRAVATED - HANDS, FISTS, FEET, SERIOUS INJURY'\n",
      " 'ATTEMPT AGGRAVATED - KNIFE / CUTTING INSTRUMENT'\n",
      " 'AGGRAVATED DOMESTIC BATTERY - HANDGUN'\n",
      " 'AGGRAVATED - OTHER DANGEROUS WEAPON' 'BOARD PLANE WITH WEAPON'\n",
      " 'ATTEMPT ARMED - HANDGUN' 'UNLAWFUL USE OF BODY ARMOR'\n",
      " 'ARMED - OTHER DANGEROUS WEAPON'\n",
      " 'AGG. PROTECTED EMPLOYEE - HANDS, FISTS, FEET, SERIOUS INJURY'\n",
      " 'AGG PRO.EMP: OTHER FIREARM' 'THEFT BY LESSEE, MOTOR VEHICLE'\n",
      " 'SEX OFFENDER - FAIL TO REGISTER NEW ADDRESS'\n",
      " 'AGGRAVATED PO: OTHER FIREARM' 'EMPLOY MINOR'\n",
      " 'DELIVER CANNABIS TO PERSON <18'\n",
      " 'AGGRAVATED P.O. - HANDS, FISTS, FEET, NO / MINOR INJURY'\n",
      " 'INTIMIDATION OF LAW ENFORCEMENT OFFICIAL'\n",
      " 'FINANCIAL EXPLOITATION OF AN ELDERLY OR DISABLED PERSON'\n",
      " 'ATTEMPT AGGRAVATED' 'CYCLE, SCOOTER, BIKE WITH VIN'\n",
      " 'VIOLATION OF SUMMARY CLOSURE' 'AGGRAVATED: KNIFE / CUTTING INSTRUMENT'\n",
      " 'SEXUAL RELATIONS IN FAMILY' 'SEX OFFENDER - FAIL TO REGISTER'\n",
      " 'ATTEMPT AGGRAVATED - OTHER' 'INVOLUNTARY SERVITUDE'\n",
      " 'STOLEN PROPERTY BUY / RECEIVE / POSSESS' 'ATTEMPT CRIMINAL SEXUAL ABUSE'\n",
      " 'ATTEMPT AGGRAVATED - OTHER DANGEROUS WEAPON'\n",
      " 'POSSESSION OF PORNOGRAPHIC PRINT' 'THEFT OF LABOR / SERVICES'\n",
      " 'NON-CONSENSUAL DISSEMINATION OF PRIVATE SEXUAL IMAGES'\n",
      " 'RECKLESS HOMICIDE' 'COMPELLING CONFESSION'\n",
      " 'CONCEALED CARRY LICENSE REVOCATION'\n",
      " 'PROTECTED EMPLOYEE - HANDS, FISTS, FEET, NO / MINOR INJURY'\n",
      " 'AGGRAVATED POLICE OFFICER - OTHER DANGEROUS WEAPON'\n",
      " 'ATTEMPT ARMED - KNIFE / CUTTING INSTRUMENT'\n",
      " 'AGGRAVATED DOMESTIC BATTERY - OTHER DANGEROUS WEAPON'\n",
      " 'ATTEMPT STRONG ARM - NO WEAPON' 'AGGRAVATED - OTHER FIREARM'\n",
      " 'UNLAWFUL USE - OTHER FIREARM'\n",
      " 'AGGRAVATED P.O. - HANDS, FISTS, FEET, SERIOUS INJURY'\n",
      " 'ARSONIST - ANNUAL REGISTRATION'\n",
      " 'AGGRAVATED PROTECTED EMPLOYEE - OTHER DANGEROUS WEAPON'\n",
      " 'AGG. DOMESTIC BATTERY - HANDS, FISTS, FEET, SERIOUS INJURY'\n",
      " 'CONTRIBUTE TO THE DELINQUENCY OF CHILD' 'ARMED - OTHER FIREARM'\n",
      " 'ATTEMPT - AUTOMOBILE' 'VIOLATION OF SMOKING BAN' 'FORCIBLE DETENTION'\n",
      " 'ARSONIST - FAIL TO REGISTER NEW ADDRESS'\n",
      " 'ATTEMPT ARMED - OTHER DANGEROUS WEAPON'\n",
      " 'AGGRAVATED DOMESTIC BATTERY: OTHER DANGEROUS WEAPON'\n",
      " 'AGGRAVATED POLICE OFFICER - KNIFE / CUTTING INSTRUMENT'\n",
      " 'DEFACE IDENT MARKS OF FIREARM' 'POSSESS - CANNABIS MORE THAN 30 GRAMS'\n",
      " 'MANUFACTURE / DELIVER - CANNABIS OVER 10 GRAMS'\n",
      " 'THEFT / RECOVERY - AUTOMOBILE'\n",
      " 'AGGRAVATED - HANDS, FISTS, FEET, NO / MINOR INJURY'\n",
      " 'POSSESS FIREARM / AMMUNITION - NO FOID CARD'\n",
      " 'THEFT OF LOST / MISLAID PROPERTY' 'STRONGARM: NO WEAPON'\n",
      " 'CONT SUBS:FAIL TO MAINT RECORD' 'ALTER / FORGE PRESCRIPTION'\n",
      " 'AGGRAVATED PROTECTED EMPLOYEE - KNIFE / CUTTING INSTRUMENT'\n",
      " 'POSSESS - CRACK' 'UNLAWFUL POSSESSION - OTHER FIREARM'\n",
      " 'AGGRAVATED: OTHER DANGEROUS WEAPON' 'AIDING ARRESTEE ESCAPE'\n",
      " 'TO STATE SUPPORTED PROPERTY'\n",
      " 'AGGRAVATED DOMESTIC BATTERY: KNIFE / CUTTING INSTSTRUMENT'\n",
      " 'ATTEMPT ARMED - OTHER FIREARM' 'POSSESS - HEROIN (WHITE)'\n",
      " 'ATTEMPT STRONG ARM: NO WEAPON' 'UNLAWFUL VISITATION INTERFERENCE'\n",
      " 'FALSE / STOLEN / ALTERED TRP' 'ATTEMPT ARMED: HANDGUN'\n",
      " 'ABUSE / NEGLECT - CARE FACILITY'\n",
      " 'VIOLENT OFFENDER - ANNUAL REGISTRATION'\n",
      " 'RESIST / OBSTRUCT / DISARM OFFICER' 'CHILD ABDUCTION / STRANGER'\n",
      " 'MANUFACTURE / DELIVER -  HEROIN (WHITE)' 'ANIMAL ABUSE / NEGLECT'\n",
      " 'AGGRAVATED: HANDS / FIST / FEET NO / MINOR INJURY' 'POSSESS - COCAINE'\n",
      " 'MANUFACTURE / DELIVER - HALLUCINOGEN' 'MANUFACTURE / DELIVER - CRACK'\n",
      " 'AGGRAVATED POLICE OFFICER - HANDS, FISTS, FEET, NO INJURY'\n",
      " 'SELL / GIVE / DELIVER LIQUOR TO MINOR' 'POSSESS - SYNTHETIC DRUGS'\n",
      " 'POSSESS - BARBITURATES' 'AGGRAVATED PO: OTHER DANGEROUS WEAPON'\n",
      " 'POSSESS - CANNABIS 30 GRAMS OR LESS'\n",
      " 'MANUFACTURE / DELIVER - SYNTHETIC DRUGS'\n",
      " 'SOLICIT NARCOTICS ON PUBLIC WAY' 'POSSESS - METHAMPHETAMINE'\n",
      " 'MANUFACTURE / DELIVER - BARBITURATES'\n",
      " 'AGGRAVATED: HANDS / FIST / FEET SERIOUS INJURY'\n",
      " 'UNLAWFUL POSSESSION - AMMUNITION' 'POSSESS - HEROIN (TAN / BROWN TAR)'\n",
      " 'PROTECTED EMPLOYEE: HANDS NO / MIN INJURY' 'POSSESS - HALLUCINOGENS'\n",
      " 'MANUFACTURE / DELIVER - CANNABIS 10 GRAMS OR LESS'\n",
      " 'VEHICLE TITLE / REGISTRATION OFFENSE'\n",
      " 'GUN OFFENDER - DUTY TO REPORT CHANGE OF INFORMATION'\n",
      " 'GUN OFFENDER - ANNUAL REGISTRATION' 'POSSESS - PCP'\n",
      " 'UNLAWFUL USE - OTHER DANGEROUS WEAPON'\n",
      " 'UNLAWFUL SALE - DELIVERY OF FIREARM AT SCHOOL'\n",
      " 'MANUFACTURE / DELIVER - PCP' 'GUN OFFENDER - DUTY TO REGISTER'\n",
      " 'MANUFACTURE / DELIVER - COCAINE'\n",
      " 'VIOLENT OFFENDER - FAIL TO REGISTER NEW ADDRESS'\n",
      " 'CONTRIBUTE TO THE CRIMINAL DELINQUENCY OF CHILD'\n",
      " 'SALE OF TOBACCO PRODUCTS TO MINOR'\n",
      " 'MANUFACTURE / DELIVER - HEROIN (TAN / BROWN TAR)'\n",
      " 'MANUFACTURE / DELIVER - HEROIN (BLACK TAR)'\n",
      " 'SALE / DELIVER - DRUG PARAPHERNALIA'\n",
      " 'AGGRAVATED PROTECTED EMPLOYEE - OTHER FIREARM'\n",
      " 'VIOLATION OF BAIL BOND - DOMESTIC VIOLENCE'\n",
      " 'THEFT / RECOVERY - TRUCK, BUS, MOBILE HOME'\n",
      " 'SOLICITING FOR A PROSTITUTE' 'POSSESS - AMPHETAMINES'\n",
      " 'UNLAWFUL USE / SALE OF AIR RIFLE'\n",
      " 'DEFACE IDENTIFICATION MARKS OF FIREARM'\n",
      " 'FROM COIN-OPERATED MACHINE OR DEVICE'\n",
      " 'THEFT BY LESSEE, NON-MOTOR VEHICLE' 'SOLICITING FOR BUSINESS'\n",
      " 'ATTEMPT - TRUCK, BUS, MOTOR HOME'\n",
      " 'AGGRAVATED DOMESTIC BATTERY - OTHER FIREARM'\n",
      " 'AGGRAVATED OF AN UNBORN CHILD' 'POSSESS - HEROIN (BLACK TAR)'\n",
      " 'INVOLUNTARY MANSLAUGHTER'\n",
      " 'THEFT / RECOVERY - CYCLE, SCOOTER, BIKE WITH VIN'\n",
      " 'ATTEMPT AGGRAVATED - HANDGUN' 'LOOTING'\n",
      " 'OTHER ARSON / EXPLOSIVE INCIDENT'\n",
      " 'AGGRAVATED POLICE OFFICER - OTHER FIREARM'\n",
      " 'INDECENT SOLICITATION OF AN ADULT'\n",
      " 'ATTEMPT - CYCLE, SCOOTER, BIKE WITH VIN'\n",
      " 'POSSESSION - EXPLOSIVE / INCENDIARY DEVICE'\n",
      " 'MANUFACTURE / DELIVER - AMPHETAMINES'\n",
      " 'VIOLENT OFFENDER - DUTY TO REGISTER'\n",
      " 'INTERFERE WITH EMERGENCY EQUIPMENT' 'UNLAWFUL SALE - HANDGUN'\n",
      " 'UNLAWFUL SALE - OTHER FIREARM' 'OF AN UNBORN CHILD'\n",
      " 'FINANCIAL IDENTITY THEFT: OVER $300' 'GAME / AMUSEMENT DEVICE'\n",
      " 'MANUFACTURE / DELIVER - METHAMPHETAMINE'\n",
      " 'MANUFACTURE / DELIVER - SYNTHETIC MARIJUANA' 'WIREROOM/SPORTS'\n",
      " 'PATRONIZE JUVENILE PROSTITUTE' 'LIBRARY VANDALISM'\n",
      " 'SELL/ADVERTISE FIREWORKS' 'NOTIFICATION OF STALKING - NO CONTACT ORDER'\n",
      " 'INTERFERE W/ HIGHER EDUCATION' 'ATTEMPT AGG: OTHER DANG WEAPON'\n",
      " 'POSS: LOOK-ALIKE DRUGS' 'EDUCATIONAL INTIMIDAITON'\n",
      " 'NOTIFICATION OF CIVIL NO CONTACT ORDER' 'POS: CHEMICAL/DRY-ICE DEVICE'\n",
      " 'THEFT RETAIL' 'CONCEALING/AIDING A FUGITIVE'\n",
      " 'UNLAWFUL SALE/DELIVERY OF FIREARM AT SCHOOL' 'FOUND PASSPORT'\n",
      " 'FAIL REGISTER LIC:CONT SUBS' 'POSS. KEYS OR DEV.TO COIN MACH'\n",
      " 'REFUSING TO AID AN OFFICER' 'ATTEMPT AGG: OTHER FIREARM'\n",
      " 'CONTRABAND IN PRISON' 'CAB OPERATION' 'ARSONIST: DUTY TO REGISTER'\n",
      " 'GUN OFFENDER NOTIFICATION-NO CONTACT' 'ALTER COINS'\n",
      " 'USE OF METAL PIERCING BULLETS' 'BOOKMAKING/HORSES'\n",
      " 'AGG RITUAL MUT:KNIFE/CUTTING I' 'DOMESTIC VIOLENCE' 'LOTTERY/OTHER'\n",
      " 'AGG RITUAL MUT:OTH DANG WEAPON' 'REGISTER OF SALES BY DEALER'\n",
      " 'OVER $300' 'VIOL CHARITABLE GAME ACT' 'AGG RITUAL MUT:HANDGUN'\n",
      " 'POLICY/OTHER' '$300 AND UNDER' 'BOLITA OR BOLI PUL/WRITER'\n",
      " 'BOLITA OR BOLI PUL/RUNNER' 'LOTTERY/PARLAY CARDS' 'ADULTRY'\n",
      " 'BOLITA OR BOLI PUL/OFFICE'\n",
      " 'AGG RIT MUT: HANDS/FIST/FEET NO/MINOR INJURY'\n",
      " 'CALCULATED CANNABIS CONSPIRACY' 'SPORTS TAMPERING' 'NATIONAL LOTTERY'\n",
      " 'REGISTER FED GAMBLING STAMP' 'KEEP PLACE OF JUV PROSTITUTION'\n",
      " 'DISCLOSE DV VICTIM LOCATION']\n"
     ]
    }
   ],
   "source": [
    "print(data['Primary Type'].unique())\n",
    "print(data['Description'].unique())\n"
   ]
  },
  {
   "cell_type": "code",
   "execution_count": 101,
   "metadata": {},
   "outputs": [],
   "source": [
    "df = data[data['Latitude'].notna()]\n",
    "df = df[df['Longitude'].notna()]\n",
    "violent_crime = ['BATTERY', 'ASSAULT', 'ROBBERY', 'ARSON', 'HOMICIDE', 'DOMESTIC VIOLENCE']\n",
    "sexual_crime = ['CRIM SEXUAL ASSAULT', 'CRIMINAL SEXUAL ASSAULT', ]"
   ]
  },
  {
   "cell_type": "code",
   "execution_count": 5,
   "metadata": {},
   "outputs": [
    {
     "data": {
      "text/html": [
       "<div>\n",
       "<style scoped>\n",
       "    .dataframe tbody tr th:only-of-type {\n",
       "        vertical-align: middle;\n",
       "    }\n",
       "\n",
       "    .dataframe tbody tr th {\n",
       "        vertical-align: top;\n",
       "    }\n",
       "\n",
       "    .dataframe thead th {\n",
       "        text-align: right;\n",
       "    }\n",
       "</style>\n",
       "<table border=\"1\" class=\"dataframe\">\n",
       "  <thead>\n",
       "    <tr style=\"text-align: right;\">\n",
       "      <th></th>\n",
       "      <th>ID</th>\n",
       "      <th>Case Number</th>\n",
       "      <th>Date</th>\n",
       "      <th>Block</th>\n",
       "      <th>IUCR</th>\n",
       "      <th>Primary Type</th>\n",
       "      <th>Description</th>\n",
       "      <th>Location Description</th>\n",
       "      <th>Arrest</th>\n",
       "      <th>Domestic</th>\n",
       "      <th>...</th>\n",
       "      <th>Ward</th>\n",
       "      <th>Community Area</th>\n",
       "      <th>FBI Code</th>\n",
       "      <th>X Coordinate</th>\n",
       "      <th>Y Coordinate</th>\n",
       "      <th>Year</th>\n",
       "      <th>Updated On</th>\n",
       "      <th>Latitude</th>\n",
       "      <th>Longitude</th>\n",
       "      <th>Location</th>\n",
       "    </tr>\n",
       "  </thead>\n",
       "  <tbody>\n",
       "    <tr>\n",
       "      <th>63291</th>\n",
       "      <td>11665567</td>\n",
       "      <td>JC234307</td>\n",
       "      <td>04/10/2019 04:37:00 PM</td>\n",
       "      <td>102XX S VERNON AVE</td>\n",
       "      <td>1562</td>\n",
       "      <td>SEX OFFENSE</td>\n",
       "      <td>AGGRAVATED CRIMINAL SEXUAL ABUSE</td>\n",
       "      <td>SCHOOL - PUBLIC BUILDING</td>\n",
       "      <td>False</td>\n",
       "      <td>False</td>\n",
       "      <td>...</td>\n",
       "      <td>9.0</td>\n",
       "      <td>49.0</td>\n",
       "      <td>17</td>\n",
       "      <td>1181051.0</td>\n",
       "      <td>1837225.0</td>\n",
       "      <td>2019</td>\n",
       "      <td>04/17/2020 03:50:24 PM</td>\n",
       "      <td>41.708589</td>\n",
       "      <td>-87.612583</td>\n",
       "      <td>(41.708589, -87.612583094)</td>\n",
       "    </tr>\n",
       "    <tr>\n",
       "      <th>63376</th>\n",
       "      <td>11667963</td>\n",
       "      <td>JC235212</td>\n",
       "      <td>04/12/2019 04:08:00 PM</td>\n",
       "      <td>032XX N KEELER AVE</td>\n",
       "      <td>1754</td>\n",
       "      <td>OFFENSE INVOLVING CHILDREN</td>\n",
       "      <td>AGG SEX ASSLT OF CHILD FAM MBR</td>\n",
       "      <td>RESIDENCE</td>\n",
       "      <td>False</td>\n",
       "      <td>True</td>\n",
       "      <td>...</td>\n",
       "      <td>30.0</td>\n",
       "      <td>16.0</td>\n",
       "      <td>02</td>\n",
       "      <td>1147835.0</td>\n",
       "      <td>1921408.0</td>\n",
       "      <td>2019</td>\n",
       "      <td>10/02/2019 04:13:24 PM</td>\n",
       "      <td>41.940298</td>\n",
       "      <td>-87.732066</td>\n",
       "      <td>(41.940297617, -87.732066473)</td>\n",
       "    </tr>\n",
       "    <tr>\n",
       "      <th>63377</th>\n",
       "      <td>11667968</td>\n",
       "      <td>JC237058</td>\n",
       "      <td>04/19/2019 01:57:00 PM</td>\n",
       "      <td>002XX N LARAMIE AVE</td>\n",
       "      <td>1752</td>\n",
       "      <td>OFFENSE INVOLVING CHILDREN</td>\n",
       "      <td>AGGRAVATED CRIMINAL SEXUAL ABUSE BY FAMILY MEMBER</td>\n",
       "      <td>RESIDENCE</td>\n",
       "      <td>False</td>\n",
       "      <td>True</td>\n",
       "      <td>...</td>\n",
       "      <td>28.0</td>\n",
       "      <td>25.0</td>\n",
       "      <td>17</td>\n",
       "      <td>1141669.0</td>\n",
       "      <td>1901165.0</td>\n",
       "      <td>2019</td>\n",
       "      <td>03/18/2020 03:52:17 PM</td>\n",
       "      <td>41.884865</td>\n",
       "      <td>-87.755230</td>\n",
       "      <td>(41.884865037, -87.755230327)</td>\n",
       "    </tr>\n",
       "    <tr>\n",
       "      <th>63453</th>\n",
       "      <td>11668309</td>\n",
       "      <td>JC238187</td>\n",
       "      <td>04/25/2019 05:20:00 PM</td>\n",
       "      <td>108XX S DR MARTIN LUTHER KING JR DR</td>\n",
       "      <td>0486</td>\n",
       "      <td>BATTERY</td>\n",
       "      <td>DOMESTIC BATTERY SIMPLE</td>\n",
       "      <td>RESIDENCE</td>\n",
       "      <td>False</td>\n",
       "      <td>True</td>\n",
       "      <td>...</td>\n",
       "      <td>9.0</td>\n",
       "      <td>49.0</td>\n",
       "      <td>08B</td>\n",
       "      <td>1180832.0</td>\n",
       "      <td>1833222.0</td>\n",
       "      <td>2019</td>\n",
       "      <td>06/30/2019 03:56:27 PM</td>\n",
       "      <td>41.697609</td>\n",
       "      <td>-87.613508</td>\n",
       "      <td>(41.697609261, -87.613507612)</td>\n",
       "    </tr>\n",
       "    <tr>\n",
       "      <th>63857</th>\n",
       "      <td>11692179</td>\n",
       "      <td>JC261724</td>\n",
       "      <td>05/13/2019 05:26:00 PM</td>\n",
       "      <td>090XX S RACINE AVE</td>\n",
       "      <td>0560</td>\n",
       "      <td>ASSAULT</td>\n",
       "      <td>SIMPLE</td>\n",
       "      <td>STREET</td>\n",
       "      <td>False</td>\n",
       "      <td>False</td>\n",
       "      <td>...</td>\n",
       "      <td>21.0</td>\n",
       "      <td>73.0</td>\n",
       "      <td>08A</td>\n",
       "      <td>1169908.0</td>\n",
       "      <td>1844927.0</td>\n",
       "      <td>2019</td>\n",
       "      <td>06/30/2019 03:56:27 PM</td>\n",
       "      <td>41.729973</td>\n",
       "      <td>-87.653167</td>\n",
       "      <td>(41.729973132, -87.653166753)</td>\n",
       "    </tr>\n",
       "  </tbody>\n",
       "</table>\n",
       "<p>5 rows × 22 columns</p>\n",
       "</div>"
      ],
      "text/plain": [
       "             ID Case Number                    Date  \\\n",
       "63291  11665567    JC234307  04/10/2019 04:37:00 PM   \n",
       "63376  11667963    JC235212  04/12/2019 04:08:00 PM   \n",
       "63377  11667968    JC237058  04/19/2019 01:57:00 PM   \n",
       "63453  11668309    JC238187  04/25/2019 05:20:00 PM   \n",
       "63857  11692179    JC261724  05/13/2019 05:26:00 PM   \n",
       "\n",
       "                                     Block  IUCR                Primary Type  \\\n",
       "63291                   102XX S VERNON AVE  1562                 SEX OFFENSE   \n",
       "63376                   032XX N KEELER AVE  1754  OFFENSE INVOLVING CHILDREN   \n",
       "63377                  002XX N LARAMIE AVE  1752  OFFENSE INVOLVING CHILDREN   \n",
       "63453  108XX S DR MARTIN LUTHER KING JR DR  0486                     BATTERY   \n",
       "63857                   090XX S RACINE AVE  0560                     ASSAULT   \n",
       "\n",
       "                                             Description  \\\n",
       "63291                   AGGRAVATED CRIMINAL SEXUAL ABUSE   \n",
       "63376                     AGG SEX ASSLT OF CHILD FAM MBR   \n",
       "63377  AGGRAVATED CRIMINAL SEXUAL ABUSE BY FAMILY MEMBER   \n",
       "63453                            DOMESTIC BATTERY SIMPLE   \n",
       "63857                                             SIMPLE   \n",
       "\n",
       "           Location Description  Arrest  Domestic  ...  Ward  Community Area  \\\n",
       "63291  SCHOOL - PUBLIC BUILDING   False     False  ...   9.0            49.0   \n",
       "63376                 RESIDENCE   False      True  ...  30.0            16.0   \n",
       "63377                 RESIDENCE   False      True  ...  28.0            25.0   \n",
       "63453                 RESIDENCE   False      True  ...   9.0            49.0   \n",
       "63857                    STREET   False     False  ...  21.0            73.0   \n",
       "\n",
       "       FBI Code  X Coordinate Y Coordinate  Year              Updated On  \\\n",
       "63291        17     1181051.0    1837225.0  2019  04/17/2020 03:50:24 PM   \n",
       "63376        02     1147835.0    1921408.0  2019  10/02/2019 04:13:24 PM   \n",
       "63377        17     1141669.0    1901165.0  2019  03/18/2020 03:52:17 PM   \n",
       "63453       08B     1180832.0    1833222.0  2019  06/30/2019 03:56:27 PM   \n",
       "63857       08A     1169908.0    1844927.0  2019  06/30/2019 03:56:27 PM   \n",
       "\n",
       "        Latitude  Longitude                       Location  \n",
       "63291  41.708589 -87.612583     (41.708589, -87.612583094)  \n",
       "63376  41.940298 -87.732066  (41.940297617, -87.732066473)  \n",
       "63377  41.884865 -87.755230  (41.884865037, -87.755230327)  \n",
       "63453  41.697609 -87.613508  (41.697609261, -87.613507612)  \n",
       "63857  41.729973 -87.653167  (41.729973132, -87.653166753)  \n",
       "\n",
       "[5 rows x 22 columns]"
      ]
     },
     "execution_count": 5,
     "metadata": {},
     "output_type": "execute_result"
    }
   ],
   "source": [
    "df.head()"
   ]
  },
  {
   "cell_type": "code",
   "execution_count": 6,
   "metadata": {},
   "outputs": [
    {
     "name": "stdout",
     "output_type": "stream",
     "text": [
      "-91.686565684\n",
      "(-87.7738, -87.5658, 41.8096, 41.9653)\n"
     ]
    }
   ],
   "source": [
    "print(df['Longitude'].min())\n",
    "\n",
    "BBox = ((-87.7738,   -87.5658, 41.8096, 41.9653))\n",
    "\n",
    "print(BBox)"
   ]
  },
  {
   "cell_type": "code",
   "execution_count": 56,
   "metadata": {},
   "outputs": [],
   "source": [
    "import matplotlib.pyplot as plt\n",
    "from matplotlib.widgets import Slider, Button, RadioButtons"
   ]
  },
  {
   "cell_type": "code",
   "execution_count": null,
   "metadata": {},
   "outputs": [],
   "source": []
  },
  {
   "cell_type": "code",
   "execution_count": 60,
   "metadata": {},
   "outputs": [
    {
     "ename": "FileNotFoundError",
     "evalue": "[Errno 2] No such file or directory: 'D:\\\\Classes\\\\CSCE320\\\\Project\\\\ChicagoCrimeAnalysis\\\\Location_map_Chicago.png'",
     "output_type": "error",
     "traceback": [
      "\u001b[1;31m---------------------------------------------------------------------------\u001b[0m",
      "\u001b[1;31mFileNotFoundError\u001b[0m                         Traceback (most recent call last)",
      "\u001b[1;32m<ipython-input-60-a7e440160bf6>\u001b[0m in \u001b[0;36m<module>\u001b[1;34m\u001b[0m\n\u001b[1;32m----> 1\u001b[1;33m \u001b[0mchicagoMap\u001b[0m \u001b[1;33m=\u001b[0m \u001b[0mplt\u001b[0m\u001b[1;33m.\u001b[0m\u001b[0mimread\u001b[0m\u001b[1;33m(\u001b[0m\u001b[1;34m'D:\\Classes\\CSCE320\\Project\\ChicagoCrimeAnalysis\\Location_map_Chicago.png'\u001b[0m\u001b[1;33m)\u001b[0m\u001b[1;33m\u001b[0m\u001b[1;33m\u001b[0m\u001b[0m\n\u001b[0m\u001b[0;32m      2\u001b[0m \u001b[1;33m\u001b[0m\u001b[0m\n\u001b[0;32m      3\u001b[0m \u001b[0mfig\u001b[0m\u001b[1;33m,\u001b[0m \u001b[0max\u001b[0m \u001b[1;33m=\u001b[0m \u001b[0mplt\u001b[0m\u001b[1;33m.\u001b[0m\u001b[0msubplots\u001b[0m\u001b[1;33m(\u001b[0m\u001b[0mfigsize\u001b[0m \u001b[1;33m=\u001b[0m \u001b[1;33m(\u001b[0m\u001b[1;36m8\u001b[0m\u001b[1;33m,\u001b[0m\u001b[1;36m7\u001b[0m\u001b[1;33m)\u001b[0m\u001b[1;33m)\u001b[0m\u001b[1;33m\u001b[0m\u001b[1;33m\u001b[0m\u001b[0m\n\u001b[0;32m      4\u001b[0m \u001b[1;33m\u001b[0m\u001b[0m\n\u001b[0;32m      5\u001b[0m \u001b[0max\u001b[0m\u001b[1;33m.\u001b[0m\u001b[0mscatter\u001b[0m\u001b[1;33m(\u001b[0m\u001b[0mdf\u001b[0m\u001b[1;33m[\u001b[0m\u001b[1;34m'Longitude'\u001b[0m\u001b[1;33m]\u001b[0m\u001b[1;33m,\u001b[0m\u001b[0mdf\u001b[0m\u001b[1;33m[\u001b[0m\u001b[1;34m'Latitude'\u001b[0m\u001b[1;33m]\u001b[0m\u001b[1;33m,\u001b[0m \u001b[0mzorder\u001b[0m\u001b[1;33m=\u001b[0m\u001b[1;36m1\u001b[0m\u001b[1;33m,\u001b[0m \u001b[0malpha\u001b[0m\u001b[1;33m=\u001b[0m\u001b[1;36m0.2\u001b[0m\u001b[1;33m,\u001b[0m\u001b[0mc\u001b[0m\u001b[1;33m=\u001b[0m\u001b[1;34m'b'\u001b[0m\u001b[1;33m,\u001b[0m\u001b[0ms\u001b[0m\u001b[1;33m=\u001b[0m\u001b[1;36m10\u001b[0m\u001b[1;33m)\u001b[0m\u001b[1;33m\u001b[0m\u001b[1;33m\u001b[0m\u001b[0m\n",
      "\u001b[1;32m~\\anaconda3\\lib\\site-packages\\matplotlib\\pyplot.py\u001b[0m in \u001b[0;36mimread\u001b[1;34m(fname, format)\u001b[0m\n\u001b[0;32m   2059\u001b[0m \u001b[1;33m@\u001b[0m\u001b[0mdocstring\u001b[0m\u001b[1;33m.\u001b[0m\u001b[0mcopy\u001b[0m\u001b[1;33m(\u001b[0m\u001b[0mmatplotlib\u001b[0m\u001b[1;33m.\u001b[0m\u001b[0mimage\u001b[0m\u001b[1;33m.\u001b[0m\u001b[0mimread\u001b[0m\u001b[1;33m)\u001b[0m\u001b[1;33m\u001b[0m\u001b[1;33m\u001b[0m\u001b[0m\n\u001b[0;32m   2060\u001b[0m \u001b[1;32mdef\u001b[0m \u001b[0mimread\u001b[0m\u001b[1;33m(\u001b[0m\u001b[0mfname\u001b[0m\u001b[1;33m,\u001b[0m \u001b[0mformat\u001b[0m\u001b[1;33m=\u001b[0m\u001b[1;32mNone\u001b[0m\u001b[1;33m)\u001b[0m\u001b[1;33m:\u001b[0m\u001b[1;33m\u001b[0m\u001b[1;33m\u001b[0m\u001b[0m\n\u001b[1;32m-> 2061\u001b[1;33m     \u001b[1;32mreturn\u001b[0m \u001b[0mmatplotlib\u001b[0m\u001b[1;33m.\u001b[0m\u001b[0mimage\u001b[0m\u001b[1;33m.\u001b[0m\u001b[0mimread\u001b[0m\u001b[1;33m(\u001b[0m\u001b[0mfname\u001b[0m\u001b[1;33m,\u001b[0m \u001b[0mformat\u001b[0m\u001b[1;33m)\u001b[0m\u001b[1;33m\u001b[0m\u001b[1;33m\u001b[0m\u001b[0m\n\u001b[0m\u001b[0;32m   2062\u001b[0m \u001b[1;33m\u001b[0m\u001b[0m\n\u001b[0;32m   2063\u001b[0m \u001b[1;33m\u001b[0m\u001b[0m\n",
      "\u001b[1;32m~\\anaconda3\\lib\\site-packages\\matplotlib\\image.py\u001b[0m in \u001b[0;36mimread\u001b[1;34m(fname, format)\u001b[0m\n\u001b[0;32m   1472\u001b[0m             \u001b[0mfd\u001b[0m \u001b[1;33m=\u001b[0m \u001b[0mBytesIO\u001b[0m\u001b[1;33m(\u001b[0m\u001b[0mrequest\u001b[0m\u001b[1;33m.\u001b[0m\u001b[0murlopen\u001b[0m\u001b[1;33m(\u001b[0m\u001b[0mfname\u001b[0m\u001b[1;33m)\u001b[0m\u001b[1;33m.\u001b[0m\u001b[0mread\u001b[0m\u001b[1;33m(\u001b[0m\u001b[1;33m)\u001b[0m\u001b[1;33m)\u001b[0m\u001b[1;33m\u001b[0m\u001b[1;33m\u001b[0m\u001b[0m\n\u001b[0;32m   1473\u001b[0m             \u001b[1;32mreturn\u001b[0m \u001b[0m_png\u001b[0m\u001b[1;33m.\u001b[0m\u001b[0mread_png\u001b[0m\u001b[1;33m(\u001b[0m\u001b[0mfd\u001b[0m\u001b[1;33m)\u001b[0m\u001b[1;33m\u001b[0m\u001b[1;33m\u001b[0m\u001b[0m\n\u001b[1;32m-> 1474\u001b[1;33m     \u001b[1;32mwith\u001b[0m \u001b[0mcbook\u001b[0m\u001b[1;33m.\u001b[0m\u001b[0mopen_file_cm\u001b[0m\u001b[1;33m(\u001b[0m\u001b[0mfname\u001b[0m\u001b[1;33m,\u001b[0m \u001b[1;34m\"rb\"\u001b[0m\u001b[1;33m)\u001b[0m \u001b[1;32mas\u001b[0m \u001b[0mfile\u001b[0m\u001b[1;33m:\u001b[0m\u001b[1;33m\u001b[0m\u001b[1;33m\u001b[0m\u001b[0m\n\u001b[0m\u001b[0;32m   1475\u001b[0m         \u001b[1;32mreturn\u001b[0m \u001b[0m_png\u001b[0m\u001b[1;33m.\u001b[0m\u001b[0mread_png\u001b[0m\u001b[1;33m(\u001b[0m\u001b[0mfile\u001b[0m\u001b[1;33m)\u001b[0m\u001b[1;33m\u001b[0m\u001b[1;33m\u001b[0m\u001b[0m\n\u001b[0;32m   1476\u001b[0m \u001b[1;33m\u001b[0m\u001b[0m\n",
      "\u001b[1;32m~\\anaconda3\\lib\\contextlib.py\u001b[0m in \u001b[0;36m__enter__\u001b[1;34m(self)\u001b[0m\n\u001b[0;32m    111\u001b[0m         \u001b[1;32mdel\u001b[0m \u001b[0mself\u001b[0m\u001b[1;33m.\u001b[0m\u001b[0margs\u001b[0m\u001b[1;33m,\u001b[0m \u001b[0mself\u001b[0m\u001b[1;33m.\u001b[0m\u001b[0mkwds\u001b[0m\u001b[1;33m,\u001b[0m \u001b[0mself\u001b[0m\u001b[1;33m.\u001b[0m\u001b[0mfunc\u001b[0m\u001b[1;33m\u001b[0m\u001b[1;33m\u001b[0m\u001b[0m\n\u001b[0;32m    112\u001b[0m         \u001b[1;32mtry\u001b[0m\u001b[1;33m:\u001b[0m\u001b[1;33m\u001b[0m\u001b[1;33m\u001b[0m\u001b[0m\n\u001b[1;32m--> 113\u001b[1;33m             \u001b[1;32mreturn\u001b[0m \u001b[0mnext\u001b[0m\u001b[1;33m(\u001b[0m\u001b[0mself\u001b[0m\u001b[1;33m.\u001b[0m\u001b[0mgen\u001b[0m\u001b[1;33m)\u001b[0m\u001b[1;33m\u001b[0m\u001b[1;33m\u001b[0m\u001b[0m\n\u001b[0m\u001b[0;32m    114\u001b[0m         \u001b[1;32mexcept\u001b[0m \u001b[0mStopIteration\u001b[0m\u001b[1;33m:\u001b[0m\u001b[1;33m\u001b[0m\u001b[1;33m\u001b[0m\u001b[0m\n\u001b[0;32m    115\u001b[0m             \u001b[1;32mraise\u001b[0m \u001b[0mRuntimeError\u001b[0m\u001b[1;33m(\u001b[0m\u001b[1;34m\"generator didn't yield\"\u001b[0m\u001b[1;33m)\u001b[0m \u001b[1;32mfrom\u001b[0m \u001b[1;32mNone\u001b[0m\u001b[1;33m\u001b[0m\u001b[1;33m\u001b[0m\u001b[0m\n",
      "\u001b[1;32m~\\anaconda3\\lib\\site-packages\\matplotlib\\cbook\\__init__.py\u001b[0m in \u001b[0;36mopen_file_cm\u001b[1;34m(path_or_file, mode, encoding)\u001b[0m\n\u001b[0;32m    416\u001b[0m \u001b[1;32mdef\u001b[0m \u001b[0mopen_file_cm\u001b[0m\u001b[1;33m(\u001b[0m\u001b[0mpath_or_file\u001b[0m\u001b[1;33m,\u001b[0m \u001b[0mmode\u001b[0m\u001b[1;33m=\u001b[0m\u001b[1;34m\"r\"\u001b[0m\u001b[1;33m,\u001b[0m \u001b[0mencoding\u001b[0m\u001b[1;33m=\u001b[0m\u001b[1;32mNone\u001b[0m\u001b[1;33m)\u001b[0m\u001b[1;33m:\u001b[0m\u001b[1;33m\u001b[0m\u001b[1;33m\u001b[0m\u001b[0m\n\u001b[0;32m    417\u001b[0m     \u001b[1;34mr\"\"\"Pass through file objects and context-manage `.PathLike`\\s.\"\"\"\u001b[0m\u001b[1;33m\u001b[0m\u001b[1;33m\u001b[0m\u001b[0m\n\u001b[1;32m--> 418\u001b[1;33m     \u001b[0mfh\u001b[0m\u001b[1;33m,\u001b[0m \u001b[0mopened\u001b[0m \u001b[1;33m=\u001b[0m \u001b[0mto_filehandle\u001b[0m\u001b[1;33m(\u001b[0m\u001b[0mpath_or_file\u001b[0m\u001b[1;33m,\u001b[0m \u001b[0mmode\u001b[0m\u001b[1;33m,\u001b[0m \u001b[1;32mTrue\u001b[0m\u001b[1;33m,\u001b[0m \u001b[0mencoding\u001b[0m\u001b[1;33m)\u001b[0m\u001b[1;33m\u001b[0m\u001b[1;33m\u001b[0m\u001b[0m\n\u001b[0m\u001b[0;32m    419\u001b[0m     \u001b[1;32mif\u001b[0m \u001b[0mopened\u001b[0m\u001b[1;33m:\u001b[0m\u001b[1;33m\u001b[0m\u001b[1;33m\u001b[0m\u001b[0m\n\u001b[0;32m    420\u001b[0m         \u001b[1;32mwith\u001b[0m \u001b[0mfh\u001b[0m\u001b[1;33m:\u001b[0m\u001b[1;33m\u001b[0m\u001b[1;33m\u001b[0m\u001b[0m\n",
      "\u001b[1;32m~\\anaconda3\\lib\\site-packages\\matplotlib\\cbook\\__init__.py\u001b[0m in \u001b[0;36mto_filehandle\u001b[1;34m(fname, flag, return_opened, encoding)\u001b[0m\n\u001b[0;32m    401\u001b[0m             \u001b[0mfh\u001b[0m \u001b[1;33m=\u001b[0m \u001b[0mbz2\u001b[0m\u001b[1;33m.\u001b[0m\u001b[0mBZ2File\u001b[0m\u001b[1;33m(\u001b[0m\u001b[0mfname\u001b[0m\u001b[1;33m,\u001b[0m \u001b[0mflag\u001b[0m\u001b[1;33m)\u001b[0m\u001b[1;33m\u001b[0m\u001b[1;33m\u001b[0m\u001b[0m\n\u001b[0;32m    402\u001b[0m         \u001b[1;32melse\u001b[0m\u001b[1;33m:\u001b[0m\u001b[1;33m\u001b[0m\u001b[1;33m\u001b[0m\u001b[0m\n\u001b[1;32m--> 403\u001b[1;33m             \u001b[0mfh\u001b[0m \u001b[1;33m=\u001b[0m \u001b[0mopen\u001b[0m\u001b[1;33m(\u001b[0m\u001b[0mfname\u001b[0m\u001b[1;33m,\u001b[0m \u001b[0mflag\u001b[0m\u001b[1;33m,\u001b[0m \u001b[0mencoding\u001b[0m\u001b[1;33m=\u001b[0m\u001b[0mencoding\u001b[0m\u001b[1;33m)\u001b[0m\u001b[1;33m\u001b[0m\u001b[1;33m\u001b[0m\u001b[0m\n\u001b[0m\u001b[0;32m    404\u001b[0m         \u001b[0mopened\u001b[0m \u001b[1;33m=\u001b[0m \u001b[1;32mTrue\u001b[0m\u001b[1;33m\u001b[0m\u001b[1;33m\u001b[0m\u001b[0m\n\u001b[0;32m    405\u001b[0m     \u001b[1;32melif\u001b[0m \u001b[0mhasattr\u001b[0m\u001b[1;33m(\u001b[0m\u001b[0mfname\u001b[0m\u001b[1;33m,\u001b[0m \u001b[1;34m'seek'\u001b[0m\u001b[1;33m)\u001b[0m\u001b[1;33m:\u001b[0m\u001b[1;33m\u001b[0m\u001b[1;33m\u001b[0m\u001b[0m\n",
      "\u001b[1;31mFileNotFoundError\u001b[0m: [Errno 2] No such file or directory: 'D:\\\\Classes\\\\CSCE320\\\\Project\\\\ChicagoCrimeAnalysis\\\\Location_map_Chicago.png'"
     ]
    }
   ],
   "source": [
    "chicagoMap = plt.imread('D:\\Classes\\CSCE320\\Project\\ChicagoCrimeAnalysis\\Location_map_Chicago.png')\n",
    "\n",
    "fig, ax = plt.subplots(figsize = (8,7))\n",
    "\n",
    "ax.scatter(df['Longitude'],df['Latitude'], zorder=1, alpha=0.2,c='b',s=10)\n",
    "\n",
    "\n",
    "ax.set_xlim(BBox[0],BBox[1])\n",
    "ax.set_ylim(BBox[2],BBox[3])\n",
    "\n",
    "\n",
    "\n",
    "ax.imshow(chicagoMap, zorder=0, extent = BBox, aspect= 'equal')"
   ]
  },
  {
   "cell_type": "code",
   "execution_count": 25,
   "metadata": {},
   "outputs": [],
   "source": [
    "from ipywidgets import IntSlider\n",
    "from ipywidgets import interact, interactive, fixed, interact_manual\n",
    "import ipywidgets as widgets\n"
   ]
  },
  {
   "cell_type": "code",
   "execution_count": 26,
   "metadata": {},
   "outputs": [
    {
     "name": "stdout",
     "output_type": "stream",
     "text": [
      "[[ 0.  0.  0. ...  1.  0.  0.]\n",
      " [ 0.  0.  0. ... 46.  0.  0.]\n",
      " [ 0.  0.  0. ... 33.  0.  0.]\n",
      " ...\n",
      " [ 0.  0.  0. ...  0.  0.  0.]\n",
      " [ 0.  0.  2. ...  0.  0.  0.]\n",
      " [33.  0.  0. ...  0.  0.  0.]]\n"
     ]
    },
    {
     "data": {
      "image/png": "[encoded data removed]",
      "text/plain": [
       "<Figure size 432x288 with 1 Axes>"
      ]
     },
     "metadata": {
      "needs_background": "light"
     },
     "output_type": "display_data"
    }
   ],
   "source": [
    "import numpy as np\n",
    "import matplotlib.cm as cm\n",
    "from scipy.ndimage.filters import gaussian_filter\n",
    "import matplotlib.pyplot as plt\n",
    "%matplotlib inline\n",
    "\n",
    "df = df[df['Latitude']>41.8096]\n",
    "df = df[df['Latitude']<41.9653]\n",
    "df = df[df['Longitude']>-87.7738]\n",
    "df = df[df['Longitude']<-87.5658]\n",
    "\n",
    "y = df.loc[:, 'Latitude'].tolist()\n",
    "x = df.loc[:, 'Longitude'].tolist()\n",
    "\n",
    "heatmap, xedges, yedges = np.histogram2d(x,y,bins=1000)\n",
    "print(heatmap)\n",
    "extent = [xedges[0], xedges[-1], yedges[0], yedges[-1]]\n",
    "heatmap = gaussian_filter(heatmap, sigma=4)\n",
    "\n",
    "plt.clf()\n",
    "plt.imshow(heatmap.T, extent=extent, origin='lower')\n",
    "plt.show()"
   ]
  },
  {
   "cell_type": "code",
   "execution_count": 102,
   "metadata": {
    "scrolled": false
   },
   "outputs": [
    {
     "name": "stdout",
     "output_type": "stream",
     "text": [
      "               ID Case Number                    Date  \\\n",
      "63291    11665567    JC234307  04/10/2019 04:37:00 PM   \n",
      "63376    11667963    JC235212  04/12/2019 04:08:00 PM   \n",
      "63377    11667968    JC237058  04/19/2019 01:57:00 PM   \n",
      "63453    11668309    JC238187  04/25/2019 05:20:00 PM   \n",
      "63857    11692179    JC261724  05/13/2019 05:26:00 PM   \n",
      "...           ...         ...                     ...   \n",
      "7221318   9999999    HY189683  03/18/2015 05:08:00 PM   \n",
      "7221319  11700037    JC278815  05/26/2019 12:10:00 AM   \n",
      "7221321  11700926    JC279725  05/26/2019 05:13:00 PM   \n",
      "7221322     24560    JC279072  05/26/2019 06:48:00 AM   \n",
      "7221325     24559    JC278908  05/26/2019 02:11:00 AM   \n",
      "\n",
      "                                       Block  IUCR  \\\n",
      "63291                     102XX S VERNON AVE  1562   \n",
      "63376                     032XX N KEELER AVE  1754   \n",
      "63377                    002XX N LARAMIE AVE  1752   \n",
      "63453    108XX S DR MARTIN LUTHER KING JR DR  0486   \n",
      "63857                     090XX S RACINE AVE  0560   \n",
      "...                                      ...   ...   \n",
      "7221318                  043XX N CENTRAL AVE  0560   \n",
      "7221319                  046XX W MC LEAN AVE  0460   \n",
      "7221321                 036XX W DOUGLAS BLVD  2825   \n",
      "7221322                  013XX W HASTINGS ST  0110   \n",
      "7221325                  013XX W HASTINGS ST  0110   \n",
      "\n",
      "                       Primary Type  \\\n",
      "63291                   SEX OFFENSE   \n",
      "63376    OFFENSE INVOLVING CHILDREN   \n",
      "63377    OFFENSE INVOLVING CHILDREN   \n",
      "63453                       BATTERY   \n",
      "63857                       ASSAULT   \n",
      "...                             ...   \n",
      "7221318                     ASSAULT   \n",
      "7221319                     BATTERY   \n",
      "7221321               OTHER OFFENSE   \n",
      "7221322                    HOMICIDE   \n",
      "7221325                    HOMICIDE   \n",
      "\n",
      "                                               Description  \\\n",
      "63291                     AGGRAVATED CRIMINAL SEXUAL ABUSE   \n",
      "63376                       AGG SEX ASSLT OF CHILD FAM MBR   \n",
      "63377    AGGRAVATED CRIMINAL SEXUAL ABUSE BY FAMILY MEMBER   \n",
      "63453                              DOMESTIC BATTERY SIMPLE   \n",
      "63857                                               SIMPLE   \n",
      "...                                                    ...   \n",
      "7221318                                             SIMPLE   \n",
      "7221319                                             SIMPLE   \n",
      "7221321                            HARASSMENT BY TELEPHONE   \n",
      "7221322                                FIRST DEGREE MURDER   \n",
      "7221325                                FIRST DEGREE MURDER   \n",
      "\n",
      "             Location Description  Arrest  Domestic  ...  X Coordinate  \\\n",
      "63291    SCHOOL - PUBLIC BUILDING   False     False  ...     1181051.0   \n",
      "63376                   RESIDENCE   False      True  ...     1147835.0   \n",
      "63377                   RESIDENCE   False      True  ...     1141669.0   \n",
      "63453                   RESIDENCE   False      True  ...     1180832.0   \n",
      "63857                      STREET   False     False  ...     1169908.0   \n",
      "...                           ...     ...       ...  ...           ...   \n",
      "7221318                RESTAURANT    True     False  ...     1138222.0   \n",
      "7221319                 RESIDENCE    True     False  ...     1145043.0   \n",
      "7221321                 APARTMENT   False      True  ...     1152126.0   \n",
      "7221322           CHA PARKING LOT    True     False  ...     1167752.0   \n",
      "7221325                    STREET   False     False  ...     1167746.0   \n",
      "\n",
      "         Y Coordinate  Year              Updated On   Latitude  Longitude  \\\n",
      "63291       1837225.0  2019  04/17/2020 03:50:24 PM  41.708589 -87.612583   \n",
      "63376       1921408.0  2019  10/02/2019 04:13:24 PM  41.940298 -87.732066   \n",
      "63377       1901165.0  2019  03/18/2020 03:52:17 PM  41.884865 -87.755230   \n",
      "63453       1833222.0  2019  06/30/2019 03:56:27 PM  41.697609 -87.613508   \n",
      "63857       1844927.0  2019  06/30/2019 03:56:27 PM  41.729973 -87.653167   \n",
      "...               ...   ...                     ...        ...        ...   \n",
      "7221318     1928502.0  2015  02/10/2018 03:50:01 PM  41.959944 -87.767226   \n",
      "7221319     1913219.0  2019  06/30/2019 03:56:27 PM  41.917879 -87.742535   \n",
      "7221321     1893208.0  2019  06/30/2019 03:56:27 PM  41.862830 -87.717040   \n",
      "7221322     1893853.0  2019  06/20/2020 03:48:45 PM  41.864278 -87.659660   \n",
      "7221325     1893853.0  2019  06/20/2020 03:48:45 PM  41.864278 -87.659682   \n",
      "\n",
      "                              Location  Month Day  Violent  \n",
      "63291       (41.708589, -87.612583094)      4  10    False  \n",
      "63376    (41.940297617, -87.732066473)      4  12    False  \n",
      "63377    (41.884865037, -87.755230327)      4  19    False  \n",
      "63453    (41.697609261, -87.613507612)      4  25     True  \n",
      "63857    (41.729973132, -87.653166753)      5  13     True  \n",
      "...                                ...    ...  ..      ...  \n",
      "7221318  (41.959943835, -87.767225719)      3  18     True  \n",
      "7221319  (41.917879493, -87.742535496)      5  26     True  \n",
      "7221321  (41.862830429, -87.717040084)      5  26    False  \n",
      "7221322  (41.864278228, -87.659660218)      5  26     True  \n",
      "7221325  (41.864278357, -87.659682244)      5  26     True  \n",
      "\n",
      "[7144492 rows x 25 columns]\n"
     ]
    }
   ],
   "source": [
    "\n",
    "\n",
    "types = ['All']\n",
    "types += data['Primary Type'].value_counts().index.tolist()\n",
    "\n",
    "\n",
    "\n",
    "df['Month'] = df['Date'].apply(lambda x: int(x.split(\"/\")[0]))\n",
    "df['Day'] = df ['Date'].apply(lambda x: int(x.split(\"/\")[1]))\n",
    "df['Violent'] = df['Primary Type'].apply(lambda x: x in violent_crime)\n",
    "print(df)"
   ]
  },
  {
   "cell_type": "code",
   "execution_count": 94,
   "metadata": {},
   "outputs": [],
   "source": [
    "opt =[]\n",
    "for i in range(2001,2021):\n",
    "    opt.append(str(i))"
   ]
  },
  {
   "cell_type": "code",
   "execution_count": 88,
   "metadata": {},
   "outputs": [
    {
     "data": {
      "application/vnd.jupyter.widget-view+json": {
       "model_id": "6a311f445a5e4f6a92dddc265dec8f07",
       "version_major": 2,
       "version_minor": 0
      },
      "text/plain": [
       "HBox(children=(Dropdown(description='Type:', options=('All', 'THEFT', 'BATTERY', 'CRIMINAL DAMAGE', 'NARCOTICS…"
      ]
     },
     "metadata": {},
     "output_type": "display_data"
    },
    {
     "data": {
      "application/vnd.jupyter.widget-view+json": {
       "model_id": "c8ce61c4375e4885a9bf820b1f8d3bfd",
       "version_major": 2,
       "version_minor": 0
      },
      "text/plain": [
       "Output()"
      ]
     },
     "metadata": {},
     "output_type": "display_data"
    }
   ],
   "source": [
    "\n",
    "optMonth = ['none']\n",
    "optDay = ['none']\n",
    "for i in range (1, 31):\n",
    "    optDay.append(str(i))\n",
    "    if (i < 13):\n",
    "        optMonth.append(str(i))\n",
    "    \n",
    "typeDrop = widgets.Dropdown(\n",
    "    options=types,\n",
    "    value='All',\n",
    "    description='Type:'\n",
    ")\n",
    "\n",
    "monthDrop = widgets.Dropdown (\n",
    "    options= optMonth,\n",
    "    value='none',\n",
    "    description='Month:'\n",
    ")\n",
    "\n",
    "drop = widgets.Dropdown(\n",
    "    options=opt,\n",
    "    value='2019',\n",
    "    description='Year:'\n",
    ")\n",
    "\n",
    "drop2 = widgets.Dropdown(\n",
    "    options=opt,\n",
    "    value='2020',\n",
    "    description='Year:'\n",
    ")\n",
    "\n",
    "\n",
    "yr1 = drop\n",
    "month = monthDrop\n",
    "cmpr = widgets.Checkbox(description='Compare')\n",
    "yr2 = drop2\n",
    "ui = widgets.HBox([typeDrop, month, yr1, cmpr,yr2])\n",
    "\n",
    "def f(typeOf, month, year1, compare, year2):\n",
    "    \n",
    "    dfYear = df[df['Year'] == int(year1)]\n",
    "    \n",
    "    if typeOf != 'All':\n",
    "            dfYear = dfYear[dfYear['Primary Type'] == typeOf]\n",
    "    if month != 'none':\n",
    "            dfYear = dfYear[dfYear['Month'] == int(month)]\n",
    "\n",
    "    crime_types = dfYear['Primary Type'].value_counts().index.tolist()\n",
    "    crime_types_count = dfYear['Primary Type'].value_counts()\n",
    "    \n",
    "    title = year1 + \" Type of Crime\"\n",
    "    \n",
    "    if compare == True:\n",
    "\n",
    "        title = year1 + \" vs. \" + year2+\" Type of Crime\"\n",
    "        dfYear2 = df[df['Year'] == int(year2)]\n",
    "        \n",
    "        if typeOf != 'All':\n",
    "            dfYear2 = dfYear2[dfYear2['Primary Type'] == typeOf]\n",
    "            \n",
    "        crime_types2 = dfYear2['Primary Type'].value_counts().index.tolist()\n",
    "        crime_types_count2 = dfYear2['Primary Type'].value_counts()\n",
    "        \n",
    "        fig,ax = plt.subplots(figsize=(8,7))\n",
    "        ax.set_title(title)\n",
    "        ax.barh(crime_types,crime_types_count,color = 'b',label=year1)\n",
    "        ax.barh(crime_types2,crime_types_count2,color = 'r',label=year2)\n",
    "#         ax.set_xticks(rotation=0)\n",
    "        ax.invert_yaxis()\n",
    "        ax.legend(loc='lower right')\n",
    "        plt.show()\n",
    "    else:\n",
    "\n",
    "        plt.figure(figsize=(8,7))\n",
    "        plt.title(title)\n",
    "        plt.barh(crime_types,crime_types_count)\n",
    "        plt.xticks(rotation=0)\n",
    "        plt.gca().invert_yaxis()\n",
    "        for index, value in enumerate(crime_types_count):\n",
    "            plt.text(value, index, str(value))\n",
    "        plt.show()\n",
    "    \n",
    "#     if compare == True:\n",
    "#         interact(f, year1=drop, compare=False,year2)\n",
    "\n",
    "    \n",
    "#interact(f, year=drop, compare=False)\n",
    "out = widgets.interactive_output(f, {'typeOf': typeDrop, 'month': month, 'year1': yr1, 'compare' : cmpr, 'year2':yr2})\n",
    "\n",
    "\n",
    "display(ui,out)"
   ]
  },
  {
   "cell_type": "code",
   "execution_count": 56,
   "metadata": {},
   "outputs": [
    {
     "name": "stderr",
     "output_type": "stream",
     "text": [
      "WARNING:root:Requests made without an app_token will be subject to strict throttling limits.\n"
     ]
    }
   ],
   "source": [
    "# Snippet from: https://dev.socrata.com/foundry/data.cityofchicago.org/d62x-nvdr\n",
    "from sodapy import Socrata\n",
    "# Unauthenticated client only works with public data sets. Note 'None'\n",
    "# in place of application token, and no username or password:\n",
    "client = Socrata(\"data.cityofchicago.org\", None)\n",
    "\n",
    "# Example authenticated client (needed for non-public datasets):\n",
    "# client = Socrata(data.cityofchicago.org,\n",
    "#                  MyAppToken,\n",
    "#                  userame=\"user@example.com\",\n",
    "#                  password=\"AFakePassword\")\n",
    "\n",
    "# results returned as JSON from API / converted to Python list of\n",
    "# dictionaries by sodapy.\n",
    "\n",
    "\n",
    "\n",
    "# Convert to pandas DataFrame\n",
    "crimes_df = pd.DataFrame.from_records(crimes)\n",
    "\n",
    "# Population of Chicago 2020 = 2694240"
   ]
  },
  {
   "cell_type": "code",
   "execution_count": 109,
   "metadata": {},
   "outputs": [
    {
     "data": {
      "application/vnd.jupyter.widget-view+json": {
       "model_id": "3e83d9581f0a4c5bbecd0c0d09d83bb6",
       "version_major": 2,
       "version_minor": 0
      },
      "text/plain": [
       "HBox(children=(Dropdown(description='Year:', index=18, options=('2001', '2002', '2003', '2004', '2005', '2006'…"
      ]
     },
     "metadata": {},
     "output_type": "display_data"
    },
    {
     "data": {
      "application/vnd.jupyter.widget-view+json": {
       "model_id": "b523968449274052b5666a1e4e3851e4",
       "version_major": 2,
       "version_minor": 0
      },
      "text/plain": [
       "Output()"
      ]
     },
     "metadata": {},
     "output_type": "display_data"
    }
   ],
   "source": [
    "\n",
    "drop = widgets.Dropdown(\n",
    "    options=opt,\n",
    "    value='2019',\n",
    "    description='Year:'\n",
    ")\n",
    "drop2 = widgets.Dropdown(\n",
    "    options=optMonth,\n",
    "    value='none',\n",
    "    description='Month:'\n",
    ")\n",
    "drop3 = widgets.Dropdown(\n",
    "    options=['yes', 'no', 'both'],\n",
    "    value='both',\n",
    "    description='Violent Crimes:'\n",
    ")\n",
    "year = drop\n",
    "month = drop2\n",
    "violent = drop3\n",
    "ui = widgets.HBox([year, month, violent])\n",
    "\n",
    "def f2(year, month, violent):\n",
    "    dfYear = df[df['Year'] == int(year)]\n",
    "    month_names = ['Jan', 'Feb', 'Mar', 'Apr', 'May', 'Jun', 'Jul', 'Aug', 'Sep', 'Oct', 'Nov', 'Dec']\n",
    "    if (violent == 'yes'):\n",
    "        dfYear = dfYear[dfYear['Violent']]\n",
    "    elif (violent == 'no'):\n",
    "        dfYear = dfYear[dfYear['Violent'] == False]\n",
    "        \n",
    "    if (month == 'none') :\n",
    "        count = []\n",
    "        for i in range(1,13):\n",
    "            dfMonth = dfYear[dfYear['Month'] == i]\n",
    "\n",
    "    #     crime_types = dfMonth['Primary Type'].value_counts().index.tolist()\n",
    "            total_count = sum(dfMonth['Primary Type'].value_counts().tolist())\n",
    "            count.append(total_count)\n",
    "        \n",
    "        \n",
    "        title = \"total crime per month in \" + year\n",
    "        plt.figure(figsize=(8,7))\n",
    "        plt.title(title)\n",
    "        plt.barh(month_names,count)\n",
    "        plt.xticks(rotation=0)\n",
    "        plt.gca().invert_yaxis()\n",
    "        for index, value in enumerate(count):\n",
    "            plt.text(value, index, str(value))\n",
    "        plt.show()\n",
    "    else :\n",
    "        dfMonth = dfYear[dfYear['Month'] == int(month)]\n",
    "        bday = dfMonth['Day'].unique().max()\n",
    "        count = []\n",
    "        days = []\n",
    "        for i in range(1, bday + 1):\n",
    "            days.append(str(i))\n",
    "            dfDay = dfMonth[dfMonth['Day'] == i]\n",
    "            total_count = sum(dfDay['Primary Type'].value_counts().tolist())\n",
    "            count.append(total_count)\n",
    "        title = \"total crime per day in \" + month_names[int(month) - 1] + \", \" +  year\n",
    "        plt.figure(figsize=(10,12))\n",
    "        plt.title(title)\n",
    "        plt.barh(days,count)\n",
    "        plt.xticks(rotation=0)\n",
    "        plt.gca().invert_yaxis()\n",
    "        for index, value in enumerate(count):\n",
    "            plt.text(value, index, str(value))\n",
    "        plt.show()\n",
    "\n",
    "out = widgets.interactive_output(f2, {'year': year, 'month': month, 'violent': violent})\n",
    "display(ui,out)\n"
   ]
  },
  {
   "cell_type": "markdown",
   "metadata": {},
   "source": [
    "# Question: Can we predict what location most crime will happen in future years?\n",
    "## Method: Clustering\n",
    "\n",
    "In order for us to predict where crime will happen we will use a clustering algorithm called K means. \n",
    "\n",
    "We will use data from the years 2014 to 2018 to try and predict where crime will happen in future years. Then we will use the data from the year 2019 to see how accurate our model is. \n",
    "\n",
    "But first we need to find out what is the ideal number of clusters we should use for our clustering algorithm. For this we opted to use the silhouette method which measures how similar a point is to its own cluster compared to other cluster"
   ]
  },
  {
   "cell_type": "markdown",
   "metadata": {},
   "source": [
    "# The Silhouette Method\n",
    "As you can see below, the silhoutte method tells us that the most optimal number of clusters is 9. we should note that we used the data from 2018 only and that we only tested cluster sizes from 3 to 15 so there could be a more optimal number of clusters since the graph appears to be increasing towards the end, but due to time constrains and the silhoutte algorithm take a really long time to evaluate each cluster size, we have opted to just go with 9 clusters which is indicated by the \"global\" maximum.\n",
    "\n",
    "Note: we only included a screenshot of the code since we ran it in another notebook and it took 2 hours to run so we didn't want to waste another 2 hours running it in this notebook"
   ]
  },
  {
   "cell_type": "markdown",
   "metadata": {},
   "source": [
    "![title](sil.png)"
   ]
  },
  {
   "cell_type": "markdown",
   "metadata": {},
   "source": [
    "# Clustering\n",
    "\n",
    "In this section we run the k means clustering algorithm on a data set containing points for the years 2014 to 2018."
   ]
  },
  {
   "cell_type": "code",
   "execution_count": 8,
   "metadata": {},
   "outputs": [],
   "source": [
    "import pandas as pd\n",
    "from sklearn.cluster import KMeans\n",
    "import numpy as np\n",
    "import matplotlib.pyplot as plt"
   ]
  },
  {
   "cell_type": "markdown",
   "metadata": {},
   "source": [
    "## Data cleaning"
   ]
  },
  {
   "cell_type": "code",
   "execution_count": 13,
   "metadata": {},
   "outputs": [
    {
     "name": "stderr",
     "output_type": "stream",
     "text": [
      "D:\\Anaconda\\lib\\site-packages\\IPython\\core\\interactiveshell.py:3071: DtypeWarning: Columns (21) have mixed types.Specify dtype option on import or set low_memory=False.\n",
      "  has_raised = await self.run_ast_nodes(code_ast.body, cell_name,\n"
     ]
    }
   ],
   "source": [
    "data = pd.read_csv(\"D:\\Classes\\CSCE320\\Project\\Crimes_-_2001_to_Present.csv\")\n",
    "\n",
    "df = data[data['Year'] < 2019]\n",
    "df = df[df['Year'] > 2013]\n",
    "df = df[df['Latitude'].notna()]\n",
    "df = df[df['Longitude'].notna()]\n",
    "\n",
    "df = df[df['Latitude'] > 40]\n",
    "df = df[df['Longitude'] > -91]\n",
    "\n",
    "latlon16To18 = df[['Latitude', 'Longitude']].copy()"
   ]
  },
  {
   "cell_type": "markdown",
   "metadata": {},
   "source": [
    "## Running Kmeans"
   ]
  },
  {
   "cell_type": "code",
   "execution_count": 14,
   "metadata": {},
   "outputs": [],
   "source": [
    "kmeans = KMeans(n_clusters = 9).fit(latlon16To18)\n",
    "centroids = kmeans.cluster_centers_\n",
    "labels = kmeans.labels_\n",
    "counts = np.bincount(labels[labels>=0])"
   ]
  },
  {
   "cell_type": "code",
   "execution_count": 27,
   "metadata": {},
   "outputs": [
    {
     "data": {
      "image/png": "[encoded data removed]",
      "text/plain": [
       "<Figure size 432x288 with 1 Axes>"
      ]
     },
     "metadata": {
      "needs_background": "light"
     },
     "output_type": "display_data"
    }
   ],
   "source": [
    "plt.scatter(latlon16To18['Longitude'], latlon16To18['Latitude'], c= kmeans.labels_.astype(float), s=50, alpha=0.5)\n",
    "plt.scatter(centroids[:, 1], centroids[:, 0], c='red', s=counts/400)\n",
    "plt.title('2014 - 2018 Clusters')\n",
    "plt.ylabel('Latitude')\n",
    "plt.xlabel('Longitude')\n",
    "plt.show()"
   ]
  },
  {
   "cell_type": "code",
   "execution_count": 35,
   "metadata": {},
   "outputs": [
    {
     "name": "stdout",
     "output_type": "stream",
     "text": [
      "Counts per centroud:  [119575 167088 201853 133504 148094 120786  49165 209249 177900] \n",
      " centorid coordinates [[ 41.7824346  -87.7060526 ]\n",
      " [ 41.9060605  -87.74583147]\n",
      " [ 41.88770116 -87.6403326 ]\n",
      " [ 41.74432662 -87.57567268]\n",
      " [ 41.96995457 -87.67979708]\n",
      " [ 41.70325497 -87.63794773]\n",
      " [ 41.96169334 -87.80215379]\n",
      " [ 41.78517085 -87.63388883]\n",
      " [ 41.87212362 -87.70793415]]\n"
     ]
    }
   ],
   "source": [
    "print(\"Counts per centroud: \",counts,\"\\n centorid coordinates\", centroids)"
   ]
  },
  {
   "cell_type": "markdown",
   "metadata": {},
   "source": [
    "# Clustering Results\n",
    "\n",
    "As we can see, our clustering algorithm predicted that most of the crime will happen around longitude and latitude coordinates of (41.78517085, -87.63388883),  (41.88770116, -87.6403326), and (41.87212362. -87.70793415) in that order. This is evident by using the cluster centers and the amount of points that each cluster contains"
   ]
  },
  {
   "cell_type": "markdown",
   "metadata": {},
   "source": [
    "# Evaluating our clusters\n",
    "\n",
    "To evaluate how good our prediction is we will use the data of 2019 and run the same clustering algorithm and compare out prediction with the actual data of 2019. This should give us an idea of just how close we were to actually predicting future crime using past years."
   ]
  },
  {
   "cell_type": "markdown",
   "metadata": {},
   "source": [
    "## More data cleaning"
   ]
  },
  {
   "cell_type": "code",
   "execution_count": 17,
   "metadata": {},
   "outputs": [],
   "source": [
    "df2 = data[data['Year'] == 2019]\n",
    "df2 = df[df['Latitude'].notna()]\n",
    "df2 = df[df['Longitude'].notna()]\n",
    "\n",
    "df2 = df[df['Latitude'] > 40]\n",
    "df2 = df[df['Longitude'] > -91]\n",
    "\n",
    "latlon19 = df2[['Latitude', 'Longitude']].copy()"
   ]
  },
  {
   "cell_type": "markdown",
   "metadata": {},
   "source": [
    "## Running Kmeans"
   ]
  },
  {
   "cell_type": "code",
   "execution_count": 18,
   "metadata": {},
   "outputs": [],
   "source": [
    "kmeans2 = KMeans(n_clusters = 9).fit(latlon19)\n",
    "centroids2 = kmeans2.cluster_centers_\n",
    "labels2 = kmeans2.labels_\n",
    "counts2 = np.bincount(labels2[labels2>=0])"
   ]
  },
  {
   "cell_type": "code",
   "execution_count": 34,
   "metadata": {},
   "outputs": [
    {
     "name": "stdout",
     "output_type": "stream",
     "text": [
      "Counts per centroud:  [181682 209265 200952 119977 149577 120540  48521 163270 133430] \n",
      " centorid coordinates [[ 41.8732188  -87.70809948]\n",
      " [ 41.78491081 -87.63389946]\n",
      " [ 41.88731398 -87.64007232]\n",
      " [ 41.78274463 -87.70596916]\n",
      " [ 41.96946616 -87.67997031]\n",
      " [ 41.70308788 -87.63792428]\n",
      " [ 41.96216377 -87.80260369]\n",
      " [ 41.90608327 -87.747082  ]\n",
      " [ 41.7443002  -87.57563783]]\n"
     ]
    }
   ],
   "source": [
    "print(\"Counts per centroud: \",counts2,\"\\n centorid coordinates\", centroids2)"
   ]
  },
  {
   "cell_type": "code",
   "execution_count": 32,
   "metadata": {},
   "outputs": [
    {
     "data": {
      "image/png": "[encoded data removed]",
      "text/plain": [
       "<Figure size 432x288 with 1 Axes>"
      ]
     },
     "metadata": {
      "needs_background": "light"
     },
     "output_type": "display_data"
    }
   ],
   "source": [
    "plt.scatter(latlon19['Longitude'], latlon19['Latitude'], c= kmeans.labels_.astype(float), s=50, alpha=0.5)\n",
    "plt.scatter(centroids2[:, 1], centroids2[:, 0], c='blue', s=counts2/400, label='2019 Centorids')\n",
    "plt.scatter(centroids[:, 1], centroids[:, 0], c='red', s=counts/1200, label='2014-2018 Centorids')\n",
    "\n",
    "plt.title('2019 Clusters Vs. Our Predicted Cluster Centers')\n",
    "plt.ylabel('Latitude')\n",
    "plt.xlabel('Longitude')\n",
    "\n",
    "plt.legend(loc='best')\n",
    "\n",
    "plt.show()\n"
   ]
  },
  {
   "cell_type": "markdown",
   "metadata": {},
   "source": [
    "# Results\n",
    "\n",
    "Looking at the graph above we can see that our predicted cluster centers are not far off from the actual data from 2019. From the points we got from our first model we predicted that most crime will happen around **the interection of West Jackson Boulevard and South Dearborn Street**. Our 2019 model confirmed this to be the case since both values are only off by a little bit.\n",
    "\n"
   ]
  }
 ],
 "metadata": {
  "kernelspec": {
   "display_name": "Python 3",
   "language": "python",
   "name": "python3"
  },
  "language_info": {
   "codemirror_mode": {
    "name": "ipython",
    "version": 3
   },
   "file_extension": ".py",
   "mimetype": "text/x-python",
   "name": "python",
   "nbconvert_exporter": "python",
   "pygments_lexer": "ipython3",
   "version": "3.8.3"
  }
 },
 "nbformat": 4,
 "nbformat_minor": 4
}
